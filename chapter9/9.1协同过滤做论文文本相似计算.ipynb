{
 "cells": [
  {
   "cell_type": "code",
   "execution_count": 1,
   "metadata": {
    "collapsed": true
   },
   "outputs": [],
   "source": [
    "import pandas as pd\n",
    "import numpy as np"
   ]
  },
  {
   "cell_type": "code",
   "execution_count": 2,
   "outputs": [],
   "source": [
    "data_root = 'feature_engineering/dataset/mag_papers/'"
   ],
   "metadata": {
    "collapsed": false,
    "pycharm": {
     "name": "#%%\n"
    }
   }
  },
  {
   "cell_type": "code",
   "execution_count": 5,
   "outputs": [
    {
     "data": {
      "text/plain": "           id                                              title  \\\n0   100000002  Electron Spin Resonance Investigations of Oxyg...   \n1  1000000047                             建筑物地基沉降的灰色模型GM（1，1）预测法   \n2  1000000056                                    “民情日记”消除干群“空心层”   \n3  1000000068  Telephone interface controller for unattended ...   \n4  1000000079                                2—羟基—2—甲基—1—苯基丙酮的合成   \n\n                                             authors  \\\n0  [{'name': 'Ronald P. Mason', 'id': '2105522006...   \n1              [{'name': '侯晓亮', 'id': '2400277081'}]   \n2              [{'name': '张冬梅', 'id': '2405201566'}]   \n3  [{'name': 'Edward D. Smith', 'id': '2103953395'}]   \n4  [{'name': '胡应喜', 'id': '2659645928'}, {'name':...   \n\n                                               venue    year  n_citation  \\\n0  {'raw': 'Basic life sciences', 'id': '27556866...  1988.0         7.0   \n1                                    {'raw': '安徽建筑'}  2006.0         0.0   \n2                                    {'raw': '兵团工运'}  2010.0         0.0   \n3                                                NaN  1981.0         4.0   \n4                                    {'raw': '化学世界'}  2001.0         0.0   \n\n  page_start page_end doc_type             publisher volume issue  \\\n0         21       27  Journal  Springer, Boston, MA     49         \n1        143      143                                    13     6   \n2         46       46                                           5   \n3                       Patent                                      \n4        203      205                                    42     4   \n\n                           doi  \n0  10.1007/978-1-4684-5568-7_3  \n1                          NaN  \n2                          NaN  \n3                          NaN  \n4                          NaN  ",
      "text/html": "<div>\n<style scoped>\n    .dataframe tbody tr th:only-of-type {\n        vertical-align: middle;\n    }\n\n    .dataframe tbody tr th {\n        vertical-align: top;\n    }\n\n    .dataframe thead th {\n        text-align: right;\n    }\n</style>\n<table border=\"1\" class=\"dataframe\">\n  <thead>\n    <tr style=\"text-align: right;\">\n      <th></th>\n      <th>id</th>\n      <th>title</th>\n      <th>authors</th>\n      <th>venue</th>\n      <th>year</th>\n      <th>n_citation</th>\n      <th>page_start</th>\n      <th>page_end</th>\n      <th>doc_type</th>\n      <th>publisher</th>\n      <th>volume</th>\n      <th>issue</th>\n      <th>doi</th>\n    </tr>\n  </thead>\n  <tbody>\n    <tr>\n      <th>0</th>\n      <td>100000002</td>\n      <td>Electron Spin Resonance Investigations of Oxyg...</td>\n      <td>[{'name': 'Ronald P. Mason', 'id': '2105522006...</td>\n      <td>{'raw': 'Basic life sciences', 'id': '27556866...</td>\n      <td>1988.0</td>\n      <td>7.0</td>\n      <td>21</td>\n      <td>27</td>\n      <td>Journal</td>\n      <td>Springer, Boston, MA</td>\n      <td>49</td>\n      <td></td>\n      <td>10.1007/978-1-4684-5568-7_3</td>\n    </tr>\n    <tr>\n      <th>1</th>\n      <td>1000000047</td>\n      <td>建筑物地基沉降的灰色模型GM（1，1）预测法</td>\n      <td>[{'name': '侯晓亮', 'id': '2400277081'}]</td>\n      <td>{'raw': '安徽建筑'}</td>\n      <td>2006.0</td>\n      <td>0.0</td>\n      <td>143</td>\n      <td>143</td>\n      <td></td>\n      <td></td>\n      <td>13</td>\n      <td>6</td>\n      <td>NaN</td>\n    </tr>\n    <tr>\n      <th>2</th>\n      <td>1000000056</td>\n      <td>“民情日记”消除干群“空心层”</td>\n      <td>[{'name': '张冬梅', 'id': '2405201566'}]</td>\n      <td>{'raw': '兵团工运'}</td>\n      <td>2010.0</td>\n      <td>0.0</td>\n      <td>46</td>\n      <td>46</td>\n      <td></td>\n      <td></td>\n      <td></td>\n      <td>5</td>\n      <td>NaN</td>\n    </tr>\n    <tr>\n      <th>3</th>\n      <td>1000000068</td>\n      <td>Telephone interface controller for unattended ...</td>\n      <td>[{'name': 'Edward D. Smith', 'id': '2103953395'}]</td>\n      <td>NaN</td>\n      <td>1981.0</td>\n      <td>4.0</td>\n      <td></td>\n      <td></td>\n      <td>Patent</td>\n      <td></td>\n      <td></td>\n      <td></td>\n      <td>NaN</td>\n    </tr>\n    <tr>\n      <th>4</th>\n      <td>1000000079</td>\n      <td>2—羟基—2—甲基—1—苯基丙酮的合成</td>\n      <td>[{'name': '胡应喜', 'id': '2659645928'}, {'name':...</td>\n      <td>{'raw': '化学世界'}</td>\n      <td>2001.0</td>\n      <td>0.0</td>\n      <td>203</td>\n      <td>205</td>\n      <td></td>\n      <td></td>\n      <td>42</td>\n      <td>4</td>\n      <td>NaN</td>\n    </tr>\n  </tbody>\n</table>\n</div>"
     },
     "execution_count": 5,
     "metadata": {},
     "output_type": "execute_result"
    }
   ],
   "source": [
    "all_data = pd.read_json(data_root+'mag_papers_0.txt',lines=True)\n",
    "all_data.head()"
   ],
   "metadata": {
    "collapsed": false,
    "pycharm": {
     "name": "#%%\n"
    }
   }
  },
  {
   "cell_type": "code",
   "execution_count": 6,
   "outputs": [
    {
     "data": {
      "text/plain": "(21406986, 13)"
     },
     "execution_count": 6,
     "metadata": {},
     "output_type": "execute_result"
    }
   ],
   "source": [
    "all_data.shape"
   ],
   "metadata": {
    "collapsed": false,
    "pycharm": {
     "name": "#%%\n"
    }
   }
  },
  {
   "cell_type": "code",
   "execution_count": 9,
   "outputs": [
    {
     "data": {
      "text/plain": "(20000, 13)"
     },
     "execution_count": 9,
     "metadata": {},
     "output_type": "execute_result"
    }
   ],
   "source": [
    "# 对title进行去重\n",
    "model_df = sub_data.drop_duplicates(subset='title',keep='first')\n",
    "model_df.shape"
   ],
   "metadata": {
    "collapsed": false,
    "pycharm": {
     "name": "#%%\n"
    }
   }
  },
  {
   "cell_type": "code",
   "execution_count": null,
   "outputs": [],
   "source": [
    "# 筛选出英文文本 删除无用列\n",
    "model_df = model_df[model_df['lang'] == 'en'].drop[\n",
    "    ['doc_type', 'doi', 'id', 'issue', 'lang',\n",
    "    'n_citation', 'page_end', 'page_start',\n",
    "    'publisher', 'references','url', 'venue', 'volume'],axis = 1\n",
    "]"
   ],
   "metadata": {
    "collapsed": false,
    "pycharm": {
     "name": "#%%\n"
    }
   }
  },
  {
   "cell_type": "code",
   "execution_count": null,
   "outputs": [],
   "source": [
    "model_df.shape"
   ],
   "metadata": {
    "collapsed": false,
    "pycharm": {
     "name": "#%%\n"
    }
   }
  },
  {
   "cell_type": "code",
   "execution_count": null,
   "outputs": [],
   "source": [
    "model_df['fos'].head()"
   ],
   "metadata": {
    "collapsed": false,
    "pycharm": {
     "name": "#%%\n"
    }
   }
  },
  {
   "cell_type": "code",
   "execution_count": null,
   "outputs": [],
   "source": [
    "len(model_df[model_df['fos'] == np.nan])"
   ],
   "metadata": {
    "collapsed": false,
    "pycharm": {
     "name": "#%%\n"
    }
   }
  },
  {
   "cell_type": "code",
   "execution_count": null,
   "outputs": [],
   "source": [
    "model_df['year'].describe()"
   ],
   "metadata": {
    "collapsed": false,
    "pycharm": {
     "name": "#%%\n"
    }
   }
  },
  {
   "cell_type": "code",
   "execution_count": null,
   "outputs": [],
   "source": [
    "# 对于fos里空值取0\n",
    "\n",
    "unique_fos = sorted(list(\n",
    "    {feature\n",
    "     for paper_row in model_df['fos'].fillna('0')\n",
    "     for feature in paper_row}\n",
    "))"
   ],
   "metadata": {
    "collapsed": false,
    "pycharm": {
     "name": "#%%\n"
    }
   }
  },
  {
   "cell_type": "code",
   "execution_count": null,
   "outputs": [],
   "source": [
    "unique_fos"
   ],
   "metadata": {
    "collapsed": false,
    "pycharm": {
     "name": "#%%\n"
    }
   }
  },
  {
   "cell_type": "code",
   "execution_count": null,
   "outputs": [],
   "source": [
    "# 年份不重复表\n",
    "unique_year = sorted(model_df['year'].astype('str').unique())"
   ],
   "metadata": {
    "collapsed": false,
    "pycharm": {
     "name": "#%%\n"
    }
   }
  },
  {
   "cell_type": "code",
   "execution_count": null,
   "outputs": [],
   "source": [
    "def feature_array(x,unique_array):\n",
    "    row_dict = {}\n",
    "    # 整个的字典\n",
    "    for i in x.index:\n",
    "        var_dict = {}\n",
    "        # 对于每一个行 即 每一个论文 有一个one-hot字典\n",
    "        for j in range(len(unique_array)):\n",
    "            if type(x[i]) is list:\n",
    "            # 如果x[i]是列表 有很多种类 那么出现过的就是1 否则是0\n",
    "                if unique_array[j] in x[i]:\n",
    "                    var_dict[unique_array[j]] = 1\n",
    "                else:\n",
    "                    var_dict[unique_array[j]] = 0\n",
    "            else:\n",
    "            # 如果x[i]是单个值 年份的情况下 那么相等就是1 否则就是0\n",
    "                if unique_array[j] == str(x[i]):\n",
    "                    var_dict[unique_array[j]] = 1\n",
    "                else:\n",
    "                    var_dict[unique_array[j]] = 0\n",
    "        row_dict[i] = var_dict\n",
    "        # 构成矩阵\n",
    "    feature_df = pd.DataFrame.from_dict(row_dict,dtype='str').T\n",
    "    # 构成DataFrame\n",
    "    return feature_df"
   ],
   "metadata": {
    "collapsed": false,
    "pycharm": {
     "name": "#%%\n"
    }
   }
  },
  {
   "cell_type": "code",
   "execution_count": null,
   "outputs": [],
   "source": [
    "# 构成fos特征one-hot和year特征one-hot\n",
    "\n",
    "fos_feature = feature_array(model_df['fos'],unique_fos)\n",
    "\n",
    "year_feature = fos_feature(model_df['year'],unique_year)"
   ],
   "metadata": {
    "collapsed": false,
    "pycharm": {
     "name": "#%%\n"
    }
   }
  },
  {
   "cell_type": "code",
   "execution_count": null,
   "outputs": [],
   "source": [
    "# 第一轮特征工程的处理结果 fos特征与Year特征拼接\n",
    "first_feature = fos_feature.join(year_feature).T"
   ],
   "metadata": {
    "collapsed": false,
    "pycharm": {
     "name": "#%%\n"
    }
   }
  },
  {
   "cell_type": "code",
   "execution_count": null,
   "outputs": [],
   "source": [
    "from sys import getsizeof\n",
    "\n",
    "print('Size of first feature array: ', getsizeof(first_feature))"
   ],
   "metadata": {
    "collapsed": false,
    "pycharm": {
     "name": "#%%\n"
    }
   }
  },
  {
   "cell_type": "code",
   "execution_count": null,
   "outputs": [],
   "source": [
    "# 协同过滤 查找相似值\n",
    "\n",
    "from scipy.spatial.distance import cosine\n",
    "\n",
    "def item_collab_filter(feature_df):\n",
    "    item_similarities = pd.DataFrame(index=feature_df.columns, columns = feature_df.columns)\n",
    "\n",
    "    for i in feature_df.columns:\n",
    "        for j in feature_df.columns:\n",
    "            item_similarities.loc[i][j] = 1-cosine(feature_df[i],feature_df[j])\n",
    "            # 列和列之间做cos ?\n",
    "    return item_similarities"
   ],
   "metadata": {
    "collapsed": false,
    "pycharm": {
     "name": "#%%\n"
    }
   }
  },
  {
   "cell_type": "code",
   "execution_count": null,
   "outputs": [],
   "source": [
    "first_item = item_collab_filter(first_feature.loc[:,0:1000])"
   ],
   "metadata": {
    "collapsed": false,
    "pycharm": {
     "name": "#%%\n"
    }
   }
  },
  {
   "cell_type": "code",
   "execution_count": null,
   "outputs": [],
   "source": [
    "import matplotlib.pyplot as plt\n",
    "import seaborn as sns"
   ],
   "metadata": {
    "collapsed": false,
    "pycharm": {
     "name": "#%%\n"
    }
   }
  },
  {
   "cell_type": "code",
   "execution_count": null,
   "outputs": [],
   "source": [
    "sns.set()\n",
    "ax = sns.heatmap(first_item.fillna(0),\n",
    "                 vmin=0, vmax=1,\n",
    "                 cmap='YlGnBu',\n",
    "                 xticklabels=250,yticklabels=250)\n",
    "ax.tick_params(labelsize=12)"
   ],
   "metadata": {
    "collapsed": false,
    "pycharm": {
     "name": "#%%\n"
    }
   }
  },
  {
   "cell_type": "code",
   "execution_count": null,
   "outputs": [],
   "source": [
    "# 基于item_df的topn进行推荐\n",
    "def paper_recommender(paper_ix, item_df):\n",
    "    print('Based on the paper: \\n index = ', paper_ix)\n",
    "    print(model_df.iloc[paper_ix])\n",
    "\n",
    "    top_results = item_df.loc[paper_ix].sort_values(ascending=False).head(4)\n",
    "\n",
    "    print('\\n Top three results: ')\n",
    "    order = 1\n",
    "    for i in top_results.index.tolist()[-3:]:\n",
    "        print(order,'. Paper index = ', i)\n",
    "        print('Similarity Score: ',top_results[i])\n",
    "        print(model_df.iloc[i],'\\n')\n",
    "        if order<5:\n",
    "            order += 1"
   ],
   "metadata": {
    "collapsed": false,
    "pycharm": {
     "name": "#%%\n"
    }
   }
  },
  {
   "cell_type": "code",
   "execution_count": null,
   "outputs": [],
   "source": [
    "paper_recommender(2, first_item)"
   ],
   "metadata": {
    "collapsed": false,
    "pycharm": {
     "name": "#%%\n"
    }
   }
  },
  {
   "cell_type": "code",
   "execution_count": null,
   "outputs": [],
   "source": [
    "# 第一种方法整体而言是采用两列特征 用极为稀疏的近似one-hot矩阵 用cos计算相似度进行推荐\n",
    "\n",
    "# 总体而言 第一个方法太慢了 找出的结果也不是很理想\n",
    "# 需要更智能 迭代化的特征工程方法"
   ],
   "metadata": {
    "collapsed": false,
    "pycharm": {
     "name": "#%%\n"
    }
   }
  },
  {
   "cell_type": "code",
   "execution_count": null,
   "outputs": [],
   "source": [
    "# ---------------------------------------------------------------------------------------"
   ],
   "metadata": {
    "collapsed": false,
    "pycharm": {
     "name": "#%%\n"
    }
   }
  },
  {
   "cell_type": "code",
   "execution_count": null,
   "outputs": [],
   "source": [
    "# 对出版年份进行分析 取值范围与分位数\n",
    "print('Year spread: ', model_df['year'].min(),\" - \",model_df['year'].max())\n",
    "print('Quantile spread: ', model_df['year'].quantile([0.25,0.5,0.75]))"
   ],
   "metadata": {
    "collapsed": false,
    "pycharm": {
     "name": "#%%\n"
    }
   }
  },
  {
   "cell_type": "code",
   "execution_count": null,
   "outputs": [],
   "source": [
    "fig, ax = plt.subplots()\n",
    "model_df['year'].hist(ax=ax, bins= model_df['year'].max() - model_df['year'].min())\n",
    "ax.tick_params(labelsize=12)\n",
    "ax.set_xlabel('Year Count', fontsize=12)\n",
    "ax.set_ylabel('Occurrence', fontsize=12)"
   ],
   "metadata": {
    "collapsed": false,
    "pycharm": {
     "name": "#%%\n"
    }
   }
  },
  {
   "cell_type": "code",
   "execution_count": null,
   "outputs": [],
   "source": [
    "bins = int(round((model_df['year'].max() - model_df['year'].min()) / 10))\n",
    "bins"
   ],
   "metadata": {
    "collapsed": false,
    "pycharm": {
     "name": "#%%\n"
    }
   }
  },
  {
   "cell_type": "code",
   "execution_count": null,
   "outputs": [],
   "source": [
    "temp_df = pd.DataFrame(index = model_df.index)\n",
    "temp_df['yearBinned'] = pd.cut(model_df['year'].tolist(), bins)\n",
    "X_yrs = pd.get_dummies(temp_df['yearBinned'])\n",
    "X_yrs.columns.categories"
   ],
   "metadata": {
    "collapsed": false,
    "pycharm": {
     "name": "#%%\n"
    }
   }
  },
  {
   "cell_type": "code",
   "execution_count": null,
   "outputs": [],
   "source": [
    "fig,ax = plt.subplots()\n",
    "X_yrs.sum().plot.bar(ax=ax)\n",
    "ax.tick_params(labelsize=8)\n",
    "ax.set_xlabel('Binned Years', fontsize=12)\n",
    "ax.set_ylabel('Count', fontsize=12)"
   ],
   "metadata": {
    "collapsed": false,
    "pycharm": {
     "name": "#%%\n"
    }
   }
  },
  {
   "cell_type": "code",
   "execution_count": null,
   "outputs": [],
   "source": [
    "# 处理fos特征"
   ],
   "metadata": {
    "collapsed": false,
    "pycharm": {
     "name": "#%%\n"
    }
   }
  },
  {
   "cell_type": "code",
   "execution_count": null,
   "outputs": [],
   "source": [
    "X_fos = fos_feature.values\n",
    "\n",
    "print('Pandas Series Size: ', getsizeof(fos_feature))\n",
    "print('Numpy Array Size: ', getsizeof(X_fos))"
   ],
   "metadata": {
    "collapsed": false,
    "pycharm": {
     "name": "#%%\n"
    }
   }
  },
  {
   "cell_type": "code",
   "execution_count": null,
   "outputs": [],
   "source": [
    "# 第二轮特征工程得到的特征结果\n",
    "second_feature = np.append(X_fos, X_yrs, axis=1)\n",
    "second_feature.shape"
   ],
   "metadata": {
    "collapsed": false,
    "pycharm": {
     "name": "#%%\n"
    }
   }
  },
  {
   "cell_type": "code",
   "execution_count": null,
   "outputs": [],
   "source": [
    "# 继续用余弦相似度进行度量\n",
    "\n",
    "from sklearn.metrics.pairwise import cosine_similarity"
   ],
   "metadata": {
    "collapsed": false,
    "pycharm": {
     "name": "#%%\n"
    }
   }
  },
  {
   "cell_type": "code",
   "execution_count": null,
   "outputs": [],
   "source": [
    "def piped_collab_filter(feature_matrix, index, top_n):\n",
    "    item_similarities = 1-\\\n",
    "                        cosine_similarity(feature_matrix[index:index+1], feature_matrix).flatten()\n",
    "    # 相似度就是index坐标位置的向量 和其他所有做余弦计算\n",
    "\n",
    "    related_indices = [i for i in item_similarities.argsort()[::-1] if i != index]\n",
    "    # 先排序 然后取不等于index的下标\n",
    "    return [(index, item_similarities[index])\n",
    "            for index in related_indices][0:top_n]\n",
    "    # 组成top_n个推荐值"
   ],
   "metadata": {
    "collapsed": false,
    "pycharm": {
     "name": "#%%\n"
    }
   }
  },
  {
   "cell_type": "code",
   "execution_count": null,
   "outputs": [],
   "source": [
    "def paper_recommender(item_df, paper_ix, top_n):\n",
    "    if paper_ix in model_df.index:\n",
    "        print('Based on the paper: ')\n",
    "        print('Paper Index = ',model_df.loc[paper_ix]['name'])\n",
    "        print('Paper Title = ', model_df.loc[paper_ix]['title'])\n",
    "\n",
    "        array_ix = model_df.index.get_loc[paper_ix]\n",
    "        top_results = piped_collab_filter(item_df, array_ix, top_n)\n",
    "        print('\\n Top ', top_n, ' results:')\n",
    "\n",
    "        order = 1\n",
    "        for i in top_results.index.tolist()[-3:]:\n",
    "            print(order,'. Paper index = ', i)\n",
    "            print('Similarity Score: ',top_results[i])\n",
    "            print(model_df.iloc[i],'\\n')\n",
    "            if order<5:\n",
    "                order += 1"
   ],
   "metadata": {
    "collapsed": false,
    "pycharm": {
     "name": "#%%\n"
    }
   }
  },
  {
   "cell_type": "code",
   "execution_count": null,
   "outputs": [],
   "source": [
    "# 目前改进一次之后 虽然可能有所提升 但是也没有多好 此时该怎么办\n",
    "# 1. 使用原始数据中的更多数据 看看能否得到更好的结果\n",
    "# 2. 花费更多时间 探索数据 看能否找到一个足够密集的结合来提供更好的推荐\n",
    "# 3. 添加更多特征 继续迭代当前模型\n",
    "\n",
    "# 第一种是有可能的 但是过于类似于大海捞针了\n",
    "# 第二种可以更好地理解原始数据 应该在数据探索过程中 不断进行调整\n",
    "# 第三种添加更多的特征 得到更好的效果十分合理"
   ],
   "metadata": {
    "collapsed": false,
    "pycharm": {
     "name": "#%%\n"
    }
   }
  },
  {
   "cell_type": "code",
   "execution_count": null,
   "outputs": [],
   "source": [
    "# ---------------------------------------------------------------------------------------"
   ],
   "metadata": {
    "collapsed": false,
    "pycharm": {
     "name": "#%%\n"
    }
   }
  },
  {
   "cell_type": "code",
   "execution_count": null,
   "outputs": [],
   "source": [
    "# 第三轮 考虑论文摘要和作者姓名"
   ],
   "metadata": {
    "collapsed": false,
    "pycharm": {
     "name": "#%%\n"
    }
   }
  },
  {
   "cell_type": "code",
   "execution_count": null,
   "outputs": [],
   "source": [
    "filled_df = model_df.fillna('None')\n",
    "\n",
    "from sklearn.feature_extraction.text import TfidfVectorizer"
   ],
   "metadata": {
    "collapsed": false,
    "pycharm": {
     "name": "#%%\n"
    }
   }
  },
  {
   "cell_type": "code",
   "execution_count": null,
   "outputs": [],
   "source": [
    "# 对abstract处理\n",
    "\n",
    "vectorizer = TfidfVectorizer(sublinear_tf=True, max_df=0.5, stop_words='english')\n",
    "X_abstract = vectorizer.fit_transform(filled_df['abstract'])\n",
    "third_features = np.append(second_feature, X_abstract.toarray(), axis=1)\n",
    "\n",
    "# 使用tf-idf将英文单词转化提出特征 再加入成为新特征"
   ],
   "metadata": {
    "collapsed": false,
    "pycharm": {
     "name": "#%%\n"
    }
   }
  },
  {
   "cell_type": "code",
   "execution_count": null,
   "outputs": [],
   "source": [
    "# 对author处理\n",
    "\n",
    "authors_list = []\n",
    "for row in filled_df['authors'].itertuples():\n",
    "    y = {}\n",
    "    if type(row.authors) is str:\n",
    "        y = {'None': row.Index}\n",
    "    if type(row.authors) is list:\n",
    "        y = dict.fromkeys(row.authors[0].values(), row.Index)\n",
    "    authors_list.append(y)\n",
    "\n",
    "# 先把作者整理成字典 再进行one-hot编码"
   ],
   "metadata": {
    "collapsed": false,
    "pycharm": {
     "name": "#%%\n"
    }
   }
  },
  {
   "cell_type": "code",
   "execution_count": null,
   "outputs": [],
   "source": [
    "from sklearn.feature_extraction import DictVectorizer\n",
    "v = DictVectorizer(sparse=False)\n",
    "D = authors_list\n",
    "X_authors = v.fit_transform(D)\n",
    "fourth_feature = np.append(third_features, X_authors, axis=1)\n",
    "\n",
    "# 使用DictVectorizer转换 作为第四特征"
   ],
   "metadata": {
    "collapsed": false,
    "pycharm": {
     "name": "#%%\n"
    }
   }
  },
  {
   "cell_type": "code",
   "execution_count": null,
   "outputs": [],
   "source": [
    "paper_recommender(fourth_feature, 2, 3)"
   ],
   "metadata": {
    "collapsed": false,
    "pycharm": {
     "name": "#%%\n"
    }
   }
  },
  {
   "cell_type": "code",
   "execution_count": null,
   "outputs": [],
   "source": [],
   "metadata": {
    "collapsed": false,
    "pycharm": {
     "name": "#%%\n"
    }
   }
  }
 ],
 "metadata": {
  "kernelspec": {
   "display_name": "Python 3",
   "language": "python",
   "name": "python3"
  },
  "language_info": {
   "codemirror_mode": {
    "name": "ipython",
    "version": 2
   },
   "file_extension": ".py",
   "mimetype": "text/x-python",
   "name": "python",
   "nbconvert_exporter": "python",
   "pygments_lexer": "ipython2",
   "version": "2.7.6"
  }
 },
 "nbformat": 4,
 "nbformat_minor": 0
}