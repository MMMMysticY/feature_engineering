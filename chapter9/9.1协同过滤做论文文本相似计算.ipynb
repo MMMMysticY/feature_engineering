{
 "cells": [
  {
   "cell_type": "code",
   "execution_count": 1,
   "metadata": {
    "collapsed": true
   },
   "outputs": [],
   "source": [
    "import pandas as pd\n",
    "import numpy as np"
   ]
  },
  {
   "cell_type": "code",
   "execution_count": 2,
   "outputs": [],
   "source": [
    "data_root = 'feature_engineering/dataset/mag_dataset/'"
   ],
   "metadata": {
    "collapsed": false,
    "pycharm": {
     "name": "#%%\n"
    }
   }
  },
  {
   "cell_type": "code",
   "execution_count": 3,
   "outputs": [
    {
     "data": {
      "text/plain": "                                               title lang  year  \\\n0  System and Method for Maskless Direct Write Li...   en  2015   \n1  The dilemma of the Mycobacterium avium subspec...   en  2016   \n2  Should endometriosis be an indication for intr...   en  2015   \n3                         Radio: Radio San Sebastián   es  1950   \n4                                       異時性6 重複癌の1 例   ja  2011   \n\n                                          references  \\\n0  [354c172f-d877-4e60-a7eb-c1b1cf03ce4d, 76cf106...   \n1                                                NaN   \n2                                                NaN   \n3                                                NaN   \n4                                                NaN   \n\n                                            abstract  \\\n0  A system and method for maskless direct write ...   \n1                                                NaN   \n2                                                NaN   \n3                                                NaN   \n4  早期発見と治療成績の向上で担癌患者の生存期間が延びており，それに伴い重複癌を経験する機会も増...   \n\n                                                 url  \\\n0  [http://www.freepatentsonline.com/y2016/021111...   \n1  [http://www.omicsonline.org/proceedings/the-di...   \n2  [http://www.fertstert.org/article/S0015-0282(1...   \n3  [http://dialnet.unirioja.es/servlet/articulo?c...   \n4  [http://www.pieronline.jp/content/article/0385...   \n\n                                     id  \\\n0  0000002e-c2f2-4e25-9341-60d39130ac7a   \n1  0000003d-5ce0-4eed-a56f-bbd3f8d8242b   \n2  00000061-0bab-468b-9481-de0c899783f3   \n3  00000081-4562-4882-a29d-5b9cb510ffc3   \n4  00000099-1ee9-4741-908c-02a7bf4857e8   \n\n                                                 fos  \\\n0  [Electronic engineering, Computer hardware, En...   \n1      [Biology, Virology, Immunology, Microbiology]   \n2                                                NaN   \n3                                  [Performance art]   \n4                                                NaN   \n\n                                             authors            publisher  \\\n0                                                NaN                  NaN   \n1                   [{'name': 'Ahmed M. Alluwaimi'}]  OMICS International   \n2  [{'name': 'Jovana P. Lekovich', 'org': 'Weill ...             Elsevier   \n3                         [{'name': 'P. M. Voltes'}]       Editorial Lira   \n4                 [{'name': '高田和外'}, {'name': 'ほか'}]              癌と化学療法社   \n\n                                doi  \\\n0                               NaN   \n1          10.4172/2157-7560.C1.030   \n2  10.1016/j.fertnstert.2015.07.492   \n3                               NaN   \n4                               NaN   \n\n                                            keywords  issue  \\\n0                                                NaN    NaN   \n1  [paratuberculosis, of, subspecies, proceedings...    NaN   \n2                                                NaN    3.0   \n3                                     [musica, arte]  228.0   \n4                                                NaN    4.0   \n\n                     venue  volume doc_type page_start page_end  n_citation  \n0                      NaN     NaN      NaN        NaN      NaN         NaN  \n1                      NaN     NaN      NaN        NaN      NaN         NaN  \n2  Fertility and Sterility   104.0  Journal        NaN      NaN         NaN  \n3                      NaN    20.0      NaN          6      NaN         NaN  \n4                      NaN    38.0      NaN        697      700         NaN  ",
      "text/html": "<div>\n<style scoped>\n    .dataframe tbody tr th:only-of-type {\n        vertical-align: middle;\n    }\n\n    .dataframe tbody tr th {\n        vertical-align: top;\n    }\n\n    .dataframe thead th {\n        text-align: right;\n    }\n</style>\n<table border=\"1\" class=\"dataframe\">\n  <thead>\n    <tr style=\"text-align: right;\">\n      <th></th>\n      <th>title</th>\n      <th>lang</th>\n      <th>year</th>\n      <th>references</th>\n      <th>abstract</th>\n      <th>url</th>\n      <th>id</th>\n      <th>fos</th>\n      <th>authors</th>\n      <th>publisher</th>\n      <th>doi</th>\n      <th>keywords</th>\n      <th>issue</th>\n      <th>venue</th>\n      <th>volume</th>\n      <th>doc_type</th>\n      <th>page_start</th>\n      <th>page_end</th>\n      <th>n_citation</th>\n    </tr>\n  </thead>\n  <tbody>\n    <tr>\n      <th>0</th>\n      <td>System and Method for Maskless Direct Write Li...</td>\n      <td>en</td>\n      <td>2015</td>\n      <td>[354c172f-d877-4e60-a7eb-c1b1cf03ce4d, 76cf106...</td>\n      <td>A system and method for maskless direct write ...</td>\n      <td>[http://www.freepatentsonline.com/y2016/021111...</td>\n      <td>0000002e-c2f2-4e25-9341-60d39130ac7a</td>\n      <td>[Electronic engineering, Computer hardware, En...</td>\n      <td>NaN</td>\n      <td>NaN</td>\n      <td>NaN</td>\n      <td>NaN</td>\n      <td>NaN</td>\n      <td>NaN</td>\n      <td>NaN</td>\n      <td>NaN</td>\n      <td>NaN</td>\n      <td>NaN</td>\n      <td>NaN</td>\n    </tr>\n    <tr>\n      <th>1</th>\n      <td>The dilemma of the Mycobacterium avium subspec...</td>\n      <td>en</td>\n      <td>2016</td>\n      <td>NaN</td>\n      <td>NaN</td>\n      <td>[http://www.omicsonline.org/proceedings/the-di...</td>\n      <td>0000003d-5ce0-4eed-a56f-bbd3f8d8242b</td>\n      <td>[Biology, Virology, Immunology, Microbiology]</td>\n      <td>[{'name': 'Ahmed M. Alluwaimi'}]</td>\n      <td>OMICS International</td>\n      <td>10.4172/2157-7560.C1.030</td>\n      <td>[paratuberculosis, of, subspecies, proceedings...</td>\n      <td>NaN</td>\n      <td>NaN</td>\n      <td>NaN</td>\n      <td>NaN</td>\n      <td>NaN</td>\n      <td>NaN</td>\n      <td>NaN</td>\n    </tr>\n    <tr>\n      <th>2</th>\n      <td>Should endometriosis be an indication for intr...</td>\n      <td>en</td>\n      <td>2015</td>\n      <td>NaN</td>\n      <td>NaN</td>\n      <td>[http://www.fertstert.org/article/S0015-0282(1...</td>\n      <td>00000061-0bab-468b-9481-de0c899783f3</td>\n      <td>NaN</td>\n      <td>[{'name': 'Jovana P. Lekovich', 'org': 'Weill ...</td>\n      <td>Elsevier</td>\n      <td>10.1016/j.fertnstert.2015.07.492</td>\n      <td>NaN</td>\n      <td>3.0</td>\n      <td>Fertility and Sterility</td>\n      <td>104.0</td>\n      <td>Journal</td>\n      <td>NaN</td>\n      <td>NaN</td>\n      <td>NaN</td>\n    </tr>\n    <tr>\n      <th>3</th>\n      <td>Radio: Radio San Sebastián</td>\n      <td>es</td>\n      <td>1950</td>\n      <td>NaN</td>\n      <td>NaN</td>\n      <td>[http://dialnet.unirioja.es/servlet/articulo?c...</td>\n      <td>00000081-4562-4882-a29d-5b9cb510ffc3</td>\n      <td>[Performance art]</td>\n      <td>[{'name': 'P. M. Voltes'}]</td>\n      <td>Editorial Lira</td>\n      <td>NaN</td>\n      <td>[musica, arte]</td>\n      <td>228.0</td>\n      <td>NaN</td>\n      <td>20.0</td>\n      <td>NaN</td>\n      <td>6</td>\n      <td>NaN</td>\n      <td>NaN</td>\n    </tr>\n    <tr>\n      <th>4</th>\n      <td>異時性6 重複癌の1 例</td>\n      <td>ja</td>\n      <td>2011</td>\n      <td>NaN</td>\n      <td>早期発見と治療成績の向上で担癌患者の生存期間が延びており，それに伴い重複癌を経験する機会も増...</td>\n      <td>[http://www.pieronline.jp/content/article/0385...</td>\n      <td>00000099-1ee9-4741-908c-02a7bf4857e8</td>\n      <td>NaN</td>\n      <td>[{'name': '高田和外'}, {'name': 'ほか'}]</td>\n      <td>癌と化学療法社</td>\n      <td>NaN</td>\n      <td>NaN</td>\n      <td>4.0</td>\n      <td>NaN</td>\n      <td>38.0</td>\n      <td>NaN</td>\n      <td>697</td>\n      <td>700</td>\n      <td>NaN</td>\n    </tr>\n  </tbody>\n</table>\n</div>"
     },
     "execution_count": 3,
     "metadata": {},
     "output_type": "execute_result"
    }
   ],
   "source": [
    "all_data = pd.read_json(data_root+'mag_papers_0.txt',lines=True)\n",
    "all_data.head()"
   ],
   "metadata": {
    "collapsed": false,
    "pycharm": {
     "name": "#%%\n"
    }
   }
  },
  {
   "cell_type": "code",
   "execution_count": 4,
   "outputs": [
    {
     "data": {
      "text/plain": "(1000000, 19)"
     },
     "execution_count": 4,
     "metadata": {},
     "output_type": "execute_result"
    }
   ],
   "source": [
    "all_data.shape"
   ],
   "metadata": {
    "collapsed": false,
    "pycharm": {
     "name": "#%%\n"
    }
   }
  },
  {
   "cell_type": "code",
   "execution_count": 11,
   "outputs": [
    {
     "data": {
      "text/plain": "(999700, 19)"
     },
     "execution_count": 11,
     "metadata": {},
     "output_type": "execute_result"
    }
   ],
   "source": [
    "# 对title进行去重\n",
    "model_df = all_data.drop_duplicates(subset='title',keep='first')\n",
    "model_df.shape"
   ],
   "metadata": {
    "collapsed": false,
    "pycharm": {
     "name": "#%%\n"
    }
   }
  },
  {
   "cell_type": "code",
   "execution_count": 12,
   "outputs": [
    {
     "data": {
      "text/plain": "(20000, 19)"
     },
     "execution_count": 12,
     "metadata": {},
     "output_type": "execute_result"
    }
   ],
   "source": [
    "model_df = model_df[:20000]\n",
    "model_df.shape"
   ],
   "metadata": {
    "collapsed": false,
    "pycharm": {
     "name": "#%%\n"
    }
   }
  },
  {
   "cell_type": "code",
   "execution_count": 13,
   "outputs": [],
   "source": [
    "# 筛选出英文文本 删除无用列\n",
    "model_df = model_df[model_df['lang'] == 'en'].drop(\n",
    "    ['doc_type', 'doi', 'id', 'issue', 'lang',\n",
    "    'n_citation', 'page_end', 'page_start',\n",
    "    'publisher', 'references','url', 'venue', 'volume'],axis = 1\n",
    ")"
   ],
   "metadata": {
    "collapsed": false,
    "pycharm": {
     "name": "#%%\n"
    }
   }
  },
  {
   "cell_type": "code",
   "execution_count": 14,
   "outputs": [
    {
     "data": {
      "text/plain": "(10399, 6)"
     },
     "execution_count": 14,
     "metadata": {},
     "output_type": "execute_result"
    }
   ],
   "source": [
    "model_df.shape"
   ],
   "metadata": {
    "collapsed": false,
    "pycharm": {
     "name": "#%%\n"
    }
   }
  },
  {
   "cell_type": "code",
   "execution_count": 15,
   "outputs": [
    {
     "data": {
      "text/plain": "0    [Electronic engineering, Computer hardware, En...\n1        [Biology, Virology, Immunology, Microbiology]\n2                                                  NaN\n5                                                  NaN\n7           [Medicine, Pathology, Gynecology, Surgery]\nName: fos, dtype: object"
     },
     "execution_count": 15,
     "metadata": {},
     "output_type": "execute_result"
    }
   ],
   "source": [
    "# fos为分类\n",
    "model_df['fos'].head()"
   ],
   "metadata": {
    "collapsed": false,
    "pycharm": {
     "name": "#%%\n"
    }
   }
  },
  {
   "cell_type": "code",
   "execution_count": 19,
   "outputs": [
    {
     "data": {
      "text/plain": "float"
     },
     "execution_count": 19,
     "metadata": {},
     "output_type": "execute_result"
    }
   ],
   "source": [
    "type(model_df['fos'].iloc[3])"
   ],
   "metadata": {
    "collapsed": false,
    "pycharm": {
     "name": "#%%\n"
    }
   }
  },
  {
   "cell_type": "code",
   "execution_count": 20,
   "outputs": [
    {
     "data": {
      "text/plain": "nan"
     },
     "execution_count": 20,
     "metadata": {},
     "output_type": "execute_result"
    }
   ],
   "source": [
    "the_nan = model_df['fos'].iloc[3]\n",
    "the_nan"
   ],
   "metadata": {
    "collapsed": false,
    "pycharm": {
     "name": "#%%\n"
    }
   }
  },
  {
   "cell_type": "code",
   "execution_count": 25,
   "outputs": [
    {
     "data": {
      "text/plain": "True"
     },
     "execution_count": 25,
     "metadata": {},
     "output_type": "execute_result"
    }
   ],
   "source": [
    "np.isnan(model_df['fos'].iloc[3])"
   ],
   "metadata": {
    "collapsed": false,
    "pycharm": {
     "name": "#%%\n"
    }
   }
  },
  {
   "cell_type": "code",
   "execution_count": 28,
   "outputs": [
    {
     "data": {
      "text/plain": "0        False\n1        False\n2         True\n5         True\n7        False\n         ...  \n19994    False\n19995    False\n19997    False\n19998    False\n19999    False\nName: fos, Length: 10399, dtype: bool"
     },
     "execution_count": 28,
     "metadata": {},
     "output_type": "execute_result"
    }
   ],
   "source": [
    "pd.isna(model_df['fos'])"
   ],
   "metadata": {
    "collapsed": false,
    "pycharm": {
     "name": "#%%\n"
    }
   }
  },
  {
   "cell_type": "code",
   "execution_count": 29,
   "outputs": [
    {
     "data": {
      "text/plain": "1733"
     },
     "execution_count": 29,
     "metadata": {},
     "output_type": "execute_result"
    }
   ],
   "source": [
    "# 有1700多个分类是NaN\n",
    "len(model_df[pd.isna(model_df['fos'])])"
   ],
   "metadata": {
    "collapsed": false,
    "pycharm": {
     "name": "#%%\n"
    }
   }
  },
  {
   "cell_type": "code",
   "execution_count": 30,
   "outputs": [
    {
     "data": {
      "text/plain": "count    10399.000000\nmean      1997.324839\nstd         21.128662\nmin       1831.000000\n25%       1990.000000\n50%       2005.000000\n75%       2012.000000\nmax       2017.000000\nName: year, dtype: float64"
     },
     "execution_count": 30,
     "metadata": {},
     "output_type": "execute_result"
    }
   ],
   "source": [
    "model_df['year'].describe()"
   ],
   "metadata": {
    "collapsed": false,
    "pycharm": {
     "name": "#%%\n"
    }
   }
  },
  {
   "cell_type": "code",
   "execution_count": 31,
   "outputs": [],
   "source": [
    "# 对于fos里空值取0\n",
    "# 先将nan用0替代 然后对于每行进行循环 然后对每行中每个值进行循环 放进set中 最后转成list\n",
    "\n",
    "unique_fos = sorted(list(\n",
    "    {feature\n",
    "     for paper_row in model_df['fos'].fillna('0')\n",
    "     for feature in paper_row}\n",
    "))"
   ],
   "metadata": {
    "collapsed": false,
    "pycharm": {
     "name": "#%%\n"
    }
   }
  },
  {
   "cell_type": "code",
   "execution_count": 32,
   "outputs": [
    {
     "data": {
      "text/plain": "['0',\n '0-10 V lighting control',\n '1/N expansion',\n '10G-PON',\n '14-3-3 protein',\n '2-choice hashing',\n '20th-century philosophy',\n '2D computer graphics',\n '2DEG',\n '3-D Secure',\n '3D computer graphics',\n '3D radar',\n '3D reconstruction',\n '3D single-object recognition',\n '3G',\n '3G MIMO',\n '40-bit encryption',\n '5-HT1 receptor',\n '5-HT2 receptor',\n '5-HT5A receptor',\n '5052 aluminium alloy',\n '56-bit encryption',\n '6111 aluminium alloy',\n '78xx',\n 'ABO blood group system',\n 'AC motor',\n 'AI-complete',\n 'AIM2',\n 'AM/FM/GIS',\n 'AMPA receptor',\n 'ANK1',\n 'ASK1',\n 'ATP-binding cassette transporter',\n 'ATPase',\n 'AXL receptor tyrosine kinase',\n 'Ab initio quantum chemistry methods',\n 'Abductive logic programming',\n 'Abell 2744',\n 'Abiogenesis',\n 'Abiotic stress',\n 'Absolute deviation',\n 'Absolute return',\n 'Absorbed dose',\n 'Absorption',\n 'Absorption spectroscopy',\n 'Abstract family of languages',\n 'Acceleration',\n 'Accelerator mass spectrometry',\n 'Access control',\n 'Access method',\n 'Accessible surface area',\n 'Accidental release source terms',\n 'Accounting',\n 'Accounting information system',\n 'Accounting liquidity',\n 'Accounting management',\n 'Accretion',\n 'Accuracy and precision',\n 'Acid phosphatase',\n 'Acoustic model',\n 'Acoustic source localization',\n 'Acoustic wave',\n 'Acoustic wave equation',\n 'Acoustics',\n 'Acousto-optics',\n 'Acquired immune system',\n 'Acrylic resin',\n 'Actin',\n 'Action potential',\n 'Action research',\n 'Action selection',\n 'Activation energy',\n 'Activation function',\n 'Active appearance model',\n 'Active cooling',\n 'Active filter',\n 'Active fire protection',\n 'Active galactic nucleus',\n 'Active ingredient',\n 'Active learning',\n 'Active load',\n 'Active networking',\n 'Active noise control',\n 'Active site',\n 'Active zone',\n 'Activities of daily living',\n 'Activity coefficient',\n 'Activity theory',\n 'Activity-based costing',\n 'Actuarial science',\n 'Actuator',\n 'Acute-phase protein',\n 'Acylation',\n 'Ad hoc wireless distribution service',\n 'Ad valorem tax',\n 'Adaptation',\n 'Adaptive behavior',\n 'Adaptive control',\n 'Adaptive filter',\n 'Adaptive learning',\n 'Adaptive memory',\n 'Adaptive neuro fuzzy inference system',\n 'Adaptive optics',\n 'Adaptive quality of service multi-hop routing',\n 'Adaptive response',\n 'Adaptive system',\n 'Adcock antenna',\n 'Addition reaction',\n 'Adenosine deaminase',\n 'Adenosine receptor',\n 'Adenylate kinase',\n 'Adhesion',\n 'Adhesive',\n 'Adiabatic flame temperature',\n 'Adipokine',\n 'Adipose tissue',\n 'Adjoint representation of a Lie algebra',\n 'Adjusted gross income',\n 'Admissible decision rule',\n 'Adoptive cell transfer',\n 'Adrenergic',\n 'Adrenergic receptor',\n 'Adult education',\n 'Advanced manufacturing',\n 'Adverse effect',\n 'Adverse yaw',\n 'Advertising',\n 'Advertising account executive',\n 'Aerial photography',\n 'Aerodynamic drag',\n 'Aerodynamics',\n 'Aeronautics',\n 'Aerospace Engineering',\n 'Aesthetics',\n 'Affect',\n 'Affine Lie algebra',\n 'Affine transformation',\n 'Affinity chromatography',\n 'Afforestation',\n 'Aftershock',\n 'Ageing',\n 'Agency',\n 'Aggrecan',\n 'Agribusiness',\n 'Agricultural communication',\n 'Agricultural diversification',\n 'Agricultural economics',\n 'Agricultural engineering',\n 'Agricultural geography',\n 'Agricultural land',\n 'Agricultural marketing',\n 'Agricultural science',\n 'Agriculture',\n 'Agroecology',\n 'Agroecosystem',\n 'Agroforestry',\n 'Agronomy',\n 'Air brake',\n 'Air conditioning',\n 'Air pollution',\n 'Air quality index',\n 'Air source heat pumps',\n 'Air traffic control',\n 'Aircraft flight mechanics',\n 'Aircraft maintenance',\n 'Aircraft vectoring',\n 'Airflow',\n 'Airfoil',\n 'Akaike information criterion',\n 'Akt/PKB signaling pathway',\n 'Alcohol and health',\n 'Algae',\n 'Algebra',\n 'Algebra representation',\n 'Algebraic equation',\n 'Algebraic solution',\n 'Algebraic variety',\n 'Algorithm',\n 'Algorithm design',\n 'Alkaline earth metal',\n 'Alkaline phosphatase',\n 'Alkalinity',\n 'Alkyd',\n 'Alkylation',\n 'All-dielectric self-supporting cable',\n 'All-pass filter',\n 'Allele',\n 'Allergy',\n 'Allotropy',\n 'Alpha particle',\n 'Alpha-1A adrenergic receptor',\n 'Alternating polynomial',\n 'Alternative dispute resolution',\n 'Alternative energy',\n 'Alternative investment',\n 'Alternative medicine',\n 'Altimeter',\n 'Aluminium',\n \"Alzheimer's disease\",\n 'Ambient ionization',\n 'Ambient pressure',\n 'Ambiguity function',\n 'Ambivalence',\n 'Ambulatory care',\n 'Amine oxidase',\n 'Amino acid',\n 'Amorphous carbon',\n 'Amorphous metal',\n 'Ampere-hour',\n 'Amplifier',\n 'Amplitude',\n 'Amplitude and phase-shift keying',\n 'Amplitude damping channel',\n 'Amylase',\n 'Anaerobic digestion',\n 'Anaerobic oxidation of methane',\n 'Analog device',\n 'Analog multiplier',\n 'Analog signal',\n 'Analog signal processing',\n 'Analog transmission',\n 'Analogue electronics',\n 'Analysis',\n 'Analysis of flows',\n 'Analysis of variance',\n 'Analytic continuation',\n 'Analytic function',\n 'Analytic signal',\n 'Analytical chemistry',\n 'Analytical technique',\n 'Analytics',\n 'Anammox',\n 'Anaphase',\n 'Anatomical pathology',\n 'Anatomy',\n 'Ancient history',\n 'Ancillary statistic',\n 'Anderson impurity model',\n 'Anderson–Darling test',\n 'Andrology',\n 'Anesthesia',\n 'Angiology',\n 'Angiotensin II receptor type 1',\n 'Angiotensin receptor',\n 'Angiotensin-converting enzyme',\n 'Angular defect',\n 'Angular momentum',\n 'Angular momentum coupling',\n 'Angular momentum of light',\n 'Angular momentum operator',\n 'Animal breeding',\n 'Animal feed',\n 'Animal nutrition',\n 'Animal science',\n 'Animal studies',\n 'Anisotropic diffusion',\n 'Anisotropy',\n 'Ankyrin repeat',\n 'Annealing',\n 'Annexin',\n 'Annihilation',\n 'Anomalous diffusion',\n 'Antenna',\n 'Antenna array',\n 'Antenna diversity',\n 'Antenna feed',\n 'Antenna measurement',\n 'Antenna rotator',\n 'Antenna tuner',\n 'Anthropology',\n 'Anthropology of art',\n 'Anthropometry',\n 'Anti-thyroid autoantibodies',\n 'Antibiotic resistance',\n 'Antibiotics',\n 'Antibody',\n 'Antiferromagnetism',\n 'Antigen',\n 'Antigen presentation',\n 'Antigen processing',\n 'Antigen-presenting cell',\n 'Antimatter',\n 'Antimatter rocket',\n 'Antimicrobial',\n 'Antiproton',\n 'Anxiety',\n 'Aperture',\n 'Apex',\n 'Apolipoprotein E',\n 'Apollonian sphere packing',\n 'Apomixis',\n 'Apoptosis',\n 'Appetite',\n 'Application software',\n 'Applications of artificial intelligence',\n 'Applied engineering',\n 'Applied ethics',\n 'Applied mathematics',\n 'Applied psychology',\n 'Applied science',\n 'Approximation error',\n 'Aptamer',\n 'Aquaculture',\n 'Aquatic animal',\n 'Aquatic plant',\n 'Aqueous solution',\n 'Arbitrary-precision arithmetic',\n 'Arbitration',\n 'Arc welding',\n 'Arc-fault circuit interrupter',\n 'Arch',\n 'Archaea',\n 'Archaeology',\n 'Archenteron',\n 'Architectural engineering',\n 'Architectural geometry',\n 'Architecture',\n 'Arctic ice pack',\n 'Arctic oscillation',\n 'Arctic sea ice decline',\n 'Area rule',\n 'Area under the curve',\n 'Argentometry',\n 'Argon',\n 'Argument',\n 'Argument map',\n 'Argument of a function',\n 'Arid',\n 'Arithmetic',\n 'Arithmetic zeta function',\n 'Arm solution',\n 'Aromaticity',\n 'Arousal',\n 'Arsenic',\n 'Art',\n 'Art history',\n 'Articulated robot',\n 'Artifact-centric business process model',\n 'Artificial consciousness',\n 'Artificial intelligence',\n 'Artificial intelligence, situated approach',\n 'Artificial kidney',\n 'Artificial neural network',\n 'Arts in education',\n 'Asbestos',\n 'Asexual reproduction',\n 'Asian option',\n 'Asian psychology',\n 'Askey–Wilson polynomials',\n 'Aspect ratio',\n 'Asperity',\n 'Assay',\n 'Assembly language',\n 'Asset',\n 'Associated bundle',\n 'Association',\n 'Association mapping',\n 'Association rule learning',\n 'Astral microtubules',\n 'Astrobiology',\n 'Astrochemistry',\n 'Astronomical interferometer',\n 'Astronomical spectroscopy',\n 'Astronomy',\n 'Astrophysics',\n 'Asymmetric digital subscriber line',\n 'Asymmetric warfare',\n 'Asymmetry',\n 'Asymptotic analysis',\n 'Asymptotic distribution',\n 'Asymptotic expansion',\n 'Asymptotic giant branch',\n 'Asymptotic theory',\n 'Asynchronous Transfer Mode',\n 'Asynchronous circuit',\n 'Asynchronous communication',\n 'Asynchronous method invocation',\n 'Asynchronous system',\n 'Atlantic Equatorial mode',\n 'Atlas',\n 'Atmosphere',\n 'Atmospheric chemistry',\n 'Atmospheric pressure',\n 'Atmospheric sciences',\n 'Atmospheric temperature',\n 'Atmospheric-pressure laser ionization',\n 'Atom',\n 'Atom probe',\n 'Atomic Clock Ensemble in Space',\n 'Atomic force microscopy',\n 'Atomic layer deposition',\n 'Atomic mass',\n 'Atomic physics',\n 'Atomic theory',\n 'Attachment theory',\n 'Attention',\n 'Attentional blink',\n 'Attitude',\n 'Attosecond',\n 'Attractor',\n 'Attribute-based encryption',\n 'Audio signal processing',\n 'Audiology',\n 'Audit substantive test',\n 'Auditor independence',\n \"Auditor's report\",\n 'Auger electron spectroscopy',\n 'Augmented reality',\n 'Aurora B kinase',\n 'Authentication',\n 'Authoritarian leadership style',\n 'Authority',\n 'Authorization',\n 'Autism',\n 'Autoantibody',\n 'Autobiographical memory',\n 'Autoclave',\n 'Autocorrelation',\n 'Autocrine signalling',\n 'Automated information system',\n 'Automatic control',\n 'Automatic image annotation',\n 'Automatic test equipment',\n 'Automation',\n 'Automobile drag coefficient',\n 'Automotive battery',\n 'Automotive engineering',\n 'Autonomous consumption',\n 'Autophagy',\n 'Autotransformer',\n 'Autoxidation',\n 'Autumn',\n 'Auxiliary memory',\n 'Auxin',\n 'Availability',\n 'Average bitrate',\n 'Average treatment effect',\n 'Aviation',\n 'Aviation engineering',\n 'Awareness',\n 'Axial piston pump',\n 'Azeotropic distillation',\n 'Azimuth',\n 'Azimuthal quantum number',\n 'B meson',\n 'BAG3',\n 'BCJR algorithm',\n 'BIC TCP',\n 'BRST quantization',\n 'Back-fire',\n 'Background independence',\n 'Background subtraction',\n 'Backpropagation',\n 'Backscatter',\n 'Backward induction',\n 'Bacteria',\n 'Bacterial cellular morphologies',\n 'Bacterial circadian rhythms',\n 'Bacterial outer membrane',\n 'Bacterivore',\n 'Bagasse',\n 'Balance',\n 'Balance of payments',\n 'Balanced scorecard',\n 'Ball valve',\n 'Ballistic conduction',\n 'Ballistic photon',\n 'Balloon',\n 'Banach manifold',\n 'Banach space',\n 'Bancassurance',\n 'Band gap',\n 'Band-pass filter',\n 'Bandwidth',\n 'Bank rate',\n 'Bank run',\n 'Barium',\n 'Barker code',\n 'Barrel',\n 'Barrier function',\n 'Baryon',\n 'Base isolation',\n 'Base station',\n 'Base station identity code',\n 'Base transceiver station',\n 'Baseline',\n 'Basic helix-loop-helix leucine zipper transcription factors',\n 'Basic hypergeometric series',\n 'Basic needs',\n 'Basic science',\n 'Batch processing',\n \"Bayes' theorem\",\n 'Bayesian information criterion',\n 'Bayesian probability',\n 'Bcl-2 family',\n 'Beam',\n 'Beam expander',\n 'Beam parameter product',\n 'Beam search',\n 'Beam steering',\n 'Beam-powered propulsion',\n 'Bearing',\n 'Bed material load',\n 'Behavior',\n 'Behavior change',\n 'Behavior-based robotics',\n 'Behavioural genetics',\n 'Behavioural sciences',\n 'Belief',\n 'Bellman equation',\n 'Benchmark',\n 'Bending stiffness',\n 'Benthos',\n 'Berlekamp–Welch algorithm',\n 'Bernoulli differential equation',\n 'Bernoulli polynomials',\n 'Beryllium',\n 'Bessel process',\n 'Best practice',\n 'Best response',\n 'Best-first search',\n 'Beta decay',\n 'Beta-2 microglobulin',\n 'Beta-galactosidase',\n 'Bias',\n 'Bibliography',\n 'Bibliometrics',\n 'Biclustering',\n 'Biconical antenna',\n 'Bicubic interpolation',\n 'Bicyclic molecule',\n 'Bidding',\n 'Biexciton',\n 'Bifilar coil',\n 'Bifurcation theory',\n 'Big Bang',\n 'Big Bounce',\n 'Big Crunch',\n 'Big Five personality traits and culture',\n 'Biharmonic equation',\n 'Bilateral filter',\n 'Bilateral hypergeometric series',\n 'Bilinear interpolation',\n 'Binary image',\n 'Binary operation',\n 'Binary pulsar',\n 'Binary star',\n 'Binary system',\n 'Binary tree',\n 'Binding energy',\n 'Binding protein',\n 'Binding site',\n 'Binomial distribution',\n 'Bioavailability',\n 'Biocatalysis',\n 'Biochar',\n 'Biochemistry',\n 'Bioconcentration',\n 'Biodegradable waste',\n 'Biodegradation',\n 'Biodiesel',\n 'Biodiversity',\n 'Bioenergy',\n 'Biofilm',\n 'Biofouling',\n 'Biofuel',\n 'Biogas',\n 'Biogeochemical cycle',\n 'Biogeochemistry',\n 'Biography',\n 'Biohydrogen',\n 'Bioinformatics',\n 'Biological activity',\n 'Biological classification',\n 'Biological engineering',\n 'Biological life cycle',\n 'Biological pest control',\n 'Biological process',\n 'Biological system',\n 'Biological warfare',\n 'Biology',\n 'Bioluminescence',\n 'Biomagnification',\n 'Biomarker',\n 'Biomass',\n 'Biomechanics',\n 'Biometrics',\n 'Biophysics',\n 'Bioreactor',\n 'Bioreactor landfill',\n 'Biosensor',\n 'Biostatistics',\n 'Biostratigraphy',\n 'Biosynthesis',\n 'Biotechnology',\n 'Biotic stress',\n 'Biotinylation',\n 'Biotope',\n 'Biotransformation',\n 'Bipolar junction transistor',\n 'Bipolar nebula',\n 'Birefringence',\n 'Birkhoff interpolation',\n 'Birth',\n 'Birth weight',\n 'Bismuth',\n 'Bispectrum',\n 'Bistability',\n 'Bistatic radar',\n 'Bit error rate',\n 'Bit field',\n 'Black brane',\n 'Black dwarf',\n 'Black hole',\n 'Black hole complementarity',\n 'Black hole information paradox',\n 'Black hole thermodynamics',\n 'Black letter law',\n 'Black star',\n 'Black-box testing',\n 'Blade element theory',\n 'Blastula',\n 'Blind signal separation',\n 'Blink',\n 'Block cipher',\n 'Block cipher mode of operation',\n 'Block code',\n 'Block design',\n 'Block-matching algorithm',\n 'Blood flow',\n 'Blood lipids',\n 'Blood pressure',\n 'Blood proteins',\n 'Blood sugar regulation',\n 'Blood volume',\n 'Bloom',\n 'Blue dwarf',\n 'Blue laser',\n 'Bobbin',\n 'Bochner integral',\n 'Body water',\n 'Body weight',\n 'Bohr effect',\n 'Bolete',\n 'Bolted joint',\n 'Bond',\n 'Bond credit rating',\n 'Bond length',\n 'Bond market',\n 'Bond-dissociation energy',\n 'Bone conduction',\n 'Bone morphogenetic protein',\n 'Bone remodeling',\n 'Bone resorption',\n 'Bonner sphere',\n 'Boost converter',\n 'Borehole',\n 'Born approximation',\n 'Born–Huang approximation',\n 'Bose–Einstein condensate',\n 'Boson',\n 'Bosonic string theory',\n 'Botany',\n 'Bottle',\n 'Bound state',\n 'Bound water',\n 'Boundary element method',\n 'Boundary layer',\n 'Boundary layer control',\n 'Boundary layer thickness',\n 'Boundary value problem',\n 'Bounded rationality',\n 'Bounded set',\n 'Bovine serum albumin',\n 'Box counting',\n 'Bracket polynomial',\n 'Bradykinin receptor',\n 'Brain mapping',\n 'Brainstorming',\n 'Brake',\n 'Brake shoe',\n 'Branch',\n 'Branch and cut',\n 'Branch and price',\n 'Branch point',\n 'Branching fraction',\n 'Brand',\n 'Brand awareness',\n 'Brand equity',\n 'Brand extension',\n 'Brand management',\n 'Brane cosmology',\n 'Breaking wave',\n 'Breast cancer',\n 'Breathing',\n 'Bridge',\n 'Brightest cluster galaxy',\n 'Brightness temperature',\n 'Brillouin scattering',\n 'Brillouin zone',\n 'Brine',\n 'British birth cohort studies',\n 'Broadcasting',\n 'Broadcasting of sports events',\n 'Broker-dealer',\n 'Brooks–Iyengar algorithm',\n 'Brouwer fixed-point theorem',\n 'Brown clustering',\n 'Brown dwarf',\n 'Brownian bridge',\n 'Brownian excursion',\n 'Brownian model of financial markets',\n 'Brownian motion',\n 'Buck converter',\n 'Buckling',\n 'Buck–boost converter',\n 'Buffer',\n 'Bulb',\n 'Bulk queue',\n 'Bump mapping',\n 'Bundle adjustment',\n \"Burgers' equation\",\n 'Burnout',\n 'Bus',\n 'Bus sniffing',\n 'Business',\n 'Business Administration',\n 'Business Process Execution Language',\n 'Business Process Model and Notation',\n 'Business activity monitoring',\n 'Business analysis',\n 'Business analytics',\n 'Business case',\n 'Business cycle',\n 'Business decision mapping',\n 'Business ethics',\n 'Business intelligence',\n 'Business marketing',\n 'Business model',\n 'Business process',\n 'Business process management',\n 'Business process modeling',\n 'Business relationship management',\n 'Business requirements',\n 'Business rule',\n 'Business value',\n 'Business-to-government',\n 'Butterfly valve',\n 'C-C chemokine receptor type 6',\n 'CAPICOM',\n 'CBC-MAC',\n 'CCL21',\n 'CCL22',\n 'CCL8',\n 'CCM mode',\n 'CCR1',\n 'CCR2',\n 'CD1',\n 'CD135',\n 'CD20',\n 'CD40',\n 'CD46',\n 'CD74',\n 'CD8',\n 'CHEK1',\n 'CHUK',\n 'CMA-ES',\n 'CMAC',\n 'CMOS',\n 'CP violation',\n 'CPU cache',\n 'CPU core voltage',\n 'CPU multiplier',\n 'CPU time',\n 'CUBIC TCP',\n 'CURE data clustering algorithm',\n 'CX',\n 'CXCL10',\n 'CXCL9',\n 'CXCR7',\n 'CYP2C9',\n 'Cabibbo–Kobayashi–Maskawa matrix',\n 'Cable',\n 'Cable gland',\n 'Cable harness',\n 'Cable theory',\n 'Cache',\n 'Cache algorithms',\n 'Cache coloring',\n 'Cache invalidation',\n 'Cache pollution',\n 'Cache-oblivious algorithm',\n 'Caco-2',\n 'Cadherin',\n 'Caesium-137',\n 'Calcination',\n 'Calcitonin gene-related peptide',\n 'Calcium',\n 'Calcium ATPase',\n 'Calcium in biology',\n 'Calcium signaling',\n 'Calcium-binding protein',\n 'Calculus',\n 'Calibration',\n 'Calibration curve',\n 'Call and response',\n 'Call control',\n 'Call management',\n 'Callus',\n 'Calorimetry',\n 'Cam-in-block',\n 'Cambium',\n 'Cancer',\n 'Cancer research',\n 'Cancer stem cell',\n 'Canonical quantization',\n 'Canonical transformation',\n 'Canopy clustering algorithm',\n 'Cantilever',\n 'Capacitance',\n 'Capacitive power supply',\n 'Capacitively coupled plasma',\n 'Capacitor',\n 'Capacity factor',\n 'Capillary action',\n 'Capillary electrophoresis',\n 'Capillary electrophoresis–mass spectrometry',\n 'Capital accumulation',\n 'Capital adequacy ratio',\n 'Capital allocation line',\n 'Capital budgeting',\n 'Capital deepening',\n 'Capital employed',\n 'Capital formation',\n 'Capital intensity',\n 'Capital market',\n 'Capital requirement',\n 'Capitalism',\n 'Capitalization rate',\n 'Carbide-derived carbon',\n 'Carbon',\n 'Carbon black',\n 'Carbon cycle',\n 'Carbon dioxide',\n 'Carbon film',\n 'Carbon monoxide',\n 'Carbon nanofiber',\n 'Carbon nanotube',\n 'Carbon nanotube field-effect transistor',\n 'Carbon nanotube quantum dot',\n 'Carbon sequestration',\n 'Carbon-14',\n 'Carboxylation',\n 'Carboxypeptidase',\n 'Carcinogen',\n 'Carcinogenesis',\n 'Cardiac electrophysiology',\n 'Cardiac output',\n 'Cardiac rhythmicity',\n 'Cardiology',\n 'Cardiothoracic surgery',\n \"Carnot's theorem\",\n 'Carotenoid',\n 'Carrier lifetime',\n 'Carrier protein',\n 'Cartan decomposition',\n 'Cartan matrix',\n 'Cartesian product',\n 'Cartesian tensor',\n 'Cartography',\n 'Cascade algorithm',\n 'Cascade amplifier',\n 'Case-based reasoning',\n 'Case-control study',\n 'Casimir effect',\n 'Casing',\n 'Caspase',\n 'Caspase 3',\n 'Casting',\n 'Casualty insurance',\n 'Catabolism',\n 'Cataclysmic variable star',\n 'Catalysis',\n 'Catalyst poisoning',\n 'Catalyst support',\n 'Catchment hydrology',\n 'Category 5 cable',\n 'Cathode ray',\n 'Cathodic protection',\n 'Cation-exchange capacity',\n 'Cauchy boundary condition',\n \"Cauchy's integral formula\",\n 'Causal consistency',\n 'Causal fermion system',\n 'Cave',\n 'Cavity magnetron',\n 'Ccaat-enhancer-binding proteins',\n 'Cell',\n 'Cell adhesion',\n 'Cell adhesion molecule',\n 'Cell biology',\n 'Cell counting',\n 'Cell culture',\n 'Cell cycle',\n 'Cell cycle checkpoint',\n 'Cell division',\n 'Cell envelope',\n 'Cell fractionation',\n 'Cell fusion',\n 'Cell growth',\n 'Cell migration',\n 'Cell potency',\n 'Cell signaling',\n 'Cell wall',\n 'Cello',\n 'Cellular automaton',\n 'Cellular differentiation',\n 'Cellular network',\n 'Cellulase',\n 'Cellulose fiber',\n 'Cell–cell interaction',\n 'Cement',\n 'Cenozoic',\n 'Censorship',\n 'Center of mass',\n 'Central nervous system',\n 'Centrifugation',\n 'Centromere',\n 'Centrosome',\n 'Ceramic',\n 'Ceramic materials',\n 'Cerebral blood flow',\n 'Cerebrum',\n 'Cerf theory',\n 'Certificate authority',\n 'Certification',\n 'Chagas disease',\n 'Chain complex',\n 'Change management',\n 'Channel',\n 'Channel capacity',\n 'Channel state information',\n 'Character',\n 'Characteristic equation',\n 'Characteristic impedance',\n 'Characteristic polynomial',\n 'Characteristic subgroup',\n 'Charge amplifier',\n 'Charge density',\n 'Charge-carrier density',\n 'Charge-coupled device',\n 'Charge-transfer complex',\n 'Charged particle',\n \"Chauvenet's criterion\",\n 'Chebyshev nodes',\n 'Chebyshev polynomials',\n 'Chelation',\n 'Chemical Engineering',\n 'Chemical beam epitaxy',\n 'Chemical bond',\n 'Chemical composition',\n 'Chemical decomposition',\n 'Chemical equilibrium',\n 'Chemical industry',\n 'Chemical ionization',\n 'Chemical kinetics',\n 'Chemical looping combustion',\n 'Chemical oceanography',\n 'Chemical oxygen demand',\n 'Chemical physics',\n 'Chemical polarity',\n 'Chemical potential',\n 'Chemical property',\n 'Chemical reaction',\n 'Chemical reactor',\n 'Chemical shift',\n 'Chemical stability',\n 'Chemical structure',\n 'Chemical synthesis',\n 'Chemical vapor deposition',\n 'Chemical vapor infiltration',\n 'Chemical-mechanical planarization',\n 'Chemiluminescence',\n 'Chemistry',\n 'Chemistry education',\n 'Chemokine',\n 'Chemokine receptor',\n 'Cherenkov detector',\n 'Chern–Simons theory',\n 'Chi-squared distribution',\n 'Chicken',\n 'Chicken as biological research model',\n 'Child and adolescent psychiatry',\n 'Child development',\n 'Child mortality',\n 'China',\n 'Chine',\n 'Chinese financial system',\n 'Chip',\n 'Chiral anomaly',\n ...]"
     },
     "execution_count": 32,
     "metadata": {},
     "output_type": "execute_result"
    }
   ],
   "source": [
    "unique_fos"
   ],
   "metadata": {
    "collapsed": false,
    "pycharm": {
     "name": "#%%\n"
    }
   }
  },
  {
   "cell_type": "code",
   "execution_count": 38,
   "outputs": [
    {
     "data": {
      "text/plain": "7604"
     },
     "execution_count": 38,
     "metadata": {},
     "output_type": "execute_result"
    }
   ],
   "source": [
    "len(unique_fos)"
   ],
   "metadata": {
    "collapsed": false,
    "pycharm": {
     "name": "#%%\n"
    }
   }
  },
  {
   "cell_type": "code",
   "execution_count": 33,
   "outputs": [],
   "source": [
    "# 年份不重复表\n",
    "unique_year = sorted(model_df['year'].astype('str').unique())"
   ],
   "metadata": {
    "collapsed": false,
    "pycharm": {
     "name": "#%%\n"
    }
   }
  },
  {
   "cell_type": "code",
   "execution_count": 51,
   "outputs": [],
   "source": [
    "def feature_array(x,unique_array):\n",
    "    row_dict = {}\n",
    "    # 整个的字典\n",
    "    for i in x.index:\n",
    "        var_dict = {}\n",
    "        # 对于每一个行 即 每一个论文 有一个one-hot字典\n",
    "        for j in range(len(unique_array)):\n",
    "            if type(x[i]) is list:\n",
    "            # 如果x[i]是列表 有很多种类 那么出现过的就是1 否则是0\n",
    "                if unique_array[j] in x[i]:\n",
    "                    var_dict[unique_array[j]] = 1\n",
    "                else:\n",
    "                    var_dict[unique_array[j]] = 0\n",
    "            else:\n",
    "            # 如果x[i]是单个值 年份的情况下 那么相等就是1 否则就是0\n",
    "                if unique_array[j] == str(x[i]):\n",
    "                    var_dict[unique_array[j]] = 1\n",
    "                else:\n",
    "                    var_dict[unique_array[j]] = 0\n",
    "        row_dict[i] = var_dict\n",
    "        # 构成矩阵\n",
    "    feature_df = pd.DataFrame.from_dict(row_dict,dtype='int').T\n",
    "    # 构成DataFrame\n",
    "    return feature_df"
   ],
   "metadata": {
    "collapsed": false,
    "pycharm": {
     "name": "#%%\n"
    }
   }
  },
  {
   "cell_type": "code",
   "execution_count": 52,
   "outputs": [],
   "source": [
    "# 构成fos特征one-hot和year特征one-hot\n",
    "\n",
    "fos_feature = feature_array(model_df['fos'],unique_fos)"
   ],
   "metadata": {
    "collapsed": false,
    "pycharm": {
     "name": "#%%\n"
    }
   }
  },
  {
   "cell_type": "code",
   "execution_count": 53,
   "outputs": [
    {
     "data": {
      "text/plain": "(10399, 7604)"
     },
     "execution_count": 53,
     "metadata": {},
     "output_type": "execute_result"
    }
   ],
   "source": [
    "fos_feature.shape\n",
    "# fos_feature的One-hot矩阵 10399个样本对应一万多个论文 7604个fos分类 有就是1 否则是0"
   ],
   "metadata": {
    "collapsed": false,
    "pycharm": {
     "name": "#%%\n"
    }
   }
  },
  {
   "cell_type": "code",
   "execution_count": 54,
   "outputs": [],
   "source": [
    "year_feature = feature_array(model_df['year'],unique_year)"
   ],
   "metadata": {
    "collapsed": false,
    "pycharm": {
     "name": "#%%\n"
    }
   }
  },
  {
   "cell_type": "code",
   "execution_count": 55,
   "outputs": [
    {
     "data": {
      "text/plain": "(10399, 156)"
     },
     "execution_count": 55,
     "metadata": {},
     "output_type": "execute_result"
    }
   ],
   "source": [
    "year_feature.shape\n",
    "# year_feature-hot矩阵 10399个样本对应一万多个论文 156个不同年份 是就是1 否则是0"
   ],
   "metadata": {
    "collapsed": false,
    "pycharm": {
     "name": "#%%\n"
    }
   }
  },
  {
   "cell_type": "code",
   "execution_count": 56,
   "outputs": [],
   "source": [
    "# 第一轮特征工程的处理结果 fos特征与Year特征拼接\n",
    "first_feature = fos_feature.join(year_feature).T"
   ],
   "metadata": {
    "collapsed": false,
    "pycharm": {
     "name": "#%%\n"
    }
   }
  },
  {
   "cell_type": "code",
   "execution_count": 57,
   "outputs": [
    {
     "data": {
      "text/plain": "                         0      1      2      5      7      8      9      \\\n0                            0      0      0      0      0      0      0   \n0-10 V lighting control      0      0      0      0      0      0      0   \n1/N expansion                0      0      0      0      0      0      0   \n10G-PON                      0      0      0      0      0      0      0   \n14-3-3 protein               0      0      0      0      0      0      0   \n\n                         10     11     12     ...  19985  19986  19987  19988  \\\n0                            0      0      0  ...      0      0      0      0   \n0-10 V lighting control      0      0      0  ...      0      0      0      0   \n1/N expansion                0      0      0  ...      0      0      0      0   \n10G-PON                      0      0      0  ...      0      0      0      0   \n14-3-3 protein               0      0      0  ...      0      0      0      0   \n\n                         19993  19994  19995  19997  19998  19999  \n0                            0      0      0      0      0      0  \n0-10 V lighting control      0      0      0      0      0      0  \n1/N expansion                0      0      0      0      0      0  \n10G-PON                      0      0      0      0      0      0  \n14-3-3 protein               0      0      0      0      0      0  \n\n[5 rows x 10399 columns]",
      "text/html": "<div>\n<style scoped>\n    .dataframe tbody tr th:only-of-type {\n        vertical-align: middle;\n    }\n\n    .dataframe tbody tr th {\n        vertical-align: top;\n    }\n\n    .dataframe thead th {\n        text-align: right;\n    }\n</style>\n<table border=\"1\" class=\"dataframe\">\n  <thead>\n    <tr style=\"text-align: right;\">\n      <th></th>\n      <th>0</th>\n      <th>1</th>\n      <th>2</th>\n      <th>5</th>\n      <th>7</th>\n      <th>8</th>\n      <th>9</th>\n      <th>10</th>\n      <th>11</th>\n      <th>12</th>\n      <th>...</th>\n      <th>19985</th>\n      <th>19986</th>\n      <th>19987</th>\n      <th>19988</th>\n      <th>19993</th>\n      <th>19994</th>\n      <th>19995</th>\n      <th>19997</th>\n      <th>19998</th>\n      <th>19999</th>\n    </tr>\n  </thead>\n  <tbody>\n    <tr>\n      <th>0</th>\n      <td>0</td>\n      <td>0</td>\n      <td>0</td>\n      <td>0</td>\n      <td>0</td>\n      <td>0</td>\n      <td>0</td>\n      <td>0</td>\n      <td>0</td>\n      <td>0</td>\n      <td>...</td>\n      <td>0</td>\n      <td>0</td>\n      <td>0</td>\n      <td>0</td>\n      <td>0</td>\n      <td>0</td>\n      <td>0</td>\n      <td>0</td>\n      <td>0</td>\n      <td>0</td>\n    </tr>\n    <tr>\n      <th>0-10 V lighting control</th>\n      <td>0</td>\n      <td>0</td>\n      <td>0</td>\n      <td>0</td>\n      <td>0</td>\n      <td>0</td>\n      <td>0</td>\n      <td>0</td>\n      <td>0</td>\n      <td>0</td>\n      <td>...</td>\n      <td>0</td>\n      <td>0</td>\n      <td>0</td>\n      <td>0</td>\n      <td>0</td>\n      <td>0</td>\n      <td>0</td>\n      <td>0</td>\n      <td>0</td>\n      <td>0</td>\n    </tr>\n    <tr>\n      <th>1/N expansion</th>\n      <td>0</td>\n      <td>0</td>\n      <td>0</td>\n      <td>0</td>\n      <td>0</td>\n      <td>0</td>\n      <td>0</td>\n      <td>0</td>\n      <td>0</td>\n      <td>0</td>\n      <td>...</td>\n      <td>0</td>\n      <td>0</td>\n      <td>0</td>\n      <td>0</td>\n      <td>0</td>\n      <td>0</td>\n      <td>0</td>\n      <td>0</td>\n      <td>0</td>\n      <td>0</td>\n    </tr>\n    <tr>\n      <th>10G-PON</th>\n      <td>0</td>\n      <td>0</td>\n      <td>0</td>\n      <td>0</td>\n      <td>0</td>\n      <td>0</td>\n      <td>0</td>\n      <td>0</td>\n      <td>0</td>\n      <td>0</td>\n      <td>...</td>\n      <td>0</td>\n      <td>0</td>\n      <td>0</td>\n      <td>0</td>\n      <td>0</td>\n      <td>0</td>\n      <td>0</td>\n      <td>0</td>\n      <td>0</td>\n      <td>0</td>\n    </tr>\n    <tr>\n      <th>14-3-3 protein</th>\n      <td>0</td>\n      <td>0</td>\n      <td>0</td>\n      <td>0</td>\n      <td>0</td>\n      <td>0</td>\n      <td>0</td>\n      <td>0</td>\n      <td>0</td>\n      <td>0</td>\n      <td>...</td>\n      <td>0</td>\n      <td>0</td>\n      <td>0</td>\n      <td>0</td>\n      <td>0</td>\n      <td>0</td>\n      <td>0</td>\n      <td>0</td>\n      <td>0</td>\n      <td>0</td>\n    </tr>\n  </tbody>\n</table>\n<p>5 rows × 10399 columns</p>\n</div>"
     },
     "execution_count": 57,
     "metadata": {},
     "output_type": "execute_result"
    }
   ],
   "source": [
    "first_feature.head()"
   ],
   "metadata": {
    "collapsed": false,
    "pycharm": {
     "name": "#%%\n"
    }
   }
  },
  {
   "cell_type": "code",
   "execution_count": 58,
   "outputs": [
    {
     "data": {
      "text/plain": "(7760, 10399)"
     },
     "execution_count": 58,
     "metadata": {},
     "output_type": "execute_result"
    }
   ],
   "source": [
    "first_feature.shape\n",
    "\n",
    "# 每一行是对应特征 总共有7604+156维特征 每一列是一个论文样本10399个样本"
   ],
   "metadata": {
    "collapsed": false,
    "pycharm": {
     "name": "#%%\n"
    }
   }
  },
  {
   "cell_type": "code",
   "execution_count": 59,
   "outputs": [
    {
     "name": "stdout",
     "output_type": "stream",
     "text": [
      "Size of first feature array:  646144562\n"
     ]
    }
   ],
   "source": [
    "from sys import getsizeof\n",
    "\n",
    "print('Size of first feature array: ', getsizeof(first_feature))"
   ],
   "metadata": {
    "collapsed": false,
    "pycharm": {
     "name": "#%%\n"
    }
   }
  },
  {
   "cell_type": "code",
   "execution_count": 61,
   "outputs": [],
   "source": [
    "# 协同过滤 查找相似值\n",
    "\n",
    "from scipy.spatial.distance import cosine\n",
    "\n",
    "def item_collab_filter(feature_df):\n",
    "    item_similarities = pd.DataFrame(index=feature_df.columns, columns = feature_df.columns)\n",
    "\n",
    "    for i in feature_df.columns:\n",
    "        for j in feature_df.columns:\n",
    "            item_similarities.loc[i][j] = 1-cosine(feature_df[i],feature_df[j])\n",
    "            # 列和列之间做cos 因为列代表的是每个样本\n",
    "    return item_similarities"
   ],
   "metadata": {
    "collapsed": false,
    "pycharm": {
     "name": "#%%\n"
    }
   }
  },
  {
   "cell_type": "code",
   "execution_count": 62,
   "outputs": [],
   "source": [
    "first_item = item_collab_filter(first_feature.loc[:,0:1000])\n",
    "# 此次计算时间极长 O(n2)"
   ],
   "metadata": {
    "collapsed": false,
    "pycharm": {
     "name": "#%%\n"
    }
   }
  },
  {
   "cell_type": "code",
   "execution_count": 63,
   "outputs": [],
   "source": [
    "import matplotlib.pyplot as plt\n",
    "import seaborn as sns"
   ],
   "metadata": {
    "collapsed": false,
    "pycharm": {
     "name": "#%%\n"
    }
   }
  },
  {
   "cell_type": "code",
   "execution_count": 64,
   "outputs": [
    {
     "data": {
      "text/plain": "<Figure size 432x288 with 2 Axes>",
      "image/png": "[encoded data removed]"
     },
     "metadata": {},
     "output_type": "display_data"
    }
   ],
   "source": [
    "sns.set()\n",
    "ax = sns.heatmap(first_item.fillna(0),\n",
    "                 vmin=0, vmax=1,\n",
    "                 cmap='YlGnBu',\n",
    "                 xticklabels=250,yticklabels=250)\n",
    "ax.tick_params(labelsize=12)\n",
    "\n",
    "# 颜色越深彼此相似度越高 而对角线就是自己和自己计算相似度 所以是最黑的\n",
    "# 有一些空的位置 因为有一些NaN值 导致的空白"
   ],
   "metadata": {
    "collapsed": false,
    "pycharm": {
     "name": "#%%\n"
    }
   }
  },
  {
   "cell_type": "code",
   "execution_count": 65,
   "outputs": [],
   "source": [
    "# 基于item_df的topn进行推荐\n",
    "def paper_recommender(paper_ix, item_df):\n",
    "    print('Based on the paper: \\n index = ', paper_ix)\n",
    "    print(model_df.iloc[paper_ix])\n",
    "\n",
    "    top_results = item_df.loc[paper_ix].sort_values(ascending=False).head(4)\n",
    "\n",
    "    print('\\n Top three results: ')\n",
    "    order = 1\n",
    "    for i in top_results.index.tolist()[-3:]:\n",
    "        print(order,'. Paper index = ', i)\n",
    "        print('Similarity Score: ',top_results[i])\n",
    "        print(model_df.iloc[i],'\\n')\n",
    "        if order<5:\n",
    "            order += 1"
   ],
   "metadata": {
    "collapsed": false,
    "pycharm": {
     "name": "#%%\n"
    }
   }
  },
  {
   "cell_type": "code",
   "execution_count": 66,
   "outputs": [
    {
     "name": "stdout",
     "output_type": "stream",
     "text": [
      "Based on the paper: \n",
      " index =  2\n",
      "title       Should endometriosis be an indication for intr...\n",
      "year                                                     2015\n",
      "abstract                                                  NaN\n",
      "fos                                                       NaN\n",
      "authors     [{'name': 'Jovana P. Lekovich', 'org': 'Weill ...\n",
      "keywords                                                  NaN\n",
      "Name: 2, dtype: object\n",
      "\n",
      " Top three results: \n",
      "1 . Paper index =  525\n",
      "Similarity Score:  1.0\n",
      "title       Super-Hydrophilic Lu3+-Doped TiO2 Photocatalys...\n",
      "year                                                     2012\n",
      "abstract    The self-cleaning glasses can be realized by c...\n",
      "fos            [Materials Science, Ceramic materials, Optics]\n",
      "authors     [{'name': 'Wen Yuan Xu'}, {'name': 'Li Na Meng...\n",
      "keywords    [lu 3 doping, super hydrophilicity, tio 2 film...\n",
      "Name: 1021, dtype: object \n",
      "\n",
      "2 . Paper index =  593\n",
      "Similarity Score:  1.0\n",
      "title       The water saving potential and the socio-econo...\n",
      "year                                                     2008\n",
      "abstract    This paper demonstrates that on‐site greywater...\n",
      "fos         [Public opinion, Environmental Engineering, Wa...\n",
      "authors     [{'name': 'Eran Friedler', 'org': 'Division of...\n",
      "keywords    [economic analysis, tratamiento desperdicios, ...\n",
      "Name: 1152, dtype: object \n",
      "\n",
      "3 . Paper index =  292\n",
      "Similarity Score:  1.0\n",
      "title                    Automatic speed control for aircraft\n",
      "year                                                     1955\n",
      "abstract                                                  NaN\n",
      "fos         [Wide area multilateration, Maneuvering speed,...\n",
      "authors     [{'name': 'John C. Newton'}, {'name': 'Beers M...\n",
      "keywords                                                  NaN\n",
      "Name: 561, dtype: object \n",
      "\n"
     ]
    }
   ],
   "source": [
    "paper_recommender(2, first_item)"
   ],
   "metadata": {
    "collapsed": false,
    "pycharm": {
     "name": "#%%\n"
    }
   }
  },
  {
   "cell_type": "code",
   "execution_count": null,
   "outputs": [],
   "source": [
    "# 第一种方法整体而言是采用两列特征 用极为稀疏的近似one-hot矩阵 用cos计算相似度进行推荐\n",
    "\n",
    "# 总体而言 第一个方法太慢了 找出的结果也不是很理想\n",
    "# 需要更智能 迭代化的特征工程方法"
   ],
   "metadata": {
    "collapsed": false,
    "pycharm": {
     "name": "#%%\n"
    }
   }
  },
  {
   "cell_type": "code",
   "execution_count": null,
   "outputs": [],
   "source": [
    "# ---------------------------------------------------------------------------------------"
   ],
   "metadata": {
    "collapsed": false,
    "pycharm": {
     "name": "#%%\n"
    }
   }
  },
  {
   "cell_type": "code",
   "execution_count": 68,
   "outputs": [
    {
     "name": "stdout",
     "output_type": "stream",
     "text": [
      "Year spread:  1831  -  2017\n",
      "Quantile spread: \n",
      " 0.25    1990.0\n",
      "0.50    2005.0\n",
      "0.75    2012.0\n",
      "Name: year, dtype: float64\n"
     ]
    }
   ],
   "source": [
    "# 对出版年份进行分析 取值范围与分位数\n",
    "print('Year spread: ', model_df['year'].min(),\" - \",model_df['year'].max())\n",
    "print('Quantile spread: \\n', model_df['year'].quantile([0.25,0.5,0.75]))"
   ],
   "metadata": {
    "collapsed": false,
    "pycharm": {
     "name": "#%%\n"
    }
   }
  },
  {
   "cell_type": "code",
   "execution_count": 69,
   "outputs": [
    {
     "data": {
      "text/plain": "Text(0, 0.5, 'Occurrence')"
     },
     "execution_count": 69,
     "metadata": {},
     "output_type": "execute_result"
    },
    {
     "data": {
      "text/plain": "<Figure size 432x288 with 1 Axes>",
      "image/png": "[encoded data removed]"
     },
     "metadata": {},
     "output_type": "display_data"
    }
   ],
   "source": [
    "fig, ax = plt.subplots()\n",
    "model_df['year'].hist(ax=ax, bins= model_df['year'].max() - model_df['year'].min())\n",
    "ax.tick_params(labelsize=12)\n",
    "ax.set_xlabel('Year Count', fontsize=12)\n",
    "ax.set_ylabel('Occurrence', fontsize=12)\n",
    "\n",
    "# 长尾分布 很适合分箱操作"
   ],
   "metadata": {
    "collapsed": false,
    "pycharm": {
     "name": "#%%\n"
    }
   }
  },
  {
   "cell_type": "code",
   "execution_count": 70,
   "outputs": [
    {
     "data": {
      "text/plain": "19"
     },
     "execution_count": 70,
     "metadata": {},
     "output_type": "execute_result"
    }
   ],
   "source": [
    "bins = int(round((model_df['year'].max() - model_df['year'].min()) / 10))\n",
    "bins"
   ],
   "metadata": {
    "collapsed": false,
    "pycharm": {
     "name": "#%%\n"
    }
   }
  },
  {
   "cell_type": "code",
   "execution_count": 71,
   "outputs": [
    {
     "data": {
      "text/plain": "IntervalIndex([(1830.814, 1840.789], (1840.789, 1850.579], (1850.579, 1860.368], (1860.368, 1870.158], (1870.158, 1879.947] ... (1968.053, 1977.842], (1977.842, 1987.632], (1987.632, 1997.421], (1997.421, 2007.211], (2007.211, 2017.0]], dtype='interval[float64, right]')"
     },
     "execution_count": 71,
     "metadata": {},
     "output_type": "execute_result"
    }
   ],
   "source": [
    "temp_df = pd.DataFrame(index = model_df.index)\n",
    "temp_df['yearBinned'] = pd.cut(model_df['year'].tolist(), bins)\n",
    "X_yrs = pd.get_dummies(temp_df['yearBinned'])\n",
    "X_yrs.columns.categories\n",
    "\n",
    "# 分十九箱"
   ],
   "metadata": {
    "collapsed": false,
    "pycharm": {
     "name": "#%%\n"
    }
   }
  },
  {
   "cell_type": "code",
   "execution_count": 72,
   "outputs": [
    {
     "data": {
      "text/plain": "                 yearBinned\n0        (2007.211, 2017.0]\n1        (2007.211, 2017.0]\n2        (2007.211, 2017.0]\n5      (1958.263, 1968.053]\n7      (1968.053, 1977.842]\n...                     ...\n19994  (1948.474, 1958.263]\n19995    (2007.211, 2017.0]\n19997  (1968.053, 1977.842]\n19998  (1977.842, 1987.632]\n19999    (2007.211, 2017.0]\n\n[10399 rows x 1 columns]",
      "text/html": "<div>\n<style scoped>\n    .dataframe tbody tr th:only-of-type {\n        vertical-align: middle;\n    }\n\n    .dataframe tbody tr th {\n        vertical-align: top;\n    }\n\n    .dataframe thead th {\n        text-align: right;\n    }\n</style>\n<table border=\"1\" class=\"dataframe\">\n  <thead>\n    <tr style=\"text-align: right;\">\n      <th></th>\n      <th>yearBinned</th>\n    </tr>\n  </thead>\n  <tbody>\n    <tr>\n      <th>0</th>\n      <td>(2007.211, 2017.0]</td>\n    </tr>\n    <tr>\n      <th>1</th>\n      <td>(2007.211, 2017.0]</td>\n    </tr>\n    <tr>\n      <th>2</th>\n      <td>(2007.211, 2017.0]</td>\n    </tr>\n    <tr>\n      <th>5</th>\n      <td>(1958.263, 1968.053]</td>\n    </tr>\n    <tr>\n      <th>7</th>\n      <td>(1968.053, 1977.842]</td>\n    </tr>\n    <tr>\n      <th>...</th>\n      <td>...</td>\n    </tr>\n    <tr>\n      <th>19994</th>\n      <td>(1948.474, 1958.263]</td>\n    </tr>\n    <tr>\n      <th>19995</th>\n      <td>(2007.211, 2017.0]</td>\n    </tr>\n    <tr>\n      <th>19997</th>\n      <td>(1968.053, 1977.842]</td>\n    </tr>\n    <tr>\n      <th>19998</th>\n      <td>(1977.842, 1987.632]</td>\n    </tr>\n    <tr>\n      <th>19999</th>\n      <td>(2007.211, 2017.0]</td>\n    </tr>\n  </tbody>\n</table>\n<p>10399 rows × 1 columns</p>\n</div>"
     },
     "execution_count": 72,
     "metadata": {},
     "output_type": "execute_result"
    }
   ],
   "source": [
    "temp_df\n",
    "# temp_df是用cut对每类进行分箱"
   ],
   "metadata": {
    "collapsed": false,
    "pycharm": {
     "name": "#%%\n"
    }
   }
  },
  {
   "cell_type": "code",
   "execution_count": 73,
   "outputs": [
    {
     "data": {
      "text/plain": "       (1830.814, 1840.789]  (1840.789, 1850.579]  (1850.579, 1860.368]  \\\n0                         0                     0                     0   \n1                         0                     0                     0   \n2                         0                     0                     0   \n5                         0                     0                     0   \n7                         0                     0                     0   \n...                     ...                   ...                   ...   \n19994                     0                     0                     0   \n19995                     0                     0                     0   \n19997                     0                     0                     0   \n19998                     0                     0                     0   \n19999                     0                     0                     0   \n\n       (1860.368, 1870.158]  (1870.158, 1879.947]  (1879.947, 1889.737]  \\\n0                         0                     0                     0   \n1                         0                     0                     0   \n2                         0                     0                     0   \n5                         0                     0                     0   \n7                         0                     0                     0   \n...                     ...                   ...                   ...   \n19994                     0                     0                     0   \n19995                     0                     0                     0   \n19997                     0                     0                     0   \n19998                     0                     0                     0   \n19999                     0                     0                     0   \n\n       (1889.737, 1899.526]  (1899.526, 1909.316]  (1909.316, 1919.105]  \\\n0                         0                     0                     0   \n1                         0                     0                     0   \n2                         0                     0                     0   \n5                         0                     0                     0   \n7                         0                     0                     0   \n...                     ...                   ...                   ...   \n19994                     0                     0                     0   \n19995                     0                     0                     0   \n19997                     0                     0                     0   \n19998                     0                     0                     0   \n19999                     0                     0                     0   \n\n       (1919.105, 1928.895]  (1928.895, 1938.684]  (1938.684, 1948.474]  \\\n0                         0                     0                     0   \n1                         0                     0                     0   \n2                         0                     0                     0   \n5                         0                     0                     0   \n7                         0                     0                     0   \n...                     ...                   ...                   ...   \n19994                     0                     0                     0   \n19995                     0                     0                     0   \n19997                     0                     0                     0   \n19998                     0                     0                     0   \n19999                     0                     0                     0   \n\n       (1948.474, 1958.263]  (1958.263, 1968.053]  (1968.053, 1977.842]  \\\n0                         0                     0                     0   \n1                         0                     0                     0   \n2                         0                     0                     0   \n5                         0                     1                     0   \n7                         0                     0                     1   \n...                     ...                   ...                   ...   \n19994                     1                     0                     0   \n19995                     0                     0                     0   \n19997                     0                     0                     1   \n19998                     0                     0                     0   \n19999                     0                     0                     0   \n\n       (1977.842, 1987.632]  (1987.632, 1997.421]  (1997.421, 2007.211]  \\\n0                         0                     0                     0   \n1                         0                     0                     0   \n2                         0                     0                     0   \n5                         0                     0                     0   \n7                         0                     0                     0   \n...                     ...                   ...                   ...   \n19994                     0                     0                     0   \n19995                     0                     0                     0   \n19997                     0                     0                     0   \n19998                     1                     0                     0   \n19999                     0                     0                     0   \n\n       (2007.211, 2017.0]  \n0                       1  \n1                       1  \n2                       1  \n5                       0  \n7                       0  \n...                   ...  \n19994                   0  \n19995                   1  \n19997                   0  \n19998                   0  \n19999                   1  \n\n[10399 rows x 19 columns]",
      "text/html": "<div>\n<style scoped>\n    .dataframe tbody tr th:only-of-type {\n        vertical-align: middle;\n    }\n\n    .dataframe tbody tr th {\n        vertical-align: top;\n    }\n\n    .dataframe thead th {\n        text-align: right;\n    }\n</style>\n<table border=\"1\" class=\"dataframe\">\n  <thead>\n    <tr style=\"text-align: right;\">\n      <th></th>\n      <th>(1830.814, 1840.789]</th>\n      <th>(1840.789, 1850.579]</th>\n      <th>(1850.579, 1860.368]</th>\n      <th>(1860.368, 1870.158]</th>\n      <th>(1870.158, 1879.947]</th>\n      <th>(1879.947, 1889.737]</th>\n      <th>(1889.737, 1899.526]</th>\n      <th>(1899.526, 1909.316]</th>\n      <th>(1909.316, 1919.105]</th>\n      <th>(1919.105, 1928.895]</th>\n      <th>(1928.895, 1938.684]</th>\n      <th>(1938.684, 1948.474]</th>\n      <th>(1948.474, 1958.263]</th>\n      <th>(1958.263, 1968.053]</th>\n      <th>(1968.053, 1977.842]</th>\n      <th>(1977.842, 1987.632]</th>\n      <th>(1987.632, 1997.421]</th>\n      <th>(1997.421, 2007.211]</th>\n      <th>(2007.211, 2017.0]</th>\n    </tr>\n  </thead>\n  <tbody>\n    <tr>\n      <th>0</th>\n      <td>0</td>\n      <td>0</td>\n      <td>0</td>\n      <td>0</td>\n      <td>0</td>\n      <td>0</td>\n      <td>0</td>\n      <td>0</td>\n      <td>0</td>\n      <td>0</td>\n      <td>0</td>\n      <td>0</td>\n      <td>0</td>\n      <td>0</td>\n      <td>0</td>\n      <td>0</td>\n      <td>0</td>\n      <td>0</td>\n      <td>1</td>\n    </tr>\n    <tr>\n      <th>1</th>\n      <td>0</td>\n      <td>0</td>\n      <td>0</td>\n      <td>0</td>\n      <td>0</td>\n      <td>0</td>\n      <td>0</td>\n      <td>0</td>\n      <td>0</td>\n      <td>0</td>\n      <td>0</td>\n      <td>0</td>\n      <td>0</td>\n      <td>0</td>\n      <td>0</td>\n      <td>0</td>\n      <td>0</td>\n      <td>0</td>\n      <td>1</td>\n    </tr>\n    <tr>\n      <th>2</th>\n      <td>0</td>\n      <td>0</td>\n      <td>0</td>\n      <td>0</td>\n      <td>0</td>\n      <td>0</td>\n      <td>0</td>\n      <td>0</td>\n      <td>0</td>\n      <td>0</td>\n      <td>0</td>\n      <td>0</td>\n      <td>0</td>\n      <td>0</td>\n      <td>0</td>\n      <td>0</td>\n      <td>0</td>\n      <td>0</td>\n      <td>1</td>\n    </tr>\n    <tr>\n      <th>5</th>\n      <td>0</td>\n      <td>0</td>\n      <td>0</td>\n      <td>0</td>\n      <td>0</td>\n      <td>0</td>\n      <td>0</td>\n      <td>0</td>\n      <td>0</td>\n      <td>0</td>\n      <td>0</td>\n      <td>0</td>\n      <td>0</td>\n      <td>1</td>\n      <td>0</td>\n      <td>0</td>\n      <td>0</td>\n      <td>0</td>\n      <td>0</td>\n    </tr>\n    <tr>\n      <th>7</th>\n      <td>0</td>\n      <td>0</td>\n      <td>0</td>\n      <td>0</td>\n      <td>0</td>\n      <td>0</td>\n      <td>0</td>\n      <td>0</td>\n      <td>0</td>\n      <td>0</td>\n      <td>0</td>\n      <td>0</td>\n      <td>0</td>\n      <td>0</td>\n      <td>1</td>\n      <td>0</td>\n      <td>0</td>\n      <td>0</td>\n      <td>0</td>\n    </tr>\n    <tr>\n      <th>...</th>\n      <td>...</td>\n      <td>...</td>\n      <td>...</td>\n      <td>...</td>\n      <td>...</td>\n      <td>...</td>\n      <td>...</td>\n      <td>...</td>\n      <td>...</td>\n      <td>...</td>\n      <td>...</td>\n      <td>...</td>\n      <td>...</td>\n      <td>...</td>\n      <td>...</td>\n      <td>...</td>\n      <td>...</td>\n      <td>...</td>\n      <td>...</td>\n    </tr>\n    <tr>\n      <th>19994</th>\n      <td>0</td>\n      <td>0</td>\n      <td>0</td>\n      <td>0</td>\n      <td>0</td>\n      <td>0</td>\n      <td>0</td>\n      <td>0</td>\n      <td>0</td>\n      <td>0</td>\n      <td>0</td>\n      <td>0</td>\n      <td>1</td>\n      <td>0</td>\n      <td>0</td>\n      <td>0</td>\n      <td>0</td>\n      <td>0</td>\n      <td>0</td>\n    </tr>\n    <tr>\n      <th>19995</th>\n      <td>0</td>\n      <td>0</td>\n      <td>0</td>\n      <td>0</td>\n      <td>0</td>\n      <td>0</td>\n      <td>0</td>\n      <td>0</td>\n      <td>0</td>\n      <td>0</td>\n      <td>0</td>\n      <td>0</td>\n      <td>0</td>\n      <td>0</td>\n      <td>0</td>\n      <td>0</td>\n      <td>0</td>\n      <td>0</td>\n      <td>1</td>\n    </tr>\n    <tr>\n      <th>19997</th>\n      <td>0</td>\n      <td>0</td>\n      <td>0</td>\n      <td>0</td>\n      <td>0</td>\n      <td>0</td>\n      <td>0</td>\n      <td>0</td>\n      <td>0</td>\n      <td>0</td>\n      <td>0</td>\n      <td>0</td>\n      <td>0</td>\n      <td>0</td>\n      <td>1</td>\n      <td>0</td>\n      <td>0</td>\n      <td>0</td>\n      <td>0</td>\n    </tr>\n    <tr>\n      <th>19998</th>\n      <td>0</td>\n      <td>0</td>\n      <td>0</td>\n      <td>0</td>\n      <td>0</td>\n      <td>0</td>\n      <td>0</td>\n      <td>0</td>\n      <td>0</td>\n      <td>0</td>\n      <td>0</td>\n      <td>0</td>\n      <td>0</td>\n      <td>0</td>\n      <td>0</td>\n      <td>1</td>\n      <td>0</td>\n      <td>0</td>\n      <td>0</td>\n    </tr>\n    <tr>\n      <th>19999</th>\n      <td>0</td>\n      <td>0</td>\n      <td>0</td>\n      <td>0</td>\n      <td>0</td>\n      <td>0</td>\n      <td>0</td>\n      <td>0</td>\n      <td>0</td>\n      <td>0</td>\n      <td>0</td>\n      <td>0</td>\n      <td>0</td>\n      <td>0</td>\n      <td>0</td>\n      <td>0</td>\n      <td>0</td>\n      <td>0</td>\n      <td>1</td>\n    </tr>\n  </tbody>\n</table>\n<p>10399 rows × 19 columns</p>\n</div>"
     },
     "execution_count": 73,
     "metadata": {},
     "output_type": "execute_result"
    }
   ],
   "source": [
    "X_yrs\n",
    "# get_dummies是对齐进行转换成one-hot向量"
   ],
   "metadata": {
    "collapsed": false,
    "pycharm": {
     "name": "#%%\n"
    }
   }
  },
  {
   "cell_type": "code",
   "execution_count": 78,
   "outputs": [
    {
     "data": {
      "text/plain": "(2007.211, 2017.0]      4329\n(1997.421, 2007.211]    2352\n(1987.632, 1997.421]    1378\n(1977.842, 1987.632]     835\n(1968.053, 1977.842]     593\n(1958.263, 1968.053]     374\n(1948.474, 1958.263]     227\n(1938.684, 1948.474]      80\n(1928.895, 1938.684]      75\n(1919.105, 1928.895]      49\n(1909.316, 1919.105]      30\n(1899.526, 1909.316]      21\n(1889.737, 1899.526]      14\n(1879.947, 1889.737]      10\n(1870.158, 1879.947]       8\n(1830.814, 1840.789]       8\n(1840.789, 1850.579]       7\n(1860.368, 1870.158]       5\n(1850.579, 1860.368]       4\nName: yearBinned, dtype: int64"
     },
     "execution_count": 78,
     "metadata": {},
     "output_type": "execute_result"
    }
   ],
   "source": [
    "temp_df['yearBinned'].value_counts()"
   ],
   "metadata": {
    "collapsed": false,
    "pycharm": {
     "name": "#%%\n"
    }
   }
  },
  {
   "cell_type": "code",
   "execution_count": 77,
   "outputs": [
    {
     "data": {
      "text/plain": "(1830.814, 1840.789]       8\n(1840.789, 1850.579]       7\n(1850.579, 1860.368]       4\n(1860.368, 1870.158]       5\n(1870.158, 1879.947]       8\n(1879.947, 1889.737]      10\n(1889.737, 1899.526]      14\n(1899.526, 1909.316]      21\n(1909.316, 1919.105]      30\n(1919.105, 1928.895]      49\n(1928.895, 1938.684]      75\n(1938.684, 1948.474]      80\n(1948.474, 1958.263]     227\n(1958.263, 1968.053]     374\n(1968.053, 1977.842]     593\n(1977.842, 1987.632]     835\n(1987.632, 1997.421]    1378\n(1997.421, 2007.211]    2352\n(2007.211, 2017.0]      4329\ndtype: int64"
     },
     "execution_count": 77,
     "metadata": {},
     "output_type": "execute_result"
    }
   ],
   "source": [
    "X_yrs.sum()\n",
    "# 统计各个分箱出现次数"
   ],
   "metadata": {
    "collapsed": false,
    "pycharm": {
     "name": "#%%\n"
    }
   }
  },
  {
   "cell_type": "code",
   "execution_count": 74,
   "outputs": [
    {
     "data": {
      "text/plain": "Text(0, 0.5, 'Count')"
     },
     "execution_count": 74,
     "metadata": {},
     "output_type": "execute_result"
    },
    {
     "data": {
      "text/plain": "<Figure size 432x288 with 1 Axes>",
      "image/png": "[encoded data removed]"
     },
     "metadata": {},
     "output_type": "display_data"
    }
   ],
   "source": [
    "fig,ax = plt.subplots()\n",
    "X_yrs.sum().plot.bar(ax=ax)\n",
    "ax.tick_params(labelsize=8)\n",
    "ax.set_xlabel('Binned Years', fontsize=12)\n",
    "ax.set_ylabel('Count', fontsize=12)\n",
    "\n",
    "# 分箱后特征"
   ],
   "metadata": {
    "collapsed": false,
    "pycharm": {
     "name": "#%%\n"
    }
   }
  },
  {
   "cell_type": "code",
   "execution_count": null,
   "outputs": [],
   "source": [
    "# 处理fos特征"
   ],
   "metadata": {
    "collapsed": false,
    "pycharm": {
     "name": "#%%\n"
    }
   }
  },
  {
   "cell_type": "code",
   "execution_count": 79,
   "outputs": [
    {
     "name": "stdout",
     "output_type": "stream",
     "text": [
      "Pandas Series Size:  632939408\n",
      "Numpy Array Size:  120\n"
     ]
    }
   ],
   "source": [
    "X_fos = fos_feature.values\n",
    "\n",
    "print('Pandas Series Size: ', getsizeof(fos_feature))\n",
    "print('Numpy Array Size: ', getsizeof(X_fos))"
   ],
   "metadata": {
    "collapsed": false,
    "pycharm": {
     "name": "#%%\n"
    }
   }
  },
  {
   "cell_type": "code",
   "execution_count": 81,
   "outputs": [
    {
     "data": {
      "text/plain": "(10399, 7604)"
     },
     "execution_count": 81,
     "metadata": {},
     "output_type": "execute_result"
    }
   ],
   "source": [
    "X_fos.shape"
   ],
   "metadata": {
    "collapsed": false,
    "pycharm": {
     "name": "#%%\n"
    }
   }
  },
  {
   "cell_type": "code",
   "execution_count": 82,
   "outputs": [
    {
     "data": {
      "text/plain": "(10399, 19)"
     },
     "execution_count": 82,
     "metadata": {},
     "output_type": "execute_result"
    }
   ],
   "source": [
    "X_yrs.shape"
   ],
   "metadata": {
    "collapsed": false,
    "pycharm": {
     "name": "#%%\n"
    }
   }
  },
  {
   "cell_type": "code",
   "execution_count": 80,
   "outputs": [
    {
     "data": {
      "text/plain": "(10399, 7623)"
     },
     "execution_count": 80,
     "metadata": {},
     "output_type": "execute_result"
    }
   ],
   "source": [
    "# 第二轮特征工程得到的特征结果\n",
    "second_feature = np.append(X_fos, X_yrs, axis=1)\n",
    "second_feature.shape\n",
    "\n",
    "# X_fos 7604分类 这次year是19个分类 因为分箱了 所以总共是7604+19 = 7623分类"
   ],
   "metadata": {
    "collapsed": false,
    "pycharm": {
     "name": "#%%\n"
    }
   }
  },
  {
   "cell_type": "code",
   "execution_count": 83,
   "outputs": [],
   "source": [
    "# 继续用余弦相似度进行度量\n",
    "\n",
    "from sklearn.metrics.pairwise import cosine_similarity"
   ],
   "metadata": {
    "collapsed": false,
    "pycharm": {
     "name": "#%%\n"
    }
   }
  },
  {
   "cell_type": "code",
   "execution_count": 84,
   "outputs": [],
   "source": [
    "def piped_collab_filter(feature_matrix, index, top_n):\n",
    "    item_similarities = 1-\\\n",
    "                        cosine_similarity(feature_matrix[index:index+1], feature_matrix).flatten()\n",
    "    # 相似度就是index坐标位置的向量 和其他所有做余弦计算\n",
    "\n",
    "    related_indices = [i for i in item_similarities.argsort()[::-1] if i != index]\n",
    "    # 先排序 然后取不等于index的下标\n",
    "    return [(index, item_similarities[index])\n",
    "            for index in related_indices][0:top_n]\n",
    "    # 组成top_n个推荐值\n"
   ],
   "metadata": {
    "collapsed": false,
    "pycharm": {
     "name": "#%%\n"
    }
   }
  },
  {
   "cell_type": "code",
   "execution_count": 95,
   "outputs": [
    {
     "data": {
      "text/plain": "2"
     },
     "execution_count": 95,
     "metadata": {},
     "output_type": "execute_result"
    }
   ],
   "source": [
    "model_df.index.get_loc(2)"
   ],
   "metadata": {
    "collapsed": false,
    "pycharm": {
     "name": "#%%\n"
    }
   }
  },
  {
   "cell_type": "code",
   "execution_count": 103,
   "outputs": [
    {
     "data": {
      "text/plain": "1"
     },
     "execution_count": 103,
     "metadata": {},
     "output_type": "execute_result"
    }
   ],
   "source": [
    "model_df.columns.get_loc('year')"
   ],
   "metadata": {
    "collapsed": false,
    "pycharm": {
     "name": "#%%\n"
    }
   }
  },
  {
   "cell_type": "code",
   "execution_count": 99,
   "outputs": [],
   "source": [
    "def paper_recommender(item_df, paper_ix, top_n):\n",
    "    if paper_ix in model_df.index:\n",
    "        print('Based on the paper: ')\n",
    "        # print('Paper Index = ',model_df.loc[paper_ix]['name'])\n",
    "        print('Paper Title = ', model_df.loc[paper_ix]['title'])\n",
    "\n",
    "        array_ix = model_df.index.get_loc(paper_ix)\n",
    "        top_results = piped_collab_filter(item_df, array_ix, top_n)\n",
    "        print('\\n Top ', top_n, ' results:')\n",
    "\n",
    "        order = 1\n",
    "        for i in range(len(top_results)):\n",
    "        # for i in top_results.index.tolist()[-3:]:\n",
    "            print(order,'. Paper index = ', i)\n",
    "            print('Similarity Score: ',top_results[i])\n",
    "            print(model_df.iloc[i],'\\n')\n",
    "            if order<5:\n",
    "                order += 1"
   ],
   "metadata": {
    "collapsed": false,
    "pycharm": {
     "name": "#%%\n"
    }
   }
  },
  {
   "cell_type": "code",
   "execution_count": 100,
   "outputs": [
    {
     "name": "stdout",
     "output_type": "stream",
     "text": [
      "Based on the paper: \n",
      "Paper Title =  Should endometriosis be an indication for intracytoplasmic sperm injection (ICSI) in fresh IVF cycles\n",
      "\n",
      " Top  3  results:\n",
      "1 . Paper index =  0\n",
      "Similarity Score:  (5199, 1.0)\n",
      "title       System and Method for Maskless Direct Write Li...\n",
      "year                                                     2015\n",
      "abstract    A system and method for maskless direct write ...\n",
      "fos         [Electronic engineering, Computer hardware, En...\n",
      "authors                                                   NaN\n",
      "keywords                                                  NaN\n",
      "Name: 0, dtype: object \n",
      "\n",
      "2 . Paper index =  1\n",
      "Similarity Score:  (6088, 1.0)\n",
      "title       The dilemma of the Mycobacterium avium subspec...\n",
      "year                                                     2016\n",
      "abstract                                                  NaN\n",
      "fos             [Biology, Virology, Immunology, Microbiology]\n",
      "authors                      [{'name': 'Ahmed M. Alluwaimi'}]\n",
      "keywords    [paratuberculosis, of, subspecies, proceedings...\n",
      "Name: 1, dtype: object \n",
      "\n",
      "3 . Paper index =  2\n",
      "Similarity Score:  (6090, 1.0)\n",
      "title       Should endometriosis be an indication for intr...\n",
      "year                                                     2015\n",
      "abstract                                                  NaN\n",
      "fos                                                       NaN\n",
      "authors     [{'name': 'Jovana P. Lekovich', 'org': 'Weill ...\n",
      "keywords                                                  NaN\n",
      "Name: 2, dtype: object \n",
      "\n"
     ]
    }
   ],
   "source": [
    "paper_recommender(second_feature,2,3)"
   ],
   "metadata": {
    "collapsed": false,
    "pycharm": {
     "name": "#%%\n"
    }
   }
  },
  {
   "cell_type": "code",
   "execution_count": null,
   "outputs": [],
   "source": [
    "# 目前改进一次之后 虽然可能有所提升 但是也没有多好 此时该怎么办\n",
    "# 1. 使用原始数据中的更多数据 看看能否得到更好的结果\n",
    "# 2. 花费更多时间 探索数据 看能否找到一个足够密集的结合来提供更好的推荐\n",
    "# 3. 添加更多特征 继续迭代当前模型\n",
    "\n",
    "# 第一种是有可能的 但是过于类似于大海捞针了\n",
    "# 第二种可以更好地理解原始数据 应该在数据探索过程中 不断进行调整\n",
    "# 第三种添加更多的特征 得到更好的效果十分合理"
   ],
   "metadata": {
    "collapsed": false,
    "pycharm": {
     "name": "#%%\n"
    }
   }
  },
  {
   "cell_type": "code",
   "execution_count": null,
   "outputs": [],
   "source": [
    "# ---------------------------------------------------------------------------------------"
   ],
   "metadata": {
    "collapsed": false,
    "pycharm": {
     "name": "#%%\n"
    }
   }
  },
  {
   "cell_type": "code",
   "execution_count": null,
   "outputs": [],
   "source": [
    "# 第三轮 考虑论文摘要和作者姓名"
   ],
   "metadata": {
    "collapsed": false,
    "pycharm": {
     "name": "#%%\n"
    }
   }
  },
  {
   "cell_type": "code",
   "execution_count": 104,
   "outputs": [],
   "source": [
    "filled_df = model_df.fillna('None')\n",
    "\n",
    "from sklearn.feature_extraction.text import TfidfVectorizer"
   ],
   "metadata": {
    "collapsed": false,
    "pycharm": {
     "name": "#%%\n"
    }
   }
  },
  {
   "cell_type": "code",
   "execution_count": 105,
   "outputs": [],
   "source": [
    "# 对abstract处理\n",
    "\n",
    "vectorizer = TfidfVectorizer(sublinear_tf=True, max_df=0.5, stop_words='english')\n",
    "X_abstract = vectorizer.fit_transform(filled_df['abstract'])\n",
    "third_features = np.append(second_feature, X_abstract.toarray(), axis=1)\n",
    "\n",
    "# 使用tf-idf将英文单词转化提出特征 再加入成为新特征"
   ],
   "metadata": {
    "collapsed": false,
    "pycharm": {
     "name": "#%%\n"
    }
   }
  },
  {
   "cell_type": "code",
   "execution_count": 106,
   "outputs": [
    {
     "data": {
      "text/plain": "(10399, 48516)"
     },
     "execution_count": 106,
     "metadata": {},
     "output_type": "execute_result"
    }
   ],
   "source": [
    "X_abstract.shape\n",
    "# tfidf将英文词汇转化为48516维的向量"
   ],
   "metadata": {
    "collapsed": false,
    "pycharm": {
     "name": "#%%\n"
    }
   }
  },
  {
   "cell_type": "code",
   "execution_count": 109,
   "outputs": [],
   "source": [
    "authors_df = pd.DataFrame(filled_df.authors)"
   ],
   "metadata": {
    "collapsed": false,
    "pycharm": {
     "name": "#%%\n"
    }
   }
  },
  {
   "cell_type": "code",
   "execution_count": 110,
   "outputs": [
    {
     "data": {
      "text/plain": "<map at 0x7fb118bd2ac0>"
     },
     "execution_count": 110,
     "metadata": {},
     "output_type": "execute_result"
    }
   ],
   "source": [
    "authors_df.itertuples()"
   ],
   "metadata": {
    "collapsed": false,
    "pycharm": {
     "name": "#%%\n"
    }
   }
  },
  {
   "cell_type": "code",
   "execution_count": 111,
   "outputs": [],
   "source": [
    "# 对author处理\n",
    "\n",
    "authors_list = []\n",
    "for row in authors_df.itertuples():\n",
    "    y = {}\n",
    "    if type(row.authors) is str:\n",
    "        y = {'None': row.Index}\n",
    "    if type(row.authors) is list:\n",
    "        y = dict.fromkeys(row.authors[0].values(), row.Index)\n",
    "    authors_list.append(y)\n",
    "\n",
    "# 先把作者整理成字典 再进行one-hot编码"
   ],
   "metadata": {
    "collapsed": false,
    "pycharm": {
     "name": "#%%\n"
    }
   }
  },
  {
   "cell_type": "code",
   "execution_count": 112,
   "outputs": [],
   "source": [
    "from sklearn.feature_extraction import DictVectorizer\n",
    "v = DictVectorizer(sparse=False)\n",
    "D = authors_list\n",
    "X_authors = v.fit_transform(D)\n",
    "fourth_feature = np.append(third_features, X_authors, axis=1)\n",
    "\n",
    "# 使用DictVectorizer转换 最终所有结果作为第四特征"
   ],
   "metadata": {
    "collapsed": false,
    "pycharm": {
     "name": "#%%\n"
    }
   }
  },
  {
   "cell_type": "code",
   "execution_count": 113,
   "outputs": [
    {
     "data": {
      "text/plain": "(10399, 70167)"
     },
     "execution_count": 113,
     "metadata": {},
     "output_type": "execute_result"
    }
   ],
   "source": [
    "fourth_feature.shape\n",
    "# 最终维度70167维特征"
   ],
   "metadata": {
    "collapsed": false,
    "pycharm": {
     "name": "#%%\n"
    }
   }
  },
  {
   "cell_type": "code",
   "execution_count": 114,
   "outputs": [
    {
     "name": "stdout",
     "output_type": "stream",
     "text": [
      "Based on the paper: \n",
      "Paper Title =  Should endometriosis be an indication for intracytoplasmic sperm injection (ICSI) in fresh IVF cycles\n",
      "\n",
      " Top  3  results:\n",
      "1 . Paper index =  0\n",
      "Similarity Score:  (5199, 1.0)\n",
      "title       System and Method for Maskless Direct Write Li...\n",
      "year                                                     2015\n",
      "abstract    A system and method for maskless direct write ...\n",
      "fos         [Electronic engineering, Computer hardware, En...\n",
      "authors                                                   NaN\n",
      "keywords                                                  NaN\n",
      "Name: 0, dtype: object \n",
      "\n",
      "2 . Paper index =  1\n",
      "Similarity Score:  (2878, 1.0)\n",
      "title       The dilemma of the Mycobacterium avium subspec...\n",
      "year                                                     2016\n",
      "abstract                                                  NaN\n",
      "fos             [Biology, Virology, Immunology, Microbiology]\n",
      "authors                      [{'name': 'Ahmed M. Alluwaimi'}]\n",
      "keywords    [paratuberculosis, of, subspecies, proceedings...\n",
      "Name: 1, dtype: object \n",
      "\n",
      "3 . Paper index =  2\n",
      "Similarity Score:  (6346, 1.0)\n",
      "title       Should endometriosis be an indication for intr...\n",
      "year                                                     2015\n",
      "abstract                                                  NaN\n",
      "fos                                                       NaN\n",
      "authors     [{'name': 'Jovana P. Lekovich', 'org': 'Weill ...\n",
      "keywords                                                  NaN\n",
      "Name: 2, dtype: object \n",
      "\n"
     ]
    }
   ],
   "source": [
    "paper_recommender(fourth_feature, 2, 3)"
   ],
   "metadata": {
    "collapsed": false,
    "pycharm": {
     "name": "#%%\n"
    }
   }
  },
  {
   "cell_type": "code",
   "execution_count": null,
   "outputs": [],
   "source": [],
   "metadata": {
    "collapsed": false,
    "pycharm": {
     "name": "#%%\n"
    }
   }
  }
 ],
 "metadata": {
  "kernelspec": {
   "display_name": "Python 3",
   "language": "python",
   "name": "python3"
  },
  "language_info": {
   "codemirror_mode": {
    "name": "ipython",
    "version": 2
   },
   "file_extension": ".py",
   "mimetype": "text/x-python",
   "name": "python",
   "nbconvert_exporter": "python",
   "pygments_lexer": "ipython2",
   "version": "2.7.6"
  }
 },
 "nbformat": 4,
 "nbformat_minor": 0
}