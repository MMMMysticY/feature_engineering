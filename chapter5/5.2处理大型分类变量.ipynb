{
 "cells": [
  {
   "cell_type": "markdown",
   "metadata": {
    "collapsed": true,
    "pycharm": {
     "name": "#%% md\n"
    }
   },
   "source": [
    "在大型分类变量的情况下 使用one-hot编码似乎会使得矩阵过于稀疏 内存利用率也较低\n",
    "\n",
    "一般处理方式有两种：\n",
    "\n",
    "1. 特征散列化 (适用于线性模型)\n",
    "2. 分箱计数 (适用于线性模型和树模型)"
   ]
  },
  {
   "cell_type": "markdown",
   "source": [
    "# 散列特征化\n",
    "散列特征化本质就是哈希+取余的方法\n",
    "\n",
    "散列特征化通过哈希+取余的方法 将所有的数据映射到[1,m]的区间内 m个分箱中\n",
    "\n",
    "散列特征化节约了内存空间 但是失去了特征的可解释性 只变成了初始特征的某种聚合"
   ],
   "metadata": {
    "collapsed": false,
    "pycharm": {
     "name": "#%% md\n"
    }
   }
  },
  {
   "cell_type": "code",
   "execution_count": null,
   "outputs": [],
   "source": [
    "# 散列特征化实践"
   ],
   "metadata": {
    "collapsed": false,
    "pycharm": {
     "name": "#%%\n"
    }
   }
  },
  {
   "cell_type": "code",
   "execution_count": 1,
   "outputs": [],
   "source": [
    "import pandas as pd\n",
    "import json\n",
    "from sklearn.feature_extraction import FeatureHasher"
   ],
   "metadata": {
    "collapsed": false,
    "pycharm": {
     "name": "#%%\n"
    }
   }
  },
  {
   "cell_type": "code",
   "execution_count": 2,
   "outputs": [],
   "source": [
    "dataset_root_path = 'feature_engineering/dataset/'"
   ],
   "metadata": {
    "collapsed": false,
    "pycharm": {
     "name": "#%%\n"
    }
   }
  },
  {
   "cell_type": "code",
   "execution_count": 3,
   "outputs": [],
   "source": [
    "f = open(dataset_root_path + 'yelp_dataset/yelp_academic_dataset_review.json')"
   ],
   "metadata": {
    "collapsed": false,
    "pycharm": {
     "name": "#%%\n"
    }
   }
  },
  {
   "cell_type": "code",
   "execution_count": 4,
   "outputs": [],
   "source": [
    "js = []\n",
    "for i in range(10000):\n",
    "    js.append(json.loads(f.readline()))\n",
    "f.close()"
   ],
   "metadata": {
    "collapsed": false,
    "pycharm": {
     "name": "#%%\n"
    }
   }
  },
  {
   "cell_type": "code",
   "execution_count": 5,
   "outputs": [],
   "source": [
    "review_df = pd.DataFrame(js)"
   ],
   "metadata": {
    "collapsed": false,
    "pycharm": {
     "name": "#%%\n"
    }
   }
  },
  {
   "cell_type": "code",
   "execution_count": 6,
   "outputs": [
    {
     "data": {
      "text/plain": "                review_id                 user_id             business_id  \\\n0  lWC-xP3rd6obsecCYsGZRg  ak0TdVmGKo4pwqdJSTLwWw  buF9druCkbuXLX526sGELQ   \n1  8bFej1QE5LXp4O05qjGqXA  YoVfDbnISlW0f7abNQACIg  RA4V8pr014UyUbDvI-LW2A   \n2  NDhkzczKjLshODbqDoNLSg  eC5evKn1TWDyHCyQAwguUw  _sS2LBIGNT5NQb6PD1Vtjw   \n3  T5fAqjjFooT4V0OeZyuk1w  SFQ1jcnGguO0LYWnbbftAA  0AzLzHfOJgL7ROwhdww2ew   \n4  sjm_uUcQVxab_EeLCqsYLg  0kA0PAJ8QFMeveQWHFqz2A  8zehGz9jnxPqXtOc7KaJxA   \n\n   stars  useful  funny  cool  \\\n0    4.0       3      1     1   \n1    4.0       1      0     0   \n2    5.0       0      0     0   \n3    2.0       1      1     1   \n4    4.0       0      0     0   \n\n                                                text                 date  \n0  Apparently Prides Osteria had a rough summer a...  2014-10-11 03:34:02  \n1  This store is pretty good. Not as great as Wal...  2015-07-03 20:38:25  \n2  I called WVM on the recommendation of a couple...  2013-05-28 20:38:06  \n3  I've stayed at many Marriott and Renaissance M...  2010-01-08 02:29:15  \n4  The food is always great here. The service fro...  2011-07-28 18:05:01  ",
      "text/html": "<div>\n<style scoped>\n    .dataframe tbody tr th:only-of-type {\n        vertical-align: middle;\n    }\n\n    .dataframe tbody tr th {\n        vertical-align: top;\n    }\n\n    .dataframe thead th {\n        text-align: right;\n    }\n</style>\n<table border=\"1\" class=\"dataframe\">\n  <thead>\n    <tr style=\"text-align: right;\">\n      <th></th>\n      <th>review_id</th>\n      <th>user_id</th>\n      <th>business_id</th>\n      <th>stars</th>\n      <th>useful</th>\n      <th>funny</th>\n      <th>cool</th>\n      <th>text</th>\n      <th>date</th>\n    </tr>\n  </thead>\n  <tbody>\n    <tr>\n      <th>0</th>\n      <td>lWC-xP3rd6obsecCYsGZRg</td>\n      <td>ak0TdVmGKo4pwqdJSTLwWw</td>\n      <td>buF9druCkbuXLX526sGELQ</td>\n      <td>4.0</td>\n      <td>3</td>\n      <td>1</td>\n      <td>1</td>\n      <td>Apparently Prides Osteria had a rough summer a...</td>\n      <td>2014-10-11 03:34:02</td>\n    </tr>\n    <tr>\n      <th>1</th>\n      <td>8bFej1QE5LXp4O05qjGqXA</td>\n      <td>YoVfDbnISlW0f7abNQACIg</td>\n      <td>RA4V8pr014UyUbDvI-LW2A</td>\n      <td>4.0</td>\n      <td>1</td>\n      <td>0</td>\n      <td>0</td>\n      <td>This store is pretty good. Not as great as Wal...</td>\n      <td>2015-07-03 20:38:25</td>\n    </tr>\n    <tr>\n      <th>2</th>\n      <td>NDhkzczKjLshODbqDoNLSg</td>\n      <td>eC5evKn1TWDyHCyQAwguUw</td>\n      <td>_sS2LBIGNT5NQb6PD1Vtjw</td>\n      <td>5.0</td>\n      <td>0</td>\n      <td>0</td>\n      <td>0</td>\n      <td>I called WVM on the recommendation of a couple...</td>\n      <td>2013-05-28 20:38:06</td>\n    </tr>\n    <tr>\n      <th>3</th>\n      <td>T5fAqjjFooT4V0OeZyuk1w</td>\n      <td>SFQ1jcnGguO0LYWnbbftAA</td>\n      <td>0AzLzHfOJgL7ROwhdww2ew</td>\n      <td>2.0</td>\n      <td>1</td>\n      <td>1</td>\n      <td>1</td>\n      <td>I've stayed at many Marriott and Renaissance M...</td>\n      <td>2010-01-08 02:29:15</td>\n    </tr>\n    <tr>\n      <th>4</th>\n      <td>sjm_uUcQVxab_EeLCqsYLg</td>\n      <td>0kA0PAJ8QFMeveQWHFqz2A</td>\n      <td>8zehGz9jnxPqXtOc7KaJxA</td>\n      <td>4.0</td>\n      <td>0</td>\n      <td>0</td>\n      <td>0</td>\n      <td>The food is always great here. The service fro...</td>\n      <td>2011-07-28 18:05:01</td>\n    </tr>\n  </tbody>\n</table>\n</div>"
     },
     "execution_count": 6,
     "metadata": {},
     "output_type": "execute_result"
    }
   ],
   "source": [
    "review_df.head()"
   ],
   "metadata": {
    "collapsed": false,
    "pycharm": {
     "name": "#%%\n"
    }
   }
  },
  {
   "cell_type": "code",
   "execution_count": 7,
   "outputs": [
    {
     "data": {
      "text/plain": "4299"
     },
     "execution_count": 7,
     "metadata": {},
     "output_type": "execute_result"
    }
   ],
   "source": [
    "m = len(review_df['business_id'].unique())\n",
    "m"
   ],
   "metadata": {
    "collapsed": false,
    "pycharm": {
     "name": "#%%\n"
    }
   }
  },
  {
   "cell_type": "code",
   "execution_count": 8,
   "outputs": [],
   "source": [
    "h = FeatureHasher(n_features=m, input_type='string')\n",
    "FH = h.transform(review_df['business_id'])"
   ],
   "metadata": {
    "collapsed": false,
    "pycharm": {
     "name": "#%%\n"
    }
   }
  },
  {
   "cell_type": "code",
   "execution_count": 10,
   "outputs": [
    {
     "data": {
      "text/plain": "<10000x4299 sparse matrix of type '<class 'numpy.float64'>'\n\twith 186129 stored elements in Compressed Sparse Row format>"
     },
     "execution_count": 10,
     "metadata": {},
     "output_type": "execute_result"
    }
   ],
   "source": [
    "FH"
   ],
   "metadata": {
    "collapsed": false,
    "pycharm": {
     "name": "#%%\n"
    }
   }
  },
  {
   "cell_type": "code",
   "execution_count": 12,
   "outputs": [
    {
     "data": {
      "text/plain": "array([[0., 0., 0., ..., 0., 0., 0.],\n       [0., 0., 0., ..., 0., 0., 0.],\n       [0., 0., 0., ..., 0., 0., 0.],\n       ...,\n       [0., 0., 0., ..., 0., 0., 0.],\n       [0., 0., 0., ..., 0., 0., 0.],\n       [0., 0., 0., ..., 0., 0., 0.]])"
     },
     "execution_count": 12,
     "metadata": {},
     "output_type": "execute_result"
    }
   ],
   "source": [
    "FH.toarray()"
   ],
   "metadata": {
    "collapsed": false,
    "pycharm": {
     "name": "#%%\n"
    }
   }
  },
  {
   "cell_type": "code",
   "execution_count": 14,
   "outputs": [
    {
     "data": {
      "text/plain": "6.0"
     },
     "execution_count": 14,
     "metadata": {},
     "output_type": "execute_result"
    }
   ],
   "source": [
    "FH.toarray()[0].sum()"
   ],
   "metadata": {
    "collapsed": false,
    "pycharm": {
     "name": "#%%\n"
    }
   }
  },
  {
   "cell_type": "code",
   "execution_count": 19,
   "outputs": [
    {
     "data": {
      "text/plain": "-2.0"
     },
     "execution_count": 19,
     "metadata": {},
     "output_type": "execute_result"
    }
   ],
   "source": [
    "FH.toarray()[5].sum()"
   ],
   "metadata": {
    "collapsed": false,
    "pycharm": {
     "name": "#%%\n"
    }
   }
  },
  {
   "cell_type": "code",
   "execution_count": 21,
   "outputs": [],
   "source": [
    "from sys import getsizeof"
   ],
   "metadata": {
    "collapsed": false,
    "pycharm": {
     "name": "#%%\n"
    }
   }
  },
  {
   "cell_type": "code",
   "execution_count": 22,
   "outputs": [
    {
     "name": "stdout",
     "output_type": "stream",
     "text": [
      "Our pandas Series, in bytes:  790144\n",
      "Our hashed numpy array, in bytes:  208\n"
     ]
    }
   ],
   "source": [
    "print('Our pandas Series, in bytes: ', getsizeof(review_df['business_id']))\n",
    "print('Our hashed numpy array, in bytes: ', getsizeof(f))"
   ],
   "metadata": {
    "collapsed": false,
    "pycharm": {
     "name": "#%%\n"
    }
   }
  },
  {
   "cell_type": "markdown",
   "source": [
    "## 分箱计数\n",
    "\n",
    "分箱计数的思想：分箱计数不使用分类变量的值作为特征，而是使用目标变量取这个值的条件概率\n",
    "\n",
    "换句话说 不对分类变量的值进行编码 而是要计算分类变量值与要预测的目标变量之间的相关关系\n",
    "\n",
    "分享计数会将二值列编码为一个单独的特征 是0-1的实数值\n",
    "\n",
    "这个分箱计数的统计量可以是优势比 对数优势比 也可以是别的东西\n",
    "\n",
    "简而言之 分箱计数将一个分类变量转化为与其值相关的统计量\n",
    "\n",
    "其将一个大型的 稀疏的 二值的分类变量(one-hot等) 转换为小巧的 密集的 实数型的数值表示"
   ],
   "metadata": {
    "collapsed": false,
    "pycharm": {
     "name": "#%% md\n"
    }
   }
  },
  {
   "cell_type": "code",
   "execution_count": 31,
   "outputs": [
    {
     "data": {
      "text/plain": "                     id  click      hour    C1  banner_pos   site_id  \\\n0   1000009418151094273      0  14102100  1005           0  1fbe01fe   \n1  10000169349117863715      0  14102100  1005           0  1fbe01fe   \n2  10000371904215119486      0  14102100  1005           0  1fbe01fe   \n3  10000640724480838376      0  14102100  1005           0  1fbe01fe   \n4  10000679056417042096      0  14102100  1005           1  fe8cc448   \n\n  site_domain site_category    app_id app_domain  ... device_type  \\\n0    f3845767      28905ebd  ecad2386   7801e8d9  ...           1   \n1    f3845767      28905ebd  ecad2386   7801e8d9  ...           1   \n2    f3845767      28905ebd  ecad2386   7801e8d9  ...           1   \n3    f3845767      28905ebd  ecad2386   7801e8d9  ...           1   \n4    9166c161      0569f928  ecad2386   7801e8d9  ...           1   \n\n  device_conn_type    C14  C15  C16   C17  C18  C19     C20  C21  \n0                2  15706  320   50  1722    0   35      -1   79  \n1                0  15704  320   50  1722    0   35  100084   79  \n2                0  15704  320   50  1722    0   35  100084   79  \n3                0  15706  320   50  1722    0   35  100084   79  \n4                0  18993  320   50  2161    0   35      -1  157  \n\n[5 rows x 24 columns]",
      "text/html": "<div>\n<style scoped>\n    .dataframe tbody tr th:only-of-type {\n        vertical-align: middle;\n    }\n\n    .dataframe tbody tr th {\n        vertical-align: top;\n    }\n\n    .dataframe thead th {\n        text-align: right;\n    }\n</style>\n<table border=\"1\" class=\"dataframe\">\n  <thead>\n    <tr style=\"text-align: right;\">\n      <th></th>\n      <th>id</th>\n      <th>click</th>\n      <th>hour</th>\n      <th>C1</th>\n      <th>banner_pos</th>\n      <th>site_id</th>\n      <th>site_domain</th>\n      <th>site_category</th>\n      <th>app_id</th>\n      <th>app_domain</th>\n      <th>...</th>\n      <th>device_type</th>\n      <th>device_conn_type</th>\n      <th>C14</th>\n      <th>C15</th>\n      <th>C16</th>\n      <th>C17</th>\n      <th>C18</th>\n      <th>C19</th>\n      <th>C20</th>\n      <th>C21</th>\n    </tr>\n  </thead>\n  <tbody>\n    <tr>\n      <th>0</th>\n      <td>1000009418151094273</td>\n      <td>0</td>\n      <td>14102100</td>\n      <td>1005</td>\n      <td>0</td>\n      <td>1fbe01fe</td>\n      <td>f3845767</td>\n      <td>28905ebd</td>\n      <td>ecad2386</td>\n      <td>7801e8d9</td>\n      <td>...</td>\n      <td>1</td>\n      <td>2</td>\n      <td>15706</td>\n      <td>320</td>\n      <td>50</td>\n      <td>1722</td>\n      <td>0</td>\n      <td>35</td>\n      <td>-1</td>\n      <td>79</td>\n    </tr>\n    <tr>\n      <th>1</th>\n      <td>10000169349117863715</td>\n      <td>0</td>\n      <td>14102100</td>\n      <td>1005</td>\n      <td>0</td>\n      <td>1fbe01fe</td>\n      <td>f3845767</td>\n      <td>28905ebd</td>\n      <td>ecad2386</td>\n      <td>7801e8d9</td>\n      <td>...</td>\n      <td>1</td>\n      <td>0</td>\n      <td>15704</td>\n      <td>320</td>\n      <td>50</td>\n      <td>1722</td>\n      <td>0</td>\n      <td>35</td>\n      <td>100084</td>\n      <td>79</td>\n    </tr>\n    <tr>\n      <th>2</th>\n      <td>10000371904215119486</td>\n      <td>0</td>\n      <td>14102100</td>\n      <td>1005</td>\n      <td>0</td>\n      <td>1fbe01fe</td>\n      <td>f3845767</td>\n      <td>28905ebd</td>\n      <td>ecad2386</td>\n      <td>7801e8d9</td>\n      <td>...</td>\n      <td>1</td>\n      <td>0</td>\n      <td>15704</td>\n      <td>320</td>\n      <td>50</td>\n      <td>1722</td>\n      <td>0</td>\n      <td>35</td>\n      <td>100084</td>\n      <td>79</td>\n    </tr>\n    <tr>\n      <th>3</th>\n      <td>10000640724480838376</td>\n      <td>0</td>\n      <td>14102100</td>\n      <td>1005</td>\n      <td>0</td>\n      <td>1fbe01fe</td>\n      <td>f3845767</td>\n      <td>28905ebd</td>\n      <td>ecad2386</td>\n      <td>7801e8d9</td>\n      <td>...</td>\n      <td>1</td>\n      <td>0</td>\n      <td>15706</td>\n      <td>320</td>\n      <td>50</td>\n      <td>1722</td>\n      <td>0</td>\n      <td>35</td>\n      <td>100084</td>\n      <td>79</td>\n    </tr>\n    <tr>\n      <th>4</th>\n      <td>10000679056417042096</td>\n      <td>0</td>\n      <td>14102100</td>\n      <td>1005</td>\n      <td>1</td>\n      <td>fe8cc448</td>\n      <td>9166c161</td>\n      <td>0569f928</td>\n      <td>ecad2386</td>\n      <td>7801e8d9</td>\n      <td>...</td>\n      <td>1</td>\n      <td>0</td>\n      <td>18993</td>\n      <td>320</td>\n      <td>50</td>\n      <td>2161</td>\n      <td>0</td>\n      <td>35</td>\n      <td>-1</td>\n      <td>157</td>\n    </tr>\n  </tbody>\n</table>\n<p>5 rows × 24 columns</p>\n</div>"
     },
     "execution_count": 31,
     "metadata": {},
     "output_type": "execute_result"
    }
   ],
   "source": [
    "df = pd.read_csv(dataset_root_path + 'Avazu/train.csv', nrows=10000)\n",
    "df.head()"
   ],
   "metadata": {
    "collapsed": false,
    "pycharm": {
     "name": "#%%\n"
    }
   }
  },
  {
   "cell_type": "code",
   "execution_count": 32,
   "outputs": [
    {
     "data": {
      "text/plain": "1075"
     },
     "execution_count": 32,
     "metadata": {},
     "output_type": "execute_result"
    }
   ],
   "source": [
    "len(df['device_id'].unique())"
   ],
   "metadata": {
    "collapsed": false,
    "pycharm": {
     "name": "#%%\n"
    }
   }
  },
  {
   "cell_type": "code",
   "execution_count": null,
   "outputs": [],
   "source": [
    "# 对于每个类别 需要计算[counts, p(click), p(no click), p(click)/p(no click)]"
   ],
   "metadata": {
    "collapsed": false,
    "pycharm": {
     "name": "#%%\n"
    }
   }
  },
  {
   "cell_type": "code",
   "execution_count": 41,
   "outputs": [],
   "source": [
    "def click_counting(x, bin_column):\n",
    "    # 首先过滤出有点击的 click>0 之后用value_counts取计数\n",
    "    clicks = pd.Series(x[x['click'] > 0][bin_column].value_counts(),name='clicks')\n",
    "    # 过滤出无点击的 click=0\n",
    "    no_clicks = pd.Series(x[x['click'] < 1][bin_column].value_counts(),name='no_clicks')\n",
    "    counts = pd.DataFrame([clicks,no_clicks]).T.fillna('0')\n",
    "    # 将两个表拼接起来\n",
    "    counts['total_clicks'] = counts['clicks'].astype('int64') + counts['no_clicks'].astype('int64')\n",
    "    # 所有点击是 click + no_click\n",
    "    return counts"
   ],
   "metadata": {
    "collapsed": false,
    "pycharm": {
     "name": "#%%\n"
    }
   }
  },
  {
   "cell_type": "code",
   "execution_count": 34,
   "outputs": [],
   "source": [
    "def bin_counting(counts):\n",
    "    counts['N+'] =counts['clicks'].astype('int64').divide(counts['total_clicks'].astype('int64'))\n",
    "    counts['N-'] =counts['no_clicks'].astype('int64').divide(counts['total_clicks'].astype('int64'))\n",
    "    counts['log_N+'] = counts['N+'].divide(counts['N-'])\n",
    "    bin_counts = counts.filter(items = ['N+','N-','log_N+'])\n",
    "    return counts, bin_counts"
   ],
   "metadata": {
    "collapsed": false,
    "pycharm": {
     "name": "#%%\n"
    }
   }
  },
  {
   "cell_type": "code",
   "execution_count": 36,
   "outputs": [
    {
     "data": {
      "text/plain": "     device_id  click\n0     a99f214a      0\n1     a99f214a      0\n2     a99f214a      0\n3     a99f214a      0\n4     a99f214a      0\n...        ...    ...\n9995  a99f214a      0\n9996  a99f214a      1\n9997  a99f214a      1\n9998  a99f214a      0\n9999  a99f214a      0\n\n[10000 rows x 2 columns]",
      "text/html": "<div>\n<style scoped>\n    .dataframe tbody tr th:only-of-type {\n        vertical-align: middle;\n    }\n\n    .dataframe tbody tr th {\n        vertical-align: top;\n    }\n\n    .dataframe thead th {\n        text-align: right;\n    }\n</style>\n<table border=\"1\" class=\"dataframe\">\n  <thead>\n    <tr style=\"text-align: right;\">\n      <th></th>\n      <th>device_id</th>\n      <th>click</th>\n    </tr>\n  </thead>\n  <tbody>\n    <tr>\n      <th>0</th>\n      <td>a99f214a</td>\n      <td>0</td>\n    </tr>\n    <tr>\n      <th>1</th>\n      <td>a99f214a</td>\n      <td>0</td>\n    </tr>\n    <tr>\n      <th>2</th>\n      <td>a99f214a</td>\n      <td>0</td>\n    </tr>\n    <tr>\n      <th>3</th>\n      <td>a99f214a</td>\n      <td>0</td>\n    </tr>\n    <tr>\n      <th>4</th>\n      <td>a99f214a</td>\n      <td>0</td>\n    </tr>\n    <tr>\n      <th>...</th>\n      <td>...</td>\n      <td>...</td>\n    </tr>\n    <tr>\n      <th>9995</th>\n      <td>a99f214a</td>\n      <td>0</td>\n    </tr>\n    <tr>\n      <th>9996</th>\n      <td>a99f214a</td>\n      <td>1</td>\n    </tr>\n    <tr>\n      <th>9997</th>\n      <td>a99f214a</td>\n      <td>1</td>\n    </tr>\n    <tr>\n      <th>9998</th>\n      <td>a99f214a</td>\n      <td>0</td>\n    </tr>\n    <tr>\n      <th>9999</th>\n      <td>a99f214a</td>\n      <td>0</td>\n    </tr>\n  </tbody>\n</table>\n<p>10000 rows × 2 columns</p>\n</div>"
     },
     "execution_count": 36,
     "metadata": {},
     "output_type": "execute_result"
    }
   ],
   "source": [
    "df.filter(items= ['device_id', 'click'])"
   ],
   "metadata": {
    "collapsed": false,
    "pycharm": {
     "name": "#%%\n"
    }
   }
  },
  {
   "cell_type": "code",
   "execution_count": 39,
   "outputs": [
    {
     "data": {
      "text/plain": "a99f214a    8724\nc357dbff      17\na167aa83       9\n3c0208dc       9\n31da1bd0       8\n            ... \nce71b050       1\nc4f13677       1\ne0f70006       1\n18193fc4       1\n24490d64       1\nName: device_id, Length: 1075, dtype: int64"
     },
     "execution_count": 39,
     "metadata": {},
     "output_type": "execute_result"
    }
   ],
   "source": [
    "df['device_id'].value_counts()"
   ],
   "metadata": {
    "collapsed": false,
    "pycharm": {
     "name": "#%%\n"
    }
   }
  },
  {
   "cell_type": "code",
   "execution_count": 42,
   "outputs": [],
   "source": [
    "bin_column = 'device_id'\n",
    "device_clicks = click_counting(df.filter(items= [bin_column, 'click']),bin_column)"
   ],
   "metadata": {
    "collapsed": false,
    "pycharm": {
     "name": "#%%\n"
    }
   }
  },
  {
   "cell_type": "code",
   "execution_count": 44,
   "outputs": [],
   "source": [
    "device_all, device_bin_counts = bin_counting(device_clicks)"
   ],
   "metadata": {
    "collapsed": false,
    "pycharm": {
     "name": "#%%\n"
    }
   }
  },
  {
   "cell_type": "code",
   "execution_count": 45,
   "outputs": [
    {
     "data": {
      "text/plain": "          clicks no_clicks  total_clicks        N+        N-    log_N+\na99f214a  1561.0    7163.0          8724  0.178932  0.821068  0.217925\n25635c83     3.0         0             3  1.000000  0.000000       inf\n9af87478     2.0         0             2  1.000000  0.000000       inf\nc357dbff     2.0      15.0            17  0.117647  0.882353  0.133333\ne62f1261     2.0       3.0             5  0.400000  0.600000  0.666667\n...          ...       ...           ...       ...       ...       ...\n466a360a       0       1.0             1  0.000000  1.000000  0.000000\ned76a0e7       0       1.0             1  0.000000  1.000000  0.000000\n9fd18705       0       1.0             1  0.000000  1.000000  0.000000\n1fc5413e       0       1.0             1  0.000000  1.000000  0.000000\n24490d64       0       1.0             1  0.000000  1.000000  0.000000\n\n[1075 rows x 6 columns]",
      "text/html": "<div>\n<style scoped>\n    .dataframe tbody tr th:only-of-type {\n        vertical-align: middle;\n    }\n\n    .dataframe tbody tr th {\n        vertical-align: top;\n    }\n\n    .dataframe thead th {\n        text-align: right;\n    }\n</style>\n<table border=\"1\" class=\"dataframe\">\n  <thead>\n    <tr style=\"text-align: right;\">\n      <th></th>\n      <th>clicks</th>\n      <th>no_clicks</th>\n      <th>total_clicks</th>\n      <th>N+</th>\n      <th>N-</th>\n      <th>log_N+</th>\n    </tr>\n  </thead>\n  <tbody>\n    <tr>\n      <th>a99f214a</th>\n      <td>1561.0</td>\n      <td>7163.0</td>\n      <td>8724</td>\n      <td>0.178932</td>\n      <td>0.821068</td>\n      <td>0.217925</td>\n    </tr>\n    <tr>\n      <th>25635c83</th>\n      <td>3.0</td>\n      <td>0</td>\n      <td>3</td>\n      <td>1.000000</td>\n      <td>0.000000</td>\n      <td>inf</td>\n    </tr>\n    <tr>\n      <th>9af87478</th>\n      <td>2.0</td>\n      <td>0</td>\n      <td>2</td>\n      <td>1.000000</td>\n      <td>0.000000</td>\n      <td>inf</td>\n    </tr>\n    <tr>\n      <th>c357dbff</th>\n      <td>2.0</td>\n      <td>15.0</td>\n      <td>17</td>\n      <td>0.117647</td>\n      <td>0.882353</td>\n      <td>0.133333</td>\n    </tr>\n    <tr>\n      <th>e62f1261</th>\n      <td>2.0</td>\n      <td>3.0</td>\n      <td>5</td>\n      <td>0.400000</td>\n      <td>0.600000</td>\n      <td>0.666667</td>\n    </tr>\n    <tr>\n      <th>...</th>\n      <td>...</td>\n      <td>...</td>\n      <td>...</td>\n      <td>...</td>\n      <td>...</td>\n      <td>...</td>\n    </tr>\n    <tr>\n      <th>466a360a</th>\n      <td>0</td>\n      <td>1.0</td>\n      <td>1</td>\n      <td>0.000000</td>\n      <td>1.000000</td>\n      <td>0.000000</td>\n    </tr>\n    <tr>\n      <th>ed76a0e7</th>\n      <td>0</td>\n      <td>1.0</td>\n      <td>1</td>\n      <td>0.000000</td>\n      <td>1.000000</td>\n      <td>0.000000</td>\n    </tr>\n    <tr>\n      <th>9fd18705</th>\n      <td>0</td>\n      <td>1.0</td>\n      <td>1</td>\n      <td>0.000000</td>\n      <td>1.000000</td>\n      <td>0.000000</td>\n    </tr>\n    <tr>\n      <th>1fc5413e</th>\n      <td>0</td>\n      <td>1.0</td>\n      <td>1</td>\n      <td>0.000000</td>\n      <td>1.000000</td>\n      <td>0.000000</td>\n    </tr>\n    <tr>\n      <th>24490d64</th>\n      <td>0</td>\n      <td>1.0</td>\n      <td>1</td>\n      <td>0.000000</td>\n      <td>1.000000</td>\n      <td>0.000000</td>\n    </tr>\n  </tbody>\n</table>\n<p>1075 rows × 6 columns</p>\n</div>"
     },
     "execution_count": 45,
     "metadata": {},
     "output_type": "execute_result"
    }
   ],
   "source": [
    "device_all"
   ],
   "metadata": {
    "collapsed": false,
    "pycharm": {
     "name": "#%%\n"
    }
   }
  },
  {
   "cell_type": "code",
   "execution_count": 46,
   "outputs": [
    {
     "data": {
      "text/plain": "                N+        N-    log_N+\na99f214a  0.178932  0.821068  0.217925\n25635c83  1.000000  0.000000       inf\n9af87478  1.000000  0.000000       inf\nc357dbff  0.117647  0.882353  0.133333\ne62f1261  0.400000  0.600000  0.666667\n...            ...       ...       ...\n466a360a  0.000000  1.000000  0.000000\ned76a0e7  0.000000  1.000000  0.000000\n9fd18705  0.000000  1.000000  0.000000\n1fc5413e  0.000000  1.000000  0.000000\n24490d64  0.000000  1.000000  0.000000\n\n[1075 rows x 3 columns]",
      "text/html": "<div>\n<style scoped>\n    .dataframe tbody tr th:only-of-type {\n        vertical-align: middle;\n    }\n\n    .dataframe tbody tr th {\n        vertical-align: top;\n    }\n\n    .dataframe thead th {\n        text-align: right;\n    }\n</style>\n<table border=\"1\" class=\"dataframe\">\n  <thead>\n    <tr style=\"text-align: right;\">\n      <th></th>\n      <th>N+</th>\n      <th>N-</th>\n      <th>log_N+</th>\n    </tr>\n  </thead>\n  <tbody>\n    <tr>\n      <th>a99f214a</th>\n      <td>0.178932</td>\n      <td>0.821068</td>\n      <td>0.217925</td>\n    </tr>\n    <tr>\n      <th>25635c83</th>\n      <td>1.000000</td>\n      <td>0.000000</td>\n      <td>inf</td>\n    </tr>\n    <tr>\n      <th>9af87478</th>\n      <td>1.000000</td>\n      <td>0.000000</td>\n      <td>inf</td>\n    </tr>\n    <tr>\n      <th>c357dbff</th>\n      <td>0.117647</td>\n      <td>0.882353</td>\n      <td>0.133333</td>\n    </tr>\n    <tr>\n      <th>e62f1261</th>\n      <td>0.400000</td>\n      <td>0.600000</td>\n      <td>0.666667</td>\n    </tr>\n    <tr>\n      <th>...</th>\n      <td>...</td>\n      <td>...</td>\n      <td>...</td>\n    </tr>\n    <tr>\n      <th>466a360a</th>\n      <td>0.000000</td>\n      <td>1.000000</td>\n      <td>0.000000</td>\n    </tr>\n    <tr>\n      <th>ed76a0e7</th>\n      <td>0.000000</td>\n      <td>1.000000</td>\n      <td>0.000000</td>\n    </tr>\n    <tr>\n      <th>9fd18705</th>\n      <td>0.000000</td>\n      <td>1.000000</td>\n      <td>0.000000</td>\n    </tr>\n    <tr>\n      <th>1fc5413e</th>\n      <td>0.000000</td>\n      <td>1.000000</td>\n      <td>0.000000</td>\n    </tr>\n    <tr>\n      <th>24490d64</th>\n      <td>0.000000</td>\n      <td>1.000000</td>\n      <td>0.000000</td>\n    </tr>\n  </tbody>\n</table>\n<p>1075 rows × 3 columns</p>\n</div>"
     },
     "execution_count": 46,
     "metadata": {},
     "output_type": "execute_result"
    }
   ],
   "source": [
    "device_bin_counts"
   ],
   "metadata": {
    "collapsed": false,
    "pycharm": {
     "name": "#%%\n"
    }
   }
  },
  {
   "cell_type": "code",
   "execution_count": 47,
   "outputs": [
    {
     "data": {
      "text/plain": "          clicks no_clicks  total_clicks        N+        N-    log_N+\na99f214a  1561.0    7163.0          8724  0.178932  0.821068  0.217925\nc357dbff     2.0      15.0            17  0.117647  0.882353  0.133333\na167aa83       0       9.0             9  0.000000  1.000000  0.000000\n3c0208dc       0       9.0             9  0.000000  1.000000  0.000000",
      "text/html": "<div>\n<style scoped>\n    .dataframe tbody tr th:only-of-type {\n        vertical-align: middle;\n    }\n\n    .dataframe tbody tr th {\n        vertical-align: top;\n    }\n\n    .dataframe thead th {\n        text-align: right;\n    }\n</style>\n<table border=\"1\" class=\"dataframe\">\n  <thead>\n    <tr style=\"text-align: right;\">\n      <th></th>\n      <th>clicks</th>\n      <th>no_clicks</th>\n      <th>total_clicks</th>\n      <th>N+</th>\n      <th>N-</th>\n      <th>log_N+</th>\n    </tr>\n  </thead>\n  <tbody>\n    <tr>\n      <th>a99f214a</th>\n      <td>1561.0</td>\n      <td>7163.0</td>\n      <td>8724</td>\n      <td>0.178932</td>\n      <td>0.821068</td>\n      <td>0.217925</td>\n    </tr>\n    <tr>\n      <th>c357dbff</th>\n      <td>2.0</td>\n      <td>15.0</td>\n      <td>17</td>\n      <td>0.117647</td>\n      <td>0.882353</td>\n      <td>0.133333</td>\n    </tr>\n    <tr>\n      <th>a167aa83</th>\n      <td>0</td>\n      <td>9.0</td>\n      <td>9</td>\n      <td>0.000000</td>\n      <td>1.000000</td>\n      <td>0.000000</td>\n    </tr>\n    <tr>\n      <th>3c0208dc</th>\n      <td>0</td>\n      <td>9.0</td>\n      <td>9</td>\n      <td>0.000000</td>\n      <td>1.000000</td>\n      <td>0.000000</td>\n    </tr>\n  </tbody>\n</table>\n</div>"
     },
     "execution_count": 47,
     "metadata": {},
     "output_type": "execute_result"
    }
   ],
   "source": [
    "device_all.sort_values(by = 'total_clicks', ascending=False).head(4)"
   ],
   "metadata": {
    "collapsed": false,
    "pycharm": {
     "name": "#%%\n"
    }
   }
  },
  {
   "cell_type": "markdown",
   "source": [
    "## 分享技术细节\n",
    "\n",
    "### 处理稀有类\n",
    "和罕见词一样 稀有类也要处理 比如有些用户一年只登陆了一次 如果为了他们多加一些行 会导致数据的浪费\n",
    "\n",
    "使用back-off方法解决 将稀有类的计数累加到特殊分箱中\n",
    "\n",
    "即出现数量大于某阈值的不变 而小于某阈值的归类为稀有类 统一处理为一行\n",
    "\n",
    "### 防止数据泄露\n",
    "由于分箱计数需要依赖历史数据 而当数据集更新时 就需要重新计算\n",
    "\n",
    "如果使用同样地数据集计算统计量和训练模型 会造成数据泄露\n",
    "\n",
    "因为训练信息中在计算统计量的时候 包含了将要预测的数据 造成了数据泄露\n",
    "\n",
    "数据泄露有多种可能 如测试数据泄漏到训练数据中 未来数据泄漏到过去数据中\n",
    "\n",
    "一般是使用过去的数据点进行计数-使用当前数据点进行训练-用未来数据点进行测试\n",
    "\n",
    "可以防止数据泄露\n",
    "\n",
    "### 无界计数\n",
    "由于历史数据不断增加 统计量计算中的总数就会不断增加 似乎没有边界\n",
    "\n",
    "当计数增加非常快的时候 就会造成问题\n",
    "\n",
    "可以使用归一化或者取log来延缓这种趋势"
   ],
   "metadata": {
    "collapsed": false,
    "pycharm": {
     "name": "#%% md\n"
    }
   }
  },
  {
   "cell_type": "markdown",
   "source": [
    "# 总结\n",
    "## Plain one-hot encoding\n",
    "空间使用：O(n) 时间复杂度：O(nk)\n",
    "\n",
    "### 优点:\n",
    "\n",
    "容易实现\n",
    "\n",
    "更高的精度\n",
    "\n",
    "在线学习特别容易扩展\n",
    "\n",
    "### 缺点\n",
    "计算不足\n",
    "\n",
    "如果类别增加则不能够使用\n",
    "\n",
    "对线性模型以外的任何其他方法都不可行\n",
    "\n",
    "对于大数据集需要分布式训练\n",
    "\n",
    "## Feature hashing\n",
    "空间使用：O(n) 时间复杂度：O(nm)\n",
    "\n",
    "### 优点:\n",
    "\n",
    "容易实现\n",
    "\n",
    "容易训练\n",
    "\n",
    "容易扩展到新类别\n",
    "\n",
    "容易处理稀有类别\n",
    "\n",
    "在线学习容易扩展\n",
    "### 缺点\n",
    "\n",
    "只能够使用线性或核模型\n",
    "\n",
    "哈希编码很难解释\n",
    "\n",
    "精度有争议\n",
    "\n",
    "## Bin-counting\n",
    "空间使用：O(n+k) 时间复杂度：O(n)\n",
    "\n",
    "### 优点:\n",
    "训练快\n",
    "\n",
    "能够使用树模型\n",
    "\n",
    "容易扩展到新列类别\n",
    "\n",
    "容易处理稀有类别\n",
    "\n",
    "可解释\n",
    "\n",
    "### 缺点\n",
    "需要利用历史信息\n",
    "\n",
    "对于在线学习有困难\n",
    "\n",
    "会有数据泄露"
   ],
   "metadata": {
    "collapsed": false,
    "pycharm": {
     "name": "#%% md\n"
    }
   }
  },
  {
   "cell_type": "code",
   "execution_count": null,
   "outputs": [],
   "source": [],
   "metadata": {
    "collapsed": false,
    "pycharm": {
     "name": "#%%\n"
    }
   }
  }
 ],
 "metadata": {
  "kernelspec": {
   "display_name": "Python 3",
   "language": "python",
   "name": "python3"
  },
  "language_info": {
   "codemirror_mode": {
    "name": "ipython",
    "version": 2
   },
   "file_extension": ".py",
   "mimetype": "text/x-python",
   "name": "python",
   "nbconvert_exporter": "python",
   "pygments_lexer": "ipython2",
   "version": "2.7.6"
  }
 },
 "nbformat": 4,
 "nbformat_minor": 0
}