{
 "cells": [
  {
   "cell_type": "markdown",
   "metadata": {
    "collapsed": true,
    "pycharm": {
     "name": "#%% md\n"
    }
   },
   "source": [
    "# 分类变量\n",
    "分类变量是用来表示类别或标记的\n",
    "与数值变量不同，分类变量是不能排序的(如公司的分类 旅游公司和石油公司无法比较)\n",
    "因此 分类变量又称为无序变量\n",
    "\n",
    "## one-hot编码\n",
    "one-hot就是某一列为1 其他列都为0的方法进行分类 而做出的编码\n",
    "one-hot编码当分成n类时 需要n列来表示 有k个自由度\n",
    "但是由于有e1+e2+...+en=1的限制条件 本身只需要k-1个自由度\n",
    "\n",
    "## 虚拟编码 dummy编码\n",
    "虚拟编码通过仅使用表示中的k-1个特征来消除额外的自由度"
   ]
  },
  {
   "cell_type": "code",
   "execution_count": null,
   "outputs": [],
   "source": [
    "# one-hot编码 与 dummy编码实践"
   ],
   "metadata": {
    "collapsed": false,
    "pycharm": {
     "name": "#%%\n"
    }
   }
  },
  {
   "cell_type": "code",
   "execution_count": 1,
   "outputs": [],
   "source": [
    "import pandas as pd\n",
    "from sklearn import linear_model"
   ],
   "metadata": {
    "collapsed": false,
    "pycharm": {
     "name": "#%%\n"
    }
   }
  },
  {
   "cell_type": "code",
   "execution_count": 2,
   "outputs": [],
   "source": [
    "# 模拟一个数据集 表示NYC SF Seattle的公寓租金\n",
    "\n",
    "df = pd.DataFrame({\n",
    "    'city':['SF', 'SF', 'SF', 'NYC', 'NYC', 'NYC','Seattle', 'Seattle', 'Seattle'],\n",
    "    'rent':[3999, 4000, 4001, 3499, 3500, 3501, 2499,2500,2501]\n",
    "})"
   ],
   "metadata": {
    "collapsed": false,
    "pycharm": {
     "name": "#%%\n"
    }
   }
  },
  {
   "cell_type": "code",
   "execution_count": 3,
   "outputs": [
    {
     "data": {
      "text/plain": "      city  rent\n0       SF  3999\n1       SF  4000\n2       SF  4001\n3      NYC  3499\n4      NYC  3500\n5      NYC  3501\n6  Seattle  2499\n7  Seattle  2500\n8  Seattle  2501",
      "text/html": "<div>\n<style scoped>\n    .dataframe tbody tr th:only-of-type {\n        vertical-align: middle;\n    }\n\n    .dataframe tbody tr th {\n        vertical-align: top;\n    }\n\n    .dataframe thead th {\n        text-align: right;\n    }\n</style>\n<table border=\"1\" class=\"dataframe\">\n  <thead>\n    <tr style=\"text-align: right;\">\n      <th></th>\n      <th>city</th>\n      <th>rent</th>\n    </tr>\n  </thead>\n  <tbody>\n    <tr>\n      <th>0</th>\n      <td>SF</td>\n      <td>3999</td>\n    </tr>\n    <tr>\n      <th>1</th>\n      <td>SF</td>\n      <td>4000</td>\n    </tr>\n    <tr>\n      <th>2</th>\n      <td>SF</td>\n      <td>4001</td>\n    </tr>\n    <tr>\n      <th>3</th>\n      <td>NYC</td>\n      <td>3499</td>\n    </tr>\n    <tr>\n      <th>4</th>\n      <td>NYC</td>\n      <td>3500</td>\n    </tr>\n    <tr>\n      <th>5</th>\n      <td>NYC</td>\n      <td>3501</td>\n    </tr>\n    <tr>\n      <th>6</th>\n      <td>Seattle</td>\n      <td>2499</td>\n    </tr>\n    <tr>\n      <th>7</th>\n      <td>Seattle</td>\n      <td>2500</td>\n    </tr>\n    <tr>\n      <th>8</th>\n      <td>Seattle</td>\n      <td>2501</td>\n    </tr>\n  </tbody>\n</table>\n</div>"
     },
     "execution_count": 3,
     "metadata": {},
     "output_type": "execute_result"
    }
   ],
   "source": [
    "df"
   ],
   "metadata": {
    "collapsed": false,
    "pycharm": {
     "name": "#%%\n"
    }
   }
  },
  {
   "cell_type": "code",
   "execution_count": 4,
   "outputs": [
    {
     "data": {
      "text/plain": "count       9.000000\nmean     3333.333333\nstd       661.438395\nmin      2499.000000\n25%      2501.000000\n50%      3500.000000\n75%      3999.000000\nmax      4001.000000\nName: rent, dtype: float64"
     },
     "execution_count": 4,
     "metadata": {},
     "output_type": "execute_result"
    }
   ],
   "source": [
    "df['rent'].describe()"
   ],
   "metadata": {
    "collapsed": false,
    "pycharm": {
     "name": "#%%\n"
    }
   }
  },
  {
   "cell_type": "code",
   "execution_count": 7,
   "outputs": [
    {
     "data": {
      "text/plain": "   rent  city_NYC  city_SF  city_Seattle\n0  3999         0        1             0\n1  4000         0        1             0\n2  4001         0        1             0\n3  3499         1        0             0\n4  3500         1        0             0\n5  3501         1        0             0\n6  2499         0        0             1\n7  2500         0        0             1\n8  2501         0        0             1",
      "text/html": "<div>\n<style scoped>\n    .dataframe tbody tr th:only-of-type {\n        vertical-align: middle;\n    }\n\n    .dataframe tbody tr th {\n        vertical-align: top;\n    }\n\n    .dataframe thead th {\n        text-align: right;\n    }\n</style>\n<table border=\"1\" class=\"dataframe\">\n  <thead>\n    <tr style=\"text-align: right;\">\n      <th></th>\n      <th>rent</th>\n      <th>city_NYC</th>\n      <th>city_SF</th>\n      <th>city_Seattle</th>\n    </tr>\n  </thead>\n  <tbody>\n    <tr>\n      <th>0</th>\n      <td>3999</td>\n      <td>0</td>\n      <td>1</td>\n      <td>0</td>\n    </tr>\n    <tr>\n      <th>1</th>\n      <td>4000</td>\n      <td>0</td>\n      <td>1</td>\n      <td>0</td>\n    </tr>\n    <tr>\n      <th>2</th>\n      <td>4001</td>\n      <td>0</td>\n      <td>1</td>\n      <td>0</td>\n    </tr>\n    <tr>\n      <th>3</th>\n      <td>3499</td>\n      <td>1</td>\n      <td>0</td>\n      <td>0</td>\n    </tr>\n    <tr>\n      <th>4</th>\n      <td>3500</td>\n      <td>1</td>\n      <td>0</td>\n      <td>0</td>\n    </tr>\n    <tr>\n      <th>5</th>\n      <td>3501</td>\n      <td>1</td>\n      <td>0</td>\n      <td>0</td>\n    </tr>\n    <tr>\n      <th>6</th>\n      <td>2499</td>\n      <td>0</td>\n      <td>0</td>\n      <td>1</td>\n    </tr>\n    <tr>\n      <th>7</th>\n      <td>2500</td>\n      <td>0</td>\n      <td>0</td>\n      <td>1</td>\n    </tr>\n    <tr>\n      <th>8</th>\n      <td>2501</td>\n      <td>0</td>\n      <td>0</td>\n      <td>1</td>\n    </tr>\n  </tbody>\n</table>\n</div>"
     },
     "execution_count": 7,
     "metadata": {},
     "output_type": "execute_result"
    }
   ],
   "source": [
    "# 按照city作为分类变量 创造one-hot矩阵和dummy矩阵\n",
    "\n",
    "one_hot_df = pd.get_dummies(df,prefix='city')\n",
    "one_hot_df"
   ],
   "metadata": {
    "collapsed": false,
    "pycharm": {
     "name": "#%%\n"
    }
   }
  },
  {
   "cell_type": "code",
   "execution_count": 8,
   "outputs": [
    {
     "data": {
      "text/plain": "   rent  city_SF  city_Seattle\n0  3999        1             0\n1  4000        1             0\n2  4001        1             0\n3  3499        0             0\n4  3500        0             0\n5  3501        0             0\n6  2499        0             1\n7  2500        0             1\n8  2501        0             1",
      "text/html": "<div>\n<style scoped>\n    .dataframe tbody tr th:only-of-type {\n        vertical-align: middle;\n    }\n\n    .dataframe tbody tr th {\n        vertical-align: top;\n    }\n\n    .dataframe thead th {\n        text-align: right;\n    }\n</style>\n<table border=\"1\" class=\"dataframe\">\n  <thead>\n    <tr style=\"text-align: right;\">\n      <th></th>\n      <th>rent</th>\n      <th>city_SF</th>\n      <th>city_Seattle</th>\n    </tr>\n  </thead>\n  <tbody>\n    <tr>\n      <th>0</th>\n      <td>3999</td>\n      <td>1</td>\n      <td>0</td>\n    </tr>\n    <tr>\n      <th>1</th>\n      <td>4000</td>\n      <td>1</td>\n      <td>0</td>\n    </tr>\n    <tr>\n      <th>2</th>\n      <td>4001</td>\n      <td>1</td>\n      <td>0</td>\n    </tr>\n    <tr>\n      <th>3</th>\n      <td>3499</td>\n      <td>0</td>\n      <td>0</td>\n    </tr>\n    <tr>\n      <th>4</th>\n      <td>3500</td>\n      <td>0</td>\n      <td>0</td>\n    </tr>\n    <tr>\n      <th>5</th>\n      <td>3501</td>\n      <td>0</td>\n      <td>0</td>\n    </tr>\n    <tr>\n      <th>6</th>\n      <td>2499</td>\n      <td>0</td>\n      <td>1</td>\n    </tr>\n    <tr>\n      <th>7</th>\n      <td>2500</td>\n      <td>0</td>\n      <td>1</td>\n    </tr>\n    <tr>\n      <th>8</th>\n      <td>2501</td>\n      <td>0</td>\n      <td>1</td>\n    </tr>\n  </tbody>\n</table>\n</div>"
     },
     "execution_count": 8,
     "metadata": {},
     "output_type": "execute_result"
    }
   ],
   "source": [
    "# 使用drop_first参数可以创建虚拟变量\n",
    "dummy_df = pd.get_dummies(df, prefix=['city'], drop_first=True)\n",
    "dummy_df\n",
    "# 这样的话NYC列被省去 但是仍保证了e1+e2+e3=1"
   ],
   "metadata": {
    "collapsed": false,
    "pycharm": {
     "name": "#%%\n"
    }
   }
  },
  {
   "cell_type": "code",
   "execution_count": 9,
   "outputs": [
    {
     "data": {
      "text/plain": "LinearRegression()"
     },
     "execution_count": 9,
     "metadata": {},
     "output_type": "execute_result"
    }
   ],
   "source": [
    "model_one_hot = linear_model.LinearRegression()\n",
    "model_one_hot.fit(one_hot_df[['city_NYC','city_SF','city_Seattle']],\n",
    "                  one_hot_df['rent'])"
   ],
   "metadata": {
    "collapsed": false,
    "pycharm": {
     "name": "#%%\n"
    }
   }
  },
  {
   "cell_type": "code",
   "execution_count": 10,
   "outputs": [
    {
     "data": {
      "text/plain": "array([ 166.66666667,  666.66666667, -833.33333333])"
     },
     "execution_count": 10,
     "metadata": {},
     "output_type": "execute_result"
    }
   ],
   "source": [
    "model_one_hot.coef_\n",
    "# 不同变量的斜率"
   ],
   "metadata": {
    "collapsed": false,
    "pycharm": {
     "name": "#%%\n"
    }
   }
  },
  {
   "cell_type": "code",
   "execution_count": 11,
   "outputs": [
    {
     "data": {
      "text/plain": "3333.3333333333335"
     },
     "execution_count": 11,
     "metadata": {},
     "output_type": "execute_result"
    }
   ],
   "source": [
    "model_one_hot.intercept_\n",
    "# 截距"
   ],
   "metadata": {
    "collapsed": false,
    "pycharm": {
     "name": "#%%\n"
    }
   }
  },
  {
   "cell_type": "code",
   "execution_count": 13,
   "outputs": [
    {
     "data": {
      "text/plain": "LinearRegression()"
     },
     "execution_count": 13,
     "metadata": {},
     "output_type": "execute_result"
    }
   ],
   "source": [
    "model_dummy = linear_model.LinearRegression()\n",
    "model_dummy.fit(dummy_df[['city_SF','city_Seattle']],\n",
    "                  dummy_df['rent'])"
   ],
   "metadata": {
    "collapsed": false,
    "pycharm": {
     "name": "#%%\n"
    }
   }
  },
  {
   "cell_type": "code",
   "execution_count": 14,
   "outputs": [
    {
     "data": {
      "text/plain": "array([  500., -1000.])"
     },
     "execution_count": 14,
     "metadata": {},
     "output_type": "execute_result"
    }
   ],
   "source": [
    "model_dummy.coef_"
   ],
   "metadata": {
    "collapsed": false,
    "pycharm": {
     "name": "#%%\n"
    }
   }
  },
  {
   "cell_type": "code",
   "execution_count": 15,
   "outputs": [
    {
     "data": {
      "text/plain": "3500.0"
     },
     "execution_count": 15,
     "metadata": {},
     "output_type": "execute_result"
    }
   ],
   "source": [
    "model_dummy.intercept_"
   ],
   "metadata": {
    "collapsed": false,
    "pycharm": {
     "name": "#%%\n"
    }
   }
  },
  {
   "cell_type": "code",
   "execution_count": null,
   "outputs": [],
   "source": [
    "# 由上述两种编码做线性回归可以看出\n",
    "# one-hot编码时 截距是所有数据的均值 即当三种分类都不是的时候 就取均值\n",
    "# dummy编码时 截距是缺省维度的均值 即当不是另外两种的时候 就是剩下那种"
   ],
   "metadata": {
    "collapsed": false,
    "pycharm": {
     "name": "#%%\n"
    }
   }
  },
  {
   "cell_type": "markdown",
   "source": [
    "## one-hot编码 vs. dummy编码\n",
    "one-hot和dummy编码十分相似 但是都有各自的优缺点\n",
    "\n",
    "one-hot编码缺点是有冗余 这会使得同一个问题有多个有效模型\n",
    "\n",
    "优点是每个特征都有一个明确的分类对应 而不在分类表中的可以使用全0来表示\n",
    "\n",
    "dummy编码优点是没有冗余 可以生成唯一的可解释模型\n",
    "\n",
    "缺点是难以处理缺失数据 因为全0已经用来表示参照特征了\n",
    "\n",
    "在处理大型数据的时候 这两种编码都会过于稀疏而出现问题"
   ],
   "metadata": {
    "collapsed": false,
    "pycharm": {
     "name": "#%% md\n"
    }
   }
  },
  {
   "cell_type": "code",
   "source": [],
   "metadata": {
    "collapsed": false,
    "pycharm": {
     "name": "#%%\n"
    }
   },
   "execution_count": null,
   "outputs": []
  }
 ],
 "metadata": {
  "kernelspec": {
   "display_name": "Python 3",
   "language": "python",
   "name": "python3"
  },
  "language_info": {
   "codemirror_mode": {
    "name": "ipython",
    "version": 2
   },
   "file_extension": ".py",
   "mimetype": "text/x-python",
   "name": "python",
   "nbconvert_exporter": "python",
   "pygments_lexer": "ipython2",
   "version": "2.7.6"
  }
 },
 "nbformat": 4,
 "nbformat_minor": 0
}