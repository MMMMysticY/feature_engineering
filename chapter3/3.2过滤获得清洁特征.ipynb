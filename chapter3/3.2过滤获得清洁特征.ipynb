{
 "cells": [
  {
   "cell_type": "markdown",
   "source": [
    "## 停用词表\n",
    "在英语中 很多次没有意义和价值 如代词 冠词 介词等 on the about等等\n",
    "这些词不会对内容产生很大的影响 被称为停用词\n",
    "停用词列表是剔除无意义特征的单词的方法"
   ],
   "metadata": {
    "collapsed": false,
    "pycharm": {
     "name": "#%% md\n"
    }
   }
  },
  {
   "cell_type": "markdown",
   "source": [
    "## 高频词\n",
    "频率统计是一种强大的过滤技术 通过统计频率 可以过滤出常见单词 也可以过滤出停用词\n",
    "\n",
    "频率统计有助于将基于频率的过滤技术和停用词列表结合起来"
   ],
   "metadata": {
    "collapsed": false,
    "pycharm": {
     "name": "#%% md\n"
    }
   }
  },
  {
   "cell_type": "markdown",
   "source": [
    "## 罕见词\n",
    "对于有些任务而言 罕见词也是需要过滤的\n",
    "\n",
    "有些罕见词是真的生僻词 但是也有些是拼写错误 在大量预料中极少数出现的词一般而言就是罕见词\n",
    "罕见词不发作为预测的凭据，而且还会增加计算上的开销\n",
    "\n",
    "在yelp点评数据集中 有60%的词仅出现了一次或者两次 这是典型的重尾分布\n",
    "而在真实的语料中也是屡见不鲜 很多机器学习模型的训练时间随着特征数量(字典维度)增长很快\n",
    "所以罕见词带来了大量的计算和存储成本 但是收效甚微\n",
    "\n",
    "在基于频率的统计方法中，我们可以较为简单地处理罕见词 即将罕见词归类为一种garbage垃圾词"
   ],
   "metadata": {
    "collapsed": false,
    "pycharm": {
     "name": "#%% md\n"
    }
   }
  },
  {
   "cell_type": "markdown",
   "source": [
    "## 词干提取\n",
    "在英文的语言学中有词干的概念 如swimmer swimming swim的词干是swim\n",
    "词干提取能够将相同词干的词归类为同一种 就会更方便地处理\n",
    "但是词干提取也有计算成本 而且对于效果而言 不一定完全对 如new news"
   ],
   "metadata": {
    "collapsed": false,
    "pycharm": {
     "name": "#%% md\n"
    }
   }
  },
  {
   "cell_type": "markdown",
   "source": [
    "## 通过搭配提取进行短语检测\n",
    "通过n-gram可以得到n元词列表 但是人类更倾向于理解短语而非n元词\n",
    "在NLP中 短语的概念被称为搭配\n",
    "比如 Emma knocked on the door中 knock door就是一个搭配\n",
    "如何得到搭配很重要 如果使用n-gram的话 会得到太多无意义的序列如this is\n",
    "获得搭配的方法有：\n",
    "### 人工标注\n",
    "在特定的领域中 有很多专用词汇 使用人工标注的方法十分合理 但是工作量复杂庞大 还需要频繁更新\n",
    "\n",
    "### 基于频率的方法\n",
    "但是基于频率来获取搭配的话 得到的几乎全是没有意义的搭配 如of the/ and i 等等\n",
    "\n",
    "### 假设检验方法\n",
    "设立假设A:单词1与单词2无关 即看到单词1对于是否看到单词2没有影响\n",
    "其备选假设B:单词1与单词2有关 即看到单词1会改变看到单词2的可能\n",
    "进行假设检验的方法去做\n",
    "\n",
    "### 文本分块和词性标注\n",
    "如我们将词性为名词的单词找出(词性标注)然后检查临近词组 找出按磁性组合的词组 称之为块"
   ],
   "metadata": {
    "collapsed": false,
    "pycharm": {
     "name": "#%% md\n"
    }
   }
  },
  {
   "cell_type": "code",
   "execution_count": 1,
   "outputs": [],
   "source": [
    "# 词性标注与文本分块实战\n",
    "\n",
    "import pandas as pd\n",
    "import json"
   ],
   "metadata": {
    "collapsed": false,
    "pycharm": {
     "name": "#%%\n"
    }
   }
  },
  {
   "cell_type": "code",
   "execution_count": 2,
   "outputs": [],
   "source": [
    "dataset_root_path = 'feature_engineering/dataset/'"
   ],
   "metadata": {
    "collapsed": false,
    "pycharm": {
     "name": "#%%\n"
    }
   }
  },
  {
   "cell_type": "code",
   "execution_count": 3,
   "outputs": [],
   "source": [
    "f = open(dataset_root_path + 'yelp_dataset/yelp_academic_dataset_review.json')"
   ],
   "metadata": {
    "collapsed": false,
    "pycharm": {
     "name": "#%%\n"
    }
   }
  },
  {
   "cell_type": "code",
   "execution_count": 4,
   "outputs": [],
   "source": [
    "js = []\n",
    "\n",
    "for i in range(10):\n",
    "    js.append(json.loads(f.readline()))\n",
    "f.close()"
   ],
   "metadata": {
    "collapsed": false,
    "pycharm": {
     "name": "#%%\n"
    }
   }
  },
  {
   "cell_type": "code",
   "execution_count": 5,
   "outputs": [],
   "source": [
    "review_df = pd.DataFrame(js)"
   ],
   "metadata": {
    "collapsed": false,
    "pycharm": {
     "name": "#%%\n"
    }
   }
  },
  {
   "cell_type": "code",
   "execution_count": 6,
   "outputs": [
    {
     "data": {
      "text/plain": "                review_id                 user_id             business_id  \\\n0  lWC-xP3rd6obsecCYsGZRg  ak0TdVmGKo4pwqdJSTLwWw  buF9druCkbuXLX526sGELQ   \n1  8bFej1QE5LXp4O05qjGqXA  YoVfDbnISlW0f7abNQACIg  RA4V8pr014UyUbDvI-LW2A   \n2  NDhkzczKjLshODbqDoNLSg  eC5evKn1TWDyHCyQAwguUw  _sS2LBIGNT5NQb6PD1Vtjw   \n3  T5fAqjjFooT4V0OeZyuk1w  SFQ1jcnGguO0LYWnbbftAA  0AzLzHfOJgL7ROwhdww2ew   \n4  sjm_uUcQVxab_EeLCqsYLg  0kA0PAJ8QFMeveQWHFqz2A  8zehGz9jnxPqXtOc7KaJxA   \n5  J4a2TuhDasjn2k3wWtHZnQ  RNm_RWkcd02Li2mKPRe7Eg  xGXzsc-hzam-VArK6eTvtw   \n6  28gGfkLs3igtjVy61lh77Q  Q8c91v7luItVB0cMFF_mRA  EXOsmAB1s71WePlQk0WZrA   \n7  9vqwvFCBG3FBiHGmOHMmiA  XGkAG92TQ3MQUKGX9sLUhw  DbXHNl890xSXNiyRczLWAg   \n8  2l_TDrQ7p-5tANOyiOlkLQ  LWUnzwK0ILquLLZcHHE1Mw  mD-A9KOWADXvfrZfwDs-jw   \n9  KKVFopqzcVfcubIBxmIjVA  99RsBrARhhx60UnAC4yDoA  EEHhKSxUvJkoPSzeGKkpVg   \n\n   stars  useful  funny  cool  \\\n0    4.0       3      1     1   \n1    4.0       1      0     0   \n2    5.0       0      0     0   \n3    2.0       1      1     1   \n4    4.0       0      0     0   \n5    1.0       2      0     0   \n6    2.0       0      0     0   \n7    5.0       0      0     0   \n8    4.0       1      0     0   \n9    5.0       0      0     0   \n\n                                                text                 date  \n0  Apparently Prides Osteria had a rough summer a...  2014-10-11 03:34:02  \n1  This store is pretty good. Not as great as Wal...  2015-07-03 20:38:25  \n2  I called WVM on the recommendation of a couple...  2013-05-28 20:38:06  \n3  I've stayed at many Marriott and Renaissance M...  2010-01-08 02:29:15  \n4  The food is always great here. The service fro...  2011-07-28 18:05:01  \n5  This place used to be a cool, chill place. Now...  2018-01-21 04:41:03  \n6  The setting is perfectly adequate, and the foo...  2006-04-16 02:58:44  \n7  Probably one of the better breakfast sandwiche...  2017-12-02 18:16:13  \n8  I am definitely a fan of Sports Authority.  Th...  2012-05-28 15:00:47  \n9  I work in the Pru and this is the most afforda...  2014-05-07 18:10:21  ",
      "text/html": "<div>\n<style scoped>\n    .dataframe tbody tr th:only-of-type {\n        vertical-align: middle;\n    }\n\n    .dataframe tbody tr th {\n        vertical-align: top;\n    }\n\n    .dataframe thead th {\n        text-align: right;\n    }\n</style>\n<table border=\"1\" class=\"dataframe\">\n  <thead>\n    <tr style=\"text-align: right;\">\n      <th></th>\n      <th>review_id</th>\n      <th>user_id</th>\n      <th>business_id</th>\n      <th>stars</th>\n      <th>useful</th>\n      <th>funny</th>\n      <th>cool</th>\n      <th>text</th>\n      <th>date</th>\n    </tr>\n  </thead>\n  <tbody>\n    <tr>\n      <th>0</th>\n      <td>lWC-xP3rd6obsecCYsGZRg</td>\n      <td>ak0TdVmGKo4pwqdJSTLwWw</td>\n      <td>buF9druCkbuXLX526sGELQ</td>\n      <td>4.0</td>\n      <td>3</td>\n      <td>1</td>\n      <td>1</td>\n      <td>Apparently Prides Osteria had a rough summer a...</td>\n      <td>2014-10-11 03:34:02</td>\n    </tr>\n    <tr>\n      <th>1</th>\n      <td>8bFej1QE5LXp4O05qjGqXA</td>\n      <td>YoVfDbnISlW0f7abNQACIg</td>\n      <td>RA4V8pr014UyUbDvI-LW2A</td>\n      <td>4.0</td>\n      <td>1</td>\n      <td>0</td>\n      <td>0</td>\n      <td>This store is pretty good. Not as great as Wal...</td>\n      <td>2015-07-03 20:38:25</td>\n    </tr>\n    <tr>\n      <th>2</th>\n      <td>NDhkzczKjLshODbqDoNLSg</td>\n      <td>eC5evKn1TWDyHCyQAwguUw</td>\n      <td>_sS2LBIGNT5NQb6PD1Vtjw</td>\n      <td>5.0</td>\n      <td>0</td>\n      <td>0</td>\n      <td>0</td>\n      <td>I called WVM on the recommendation of a couple...</td>\n      <td>2013-05-28 20:38:06</td>\n    </tr>\n    <tr>\n      <th>3</th>\n      <td>T5fAqjjFooT4V0OeZyuk1w</td>\n      <td>SFQ1jcnGguO0LYWnbbftAA</td>\n      <td>0AzLzHfOJgL7ROwhdww2ew</td>\n      <td>2.0</td>\n      <td>1</td>\n      <td>1</td>\n      <td>1</td>\n      <td>I've stayed at many Marriott and Renaissance M...</td>\n      <td>2010-01-08 02:29:15</td>\n    </tr>\n    <tr>\n      <th>4</th>\n      <td>sjm_uUcQVxab_EeLCqsYLg</td>\n      <td>0kA0PAJ8QFMeveQWHFqz2A</td>\n      <td>8zehGz9jnxPqXtOc7KaJxA</td>\n      <td>4.0</td>\n      <td>0</td>\n      <td>0</td>\n      <td>0</td>\n      <td>The food is always great here. The service fro...</td>\n      <td>2011-07-28 18:05:01</td>\n    </tr>\n    <tr>\n      <th>5</th>\n      <td>J4a2TuhDasjn2k3wWtHZnQ</td>\n      <td>RNm_RWkcd02Li2mKPRe7Eg</td>\n      <td>xGXzsc-hzam-VArK6eTvtw</td>\n      <td>1.0</td>\n      <td>2</td>\n      <td>0</td>\n      <td>0</td>\n      <td>This place used to be a cool, chill place. Now...</td>\n      <td>2018-01-21 04:41:03</td>\n    </tr>\n    <tr>\n      <th>6</th>\n      <td>28gGfkLs3igtjVy61lh77Q</td>\n      <td>Q8c91v7luItVB0cMFF_mRA</td>\n      <td>EXOsmAB1s71WePlQk0WZrA</td>\n      <td>2.0</td>\n      <td>0</td>\n      <td>0</td>\n      <td>0</td>\n      <td>The setting is perfectly adequate, and the foo...</td>\n      <td>2006-04-16 02:58:44</td>\n    </tr>\n    <tr>\n      <th>7</th>\n      <td>9vqwvFCBG3FBiHGmOHMmiA</td>\n      <td>XGkAG92TQ3MQUKGX9sLUhw</td>\n      <td>DbXHNl890xSXNiyRczLWAg</td>\n      <td>5.0</td>\n      <td>0</td>\n      <td>0</td>\n      <td>0</td>\n      <td>Probably one of the better breakfast sandwiche...</td>\n      <td>2017-12-02 18:16:13</td>\n    </tr>\n    <tr>\n      <th>8</th>\n      <td>2l_TDrQ7p-5tANOyiOlkLQ</td>\n      <td>LWUnzwK0ILquLLZcHHE1Mw</td>\n      <td>mD-A9KOWADXvfrZfwDs-jw</td>\n      <td>4.0</td>\n      <td>1</td>\n      <td>0</td>\n      <td>0</td>\n      <td>I am definitely a fan of Sports Authority.  Th...</td>\n      <td>2012-05-28 15:00:47</td>\n    </tr>\n    <tr>\n      <th>9</th>\n      <td>KKVFopqzcVfcubIBxmIjVA</td>\n      <td>99RsBrARhhx60UnAC4yDoA</td>\n      <td>EEHhKSxUvJkoPSzeGKkpVg</td>\n      <td>5.0</td>\n      <td>0</td>\n      <td>0</td>\n      <td>0</td>\n      <td>I work in the Pru and this is the most afforda...</td>\n      <td>2014-05-07 18:10:21</td>\n    </tr>\n  </tbody>\n</table>\n</div>"
     },
     "execution_count": 6,
     "metadata": {},
     "output_type": "execute_result"
    }
   ],
   "source": [
    "review_df"
   ],
   "metadata": {
    "collapsed": false,
    "pycharm": {
     "name": "#%%\n"
    }
   }
  },
  {
   "cell_type": "code",
   "execution_count": 10,
   "outputs": [],
   "source": [
    "import spacy\n",
    "from spacy.lang.en import English"
   ],
   "metadata": {
    "collapsed": false,
    "pycharm": {
     "name": "#%%\n"
    }
   }
  },
  {
   "cell_type": "code",
   "execution_count": 11,
   "outputs": [],
   "source": [
    "nlp = English()\n",
    "# nlp = spacy.load(\"en\")"
   ],
   "metadata": {
    "collapsed": false,
    "pycharm": {
     "name": "#%%\n"
    }
   }
  },
  {
   "cell_type": "code",
   "execution_count": 12,
   "outputs": [
    {
     "data": {
      "text/plain": "0    (Apparently, Prides, Osteria, had, a, rough, s...\n1    (This, store, is, pretty, good, ., Not, as, gr...\n2    (I, called, WVM, on, the, recommendation, of, ...\n3    (I, 've, stayed, at, many, Marriott, and, Rena...\n4    (The, food, is, always, great, here, ., The, s...\n5    (This, place, used, to, be, a, cool, ,, chill,...\n6    (The, setting, is, perfectly, adequate, ,, and...\n7    (Probably, one, of, the, better, breakfast, sa...\n8    (I, am, definitely, a, fan, of, Sports, Author...\n9    (I, work, in, the, Pru, and, this, is, the, mo...\nName: text, dtype: object"
     },
     "execution_count": 12,
     "metadata": {},
     "output_type": "execute_result"
    }
   ],
   "source": [
    "doc_df = review_df['text'].apply(nlp)\n",
    "doc_df"
   ],
   "metadata": {
    "collapsed": false,
    "pycharm": {
     "name": "#%%\n"
    }
   }
  },
  {
   "cell_type": "code",
   "execution_count": 13,
   "outputs": [
    {
     "data": {
      "text/plain": "Apparently Prides Osteria had a rough summer as evidenced by the almost empty dining room at 6:30 on a Friday night. However new blood in the kitchen seems to have revitalized the food from other customers recent visits. Waitstaff was warm but unobtrusive. By 8 pm or so when we left the bar was full and the dining room was much more lively than it had been. Perhaps Beverly residents prefer a later seating. \n\nAfter reading the mixed reviews of late I was a little tentative over our choice but luckily there was nothing to worry about in the food department. We started with the fried dough, burrata and prosciutto which were all lovely. Then although they don't offer half portions of pasta we each ordered the entree size and split them. We chose the tagliatelle bolognese and a four cheese filled pasta in a creamy sauce with bacon, asparagus and grana frita. Both were very good. We split a secondi which was the special Berkshire pork secreto, which was described as a pork skirt steak with garlic potato purée and romanesco broccoli (incorrectly described as a romanesco sauce). Some tables received bread before the meal but for some reason we did not. \n\nManagement also seems capable for when the tenants in the apartment above began playing basketball she intervened and also comped the tables a dessert. We ordered the apple dumpling with gelato and it was also quite tasty. Portions are not huge which I particularly like because I prefer to order courses. If you are someone who orders just a meal you may leave hungry depending on you appetite. Dining room was mostly younger crowd while the bar was definitely the over 40 set. Would recommend that the naysayers return to see the improvement although I personally don't know the former glory to be able to compare. Easy access to downtown Salem without the crowds on this month of October."
     },
     "execution_count": 13,
     "metadata": {},
     "output_type": "execute_result"
    }
   ],
   "source": [
    "doc_df[0]"
   ],
   "metadata": {
    "collapsed": false,
    "pycharm": {
     "name": "#%%\n"
    }
   }
  },
  {
   "cell_type": "code",
   "execution_count": 14,
   "outputs": [
    {
     "name": "stdout",
     "output_type": "stream",
     "text": [
      "['The', '', '']\n",
      "['food', '', '']\n",
      "['is', '', '']\n",
      "['always', '', '']\n",
      "['great', '', '']\n",
      "['here', '', '']\n",
      "['.', '', '']\n",
      "['The', '', '']\n",
      "['service', '', '']\n",
      "['from', '', '']\n",
      "['both', '', '']\n",
      "['the', '', '']\n",
      "['manager', '', '']\n",
      "['as', '', '']\n",
      "['well', '', '']\n",
      "['as', '', '']\n",
      "['the', '', '']\n",
      "['staff', '', '']\n",
      "['is', '', '']\n",
      "['super', '', '']\n",
      "['.', '', '']\n",
      "['Only', '', '']\n",
      "['draw', '', '']\n",
      "['back', '', '']\n",
      "['of', '', '']\n",
      "['this', '', '']\n",
      "['restaurant', '', '']\n",
      "['is', '', '']\n",
      "['it', 'PRON', 'PRP']\n",
      "[\"'s\", '', '']\n",
      "['super', '', '']\n",
      "['loud', '', '']\n",
      "['.', '', '']\n",
      "['If', '', '']\n",
      "['you', '', '']\n",
      "['can', '', '']\n",
      "[',', '', '']\n",
      "['snag', '', '']\n",
      "['a', '', '']\n",
      "['patio', '', '']\n",
      "['table', '', '']\n",
      "['!', '', '']\n"
     ]
    }
   ],
   "source": [
    "for doc in doc_df[4]:\n",
    "    print([doc.text, doc.pos_, doc.tag_])"
   ],
   "metadata": {
    "collapsed": false,
    "pycharm": {
     "name": "#%%\n"
    }
   }
  },
  {
   "cell_type": "code",
   "execution_count": 15,
   "outputs": [],
   "source": [
    "from textblob import TextBlob"
   ],
   "metadata": {
    "collapsed": false,
    "pycharm": {
     "name": "#%%\n"
    }
   }
  },
  {
   "cell_type": "code",
   "execution_count": 16,
   "outputs": [],
   "source": [
    "blob_df = review_df['text'].apply(TextBlob)"
   ],
   "metadata": {
    "collapsed": false,
    "pycharm": {
     "name": "#%%\n"
    }
   }
  },
  {
   "cell_type": "code",
   "execution_count": 18,
   "outputs": [
    {
     "data": {
      "text/plain": "[('The', 'DT'),\n ('food', 'NN'),\n ('is', 'VBZ'),\n ('always', 'RB'),\n ('great', 'JJ'),\n ('here', 'RB'),\n ('The', 'DT'),\n ('service', 'NN'),\n ('from', 'IN'),\n ('both', 'CC'),\n ('the', 'DT'),\n ('manager', 'NN'),\n ('as', 'RB'),\n ('well', 'RB'),\n ('as', 'IN'),\n ('the', 'DT'),\n ('staff', 'NN'),\n ('is', 'VBZ'),\n ('super', 'JJ'),\n ('Only', 'RB'),\n ('draw', 'VBZ'),\n ('back', 'RB'),\n ('of', 'IN'),\n ('this', 'DT'),\n ('restaurant', 'NN'),\n ('is', 'VBZ'),\n ('it', 'PRP'),\n (\"'s\", 'VBZ'),\n ('super', 'JJ'),\n ('loud', 'NN'),\n ('If', 'IN'),\n ('you', 'PRP'),\n ('can', 'MD'),\n ('snag', 'VB'),\n ('a', 'DT'),\n ('patio', 'NN'),\n ('table', 'NN')]"
     },
     "execution_count": 18,
     "metadata": {},
     "output_type": "execute_result"
    }
   ],
   "source": [
    "blob_df[4].tags"
   ],
   "metadata": {
    "collapsed": false,
    "pycharm": {
     "name": "#%%\n"
    }
   }
  },
  {
   "cell_type": "markdown",
   "source": [
    "# 总结\n",
    "\n",
    "## 词袋法\n",
    "词袋法简单易懂 易于计算 对于分类和搜索十分有效\n",
    "但是单词还是太简单了 无法表述出文本中的某些信息\n",
    "我们需要求助于更长的序列\n",
    "## n元词袋\n",
    "n元词袋可以生成大量互不相同的n元词 增加了存储成本 需要更多计算能力\n",
    "对于同样数据的数据点 n元词袋使得特征空间维度暴涨 数据变得稀疏\n",
    "n越大 存储和计算程高本越高 数据也越稀疏\n",
    "因此不是n越大越好 通常只是用二元词和三元词\n",
    "## 过滤\n",
    "为了优化词袋的稀疏性和成本问题 可以使用过滤的方法 只保留那些有意义的短语\n",
    "这就是搭配的目标\n",
    "搭配可以形成文本中不连贯的标记序列 但是实际上找不连贯的短语计算成本过高 收效甚微\n",
    "所以搭配通常是从备选二元词表开始 用统计学方法进行过滤\n",
    "\n",
    "\n",
    "所有的方法都是为了将文本序列转化为技术集合 变为扁平化的特征向量"
   ],
   "metadata": {
    "collapsed": false,
    "pycharm": {
     "name": "#%% md\n"
    }
   }
  }
 ],
 "metadata": {
  "kernelspec": {
   "display_name": "Python 3",
   "language": "python",
   "name": "python3"
  },
  "language_info": {
   "codemirror_mode": {
    "name": "ipython",
    "version": 2
   },
   "file_extension": ".py",
   "mimetype": "text/x-python",
   "name": "python",
   "nbconvert_exporter": "python",
   "pygments_lexer": "ipython2",
   "version": "2.7.6"
  }
 },
 "nbformat": 4,
 "nbformat_minor": 0
}