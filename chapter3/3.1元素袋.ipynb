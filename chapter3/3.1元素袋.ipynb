{
 "cells": [
  {
   "cell_type": "code",
   "execution_count": 1,
   "metadata": {
    "collapsed": true
   },
   "outputs": [],
   "source": [
    "import json\n",
    "\n",
    "import pandas as pd\n",
    "from sklearn.feature_extraction.text import CountVectorizer\n",
    "\n",
    "import matplotlib.pyplot as plt\n",
    "import seaborn as sns"
   ]
  },
  {
   "cell_type": "code",
   "execution_count": 2,
   "outputs": [],
   "source": [
    "# 词袋 (bag-of-words)\n",
    "# 词袋是对单词的出现次数的统计列表\n",
    "# 词袋如果单单统计单词出现的个数，远远不能理解语义，not bad是positive的 但是如果分开看not 和 bad就是negative"
   ],
   "metadata": {
    "collapsed": false,
    "pycharm": {
     "name": "#%%\n"
    }
   }
  },
  {
   "cell_type": "code",
   "execution_count": 3,
   "outputs": [],
   "source": [
    "# n元词袋 n-gram\n",
    "# n元词袋可以用n个词来进行表示，如二元词袋 \"knocked on\" \"on the \" \"the door\" 在一个句子中 n-gram是允许单词重复的 找到合适的组合即可"
   ],
   "metadata": {
    "collapsed": false,
    "pycharm": {
     "name": "#%%\n"
    }
   }
  },
  {
   "cell_type": "code",
   "execution_count": 4,
   "outputs": [],
   "source": [
    "# n-gram会比单词多得多，n-gram需要很强的计算，存储和建模能力， n越大表示的信息越丰富；同时计算量会骤增"
   ],
   "metadata": {
    "collapsed": false,
    "pycharm": {
     "name": "#%%\n"
    }
   }
  },
  {
   "cell_type": "code",
   "execution_count": 5,
   "outputs": [],
   "source": [
    "dataset_root_path = 'feature_engineering/dataset/'"
   ],
   "metadata": {
    "collapsed": false,
    "pycharm": {
     "name": "#%%\n"
    }
   }
  },
  {
   "cell_type": "code",
   "execution_count": 6,
   "outputs": [],
   "source": [
    "f = open(dataset_root_path + 'yelp_dataset/yelp_academic_dataset_review.json')\n",
    "js = []\n",
    "for i in range(10000):\n",
    "    js.append(json.loads(f.readline()))\n",
    "f.close()\n",
    "review_df = pd.DataFrame(js)"
   ],
   "metadata": {
    "collapsed": false,
    "pycharm": {
     "name": "#%%\n"
    }
   }
  },
  {
   "cell_type": "code",
   "execution_count": 7,
   "outputs": [
    {
     "data": {
      "text/plain": "                review_id                 user_id             business_id  \\\n0  lWC-xP3rd6obsecCYsGZRg  ak0TdVmGKo4pwqdJSTLwWw  buF9druCkbuXLX526sGELQ   \n1  8bFej1QE5LXp4O05qjGqXA  YoVfDbnISlW0f7abNQACIg  RA4V8pr014UyUbDvI-LW2A   \n2  NDhkzczKjLshODbqDoNLSg  eC5evKn1TWDyHCyQAwguUw  _sS2LBIGNT5NQb6PD1Vtjw   \n3  T5fAqjjFooT4V0OeZyuk1w  SFQ1jcnGguO0LYWnbbftAA  0AzLzHfOJgL7ROwhdww2ew   \n4  sjm_uUcQVxab_EeLCqsYLg  0kA0PAJ8QFMeveQWHFqz2A  8zehGz9jnxPqXtOc7KaJxA   \n\n   stars  useful  funny  cool  \\\n0    4.0       3      1     1   \n1    4.0       1      0     0   \n2    5.0       0      0     0   \n3    2.0       1      1     1   \n4    4.0       0      0     0   \n\n                                                text                 date  \n0  Apparently Prides Osteria had a rough summer a...  2014-10-11 03:34:02  \n1  This store is pretty good. Not as great as Wal...  2015-07-03 20:38:25  \n2  I called WVM on the recommendation of a couple...  2013-05-28 20:38:06  \n3  I've stayed at many Marriott and Renaissance M...  2010-01-08 02:29:15  \n4  The food is always great here. The service fro...  2011-07-28 18:05:01  ",
      "text/html": "<div>\n<style scoped>\n    .dataframe tbody tr th:only-of-type {\n        vertical-align: middle;\n    }\n\n    .dataframe tbody tr th {\n        vertical-align: top;\n    }\n\n    .dataframe thead th {\n        text-align: right;\n    }\n</style>\n<table border=\"1\" class=\"dataframe\">\n  <thead>\n    <tr style=\"text-align: right;\">\n      <th></th>\n      <th>review_id</th>\n      <th>user_id</th>\n      <th>business_id</th>\n      <th>stars</th>\n      <th>useful</th>\n      <th>funny</th>\n      <th>cool</th>\n      <th>text</th>\n      <th>date</th>\n    </tr>\n  </thead>\n  <tbody>\n    <tr>\n      <th>0</th>\n      <td>lWC-xP3rd6obsecCYsGZRg</td>\n      <td>ak0TdVmGKo4pwqdJSTLwWw</td>\n      <td>buF9druCkbuXLX526sGELQ</td>\n      <td>4.0</td>\n      <td>3</td>\n      <td>1</td>\n      <td>1</td>\n      <td>Apparently Prides Osteria had a rough summer a...</td>\n      <td>2014-10-11 03:34:02</td>\n    </tr>\n    <tr>\n      <th>1</th>\n      <td>8bFej1QE5LXp4O05qjGqXA</td>\n      <td>YoVfDbnISlW0f7abNQACIg</td>\n      <td>RA4V8pr014UyUbDvI-LW2A</td>\n      <td>4.0</td>\n      <td>1</td>\n      <td>0</td>\n      <td>0</td>\n      <td>This store is pretty good. Not as great as Wal...</td>\n      <td>2015-07-03 20:38:25</td>\n    </tr>\n    <tr>\n      <th>2</th>\n      <td>NDhkzczKjLshODbqDoNLSg</td>\n      <td>eC5evKn1TWDyHCyQAwguUw</td>\n      <td>_sS2LBIGNT5NQb6PD1Vtjw</td>\n      <td>5.0</td>\n      <td>0</td>\n      <td>0</td>\n      <td>0</td>\n      <td>I called WVM on the recommendation of a couple...</td>\n      <td>2013-05-28 20:38:06</td>\n    </tr>\n    <tr>\n      <th>3</th>\n      <td>T5fAqjjFooT4V0OeZyuk1w</td>\n      <td>SFQ1jcnGguO0LYWnbbftAA</td>\n      <td>0AzLzHfOJgL7ROwhdww2ew</td>\n      <td>2.0</td>\n      <td>1</td>\n      <td>1</td>\n      <td>1</td>\n      <td>I've stayed at many Marriott and Renaissance M...</td>\n      <td>2010-01-08 02:29:15</td>\n    </tr>\n    <tr>\n      <th>4</th>\n      <td>sjm_uUcQVxab_EeLCqsYLg</td>\n      <td>0kA0PAJ8QFMeveQWHFqz2A</td>\n      <td>8zehGz9jnxPqXtOc7KaJxA</td>\n      <td>4.0</td>\n      <td>0</td>\n      <td>0</td>\n      <td>0</td>\n      <td>The food is always great here. The service fro...</td>\n      <td>2011-07-28 18:05:01</td>\n    </tr>\n  </tbody>\n</table>\n</div>"
     },
     "execution_count": 7,
     "metadata": {},
     "output_type": "execute_result"
    }
   ],
   "source": [
    "review_df.head()"
   ],
   "metadata": {
    "collapsed": false,
    "pycharm": {
     "name": "#%%\n"
    }
   }
  },
  {
   "cell_type": "code",
   "execution_count": 8,
   "outputs": [
    {
     "data": {
      "text/plain": "0    Apparently Prides Osteria had a rough summer a...\n1    This store is pretty good. Not as great as Wal...\n2    I called WVM on the recommendation of a couple...\n3    I've stayed at many Marriott and Renaissance M...\n4    The food is always great here. The service fro...\nName: text, dtype: object"
     },
     "execution_count": 8,
     "metadata": {},
     "output_type": "execute_result"
    }
   ],
   "source": [
    "review_df['text'][0:5]"
   ],
   "metadata": {
    "collapsed": false,
    "pycharm": {
     "name": "#%%\n"
    }
   }
  },
  {
   "cell_type": "code",
   "execution_count": 9,
   "outputs": [],
   "source": [
    "# 创建1-gram转换器\n",
    "bow_converter = CountVectorizer(token_pattern='(?u)\\\\b\\\\w+\\\\b')"
   ],
   "metadata": {
    "collapsed": false,
    "pycharm": {
     "name": "#%%\n"
    }
   }
  },
  {
   "cell_type": "code",
   "execution_count": 10,
   "outputs": [
    {
     "data": {
      "text/plain": "CountVectorizer(token_pattern='(?u)\\\\b\\\\w+\\\\b')"
     },
     "execution_count": 10,
     "metadata": {},
     "output_type": "execute_result"
    }
   ],
   "source": [
    "# 1-gram转换文本数据\n",
    "bow_converter.fit(review_df['text'])"
   ],
   "metadata": {
    "collapsed": false,
    "pycharm": {
     "name": "#%%\n"
    }
   }
  },
  {
   "cell_type": "code",
   "execution_count": 11,
   "outputs": [],
   "source": [
    "# 获取词汇表\n",
    "words = bow_converter.get_feature_names()"
   ],
   "metadata": {
    "collapsed": false,
    "pycharm": {
     "name": "#%%\n"
    }
   }
  },
  {
   "cell_type": "code",
   "execution_count": 12,
   "outputs": [
    {
     "data": {
      "text/plain": "26558"
     },
     "execution_count": 12,
     "metadata": {},
     "output_type": "execute_result"
    }
   ],
   "source": [
    "len(words)"
   ],
   "metadata": {
    "collapsed": false,
    "pycharm": {
     "name": "#%%\n"
    }
   }
  },
  {
   "cell_type": "code",
   "execution_count": 13,
   "outputs": [
    {
     "data": {
      "text/plain": "['gastroentestinal',\n 'gastromania',\n 'gastromolecular',\n 'gastronomic',\n 'gastronomy']"
     },
     "execution_count": 13,
     "metadata": {},
     "output_type": "execute_result"
    }
   ],
   "source": [
    "words[10000:10005]"
   ],
   "metadata": {
    "collapsed": false,
    "pycharm": {
     "name": "#%%\n"
    }
   }
  },
  {
   "cell_type": "code",
   "execution_count": 14,
   "outputs": [],
   "source": [
    "bigram_converter = CountVectorizer(ngram_range=(2,2),token_pattern='(?u)\\\\b\\\\w+\\\\b')\n",
    "bigram_converter.fit(review_df['text'])\n",
    "bigram = bigram_converter.get_feature_names()"
   ],
   "metadata": {
    "collapsed": false,
    "pycharm": {
     "name": "#%%\n"
    }
   }
  },
  {
   "cell_type": "code",
   "execution_count": 15,
   "outputs": [
    {
     "data": {
      "text/plain": "314991"
     },
     "execution_count": 15,
     "metadata": {},
     "output_type": "execute_result"
    }
   ],
   "source": [
    "len(bigram)"
   ],
   "metadata": {
    "collapsed": false,
    "pycharm": {
     "name": "#%%\n"
    }
   }
  },
  {
   "cell_type": "code",
   "execution_count": 16,
   "outputs": [
    {
     "data": {
      "text/plain": "['above that', 'above the', 'above typical', 'above us', 'above wasted']"
     },
     "execution_count": 16,
     "metadata": {},
     "output_type": "execute_result"
    }
   ],
   "source": [
    "# 两个词的短语\n",
    "bigram[10000:10005]"
   ],
   "metadata": {
    "collapsed": false,
    "pycharm": {
     "name": "#%%\n"
    }
   }
  },
  {
   "cell_type": "code",
   "execution_count": 17,
   "outputs": [],
   "source": [
    "trigram_converter = CountVectorizer(ngram_range=(3,3), token_pattern='(?u)\\\\b\\\\w+\\\\b')\n",
    "trigram_converter.fit(review_df['text'])\n",
    "trigram = trigram_converter.get_feature_names()"
   ],
   "metadata": {
    "collapsed": false,
    "pycharm": {
     "name": "#%%\n"
    }
   }
  },
  {
   "cell_type": "code",
   "execution_count": 18,
   "outputs": [
    {
     "data": {
      "text/plain": "734771"
     },
     "execution_count": 18,
     "metadata": {},
     "output_type": "execute_result"
    }
   ],
   "source": [
    "len(trigram)"
   ],
   "metadata": {
    "collapsed": false,
    "pycharm": {
     "name": "#%%\n"
    }
   }
  },
  {
   "cell_type": "code",
   "execution_count": 19,
   "outputs": [
    {
     "data": {
      "text/plain": "['become interested in',\n 'become jaded the',\n 'become just that',\n 'become lost a',\n 'become more dim']"
     },
     "execution_count": 19,
     "metadata": {},
     "output_type": "execute_result"
    }
   ],
   "source": [
    "# 三个词的词袋\n",
    "trigram[100000:100005]"
   ],
   "metadata": {
    "collapsed": false,
    "pycharm": {
     "name": "#%%\n"
    }
   }
  },
  {
   "cell_type": "code",
   "execution_count": 20,
   "outputs": [
    {
     "data": {
      "text/plain": "Text(0.5, 1.0, 'Number of ngrams in the first 10,000 reviews of the Yelp dataset')"
     },
     "execution_count": 20,
     "metadata": {},
     "output_type": "execute_result"
    },
    {
     "data": {
      "text/plain": "<Figure size 432x288 with 1 Axes>",
      "image/png": "[encoded data removed]"
     },
     "metadata": {},
     "output_type": "display_data"
    }
   ],
   "source": [
    "sns.set_style('whitegrid')                  # sns设定白色网格风格\n",
    "fig,ax = plt.subplots()                     # subplots默认一个子图\n",
    "gram_count = [len(words), len(bigram), len(trigram)]\n",
    "plt.plot(gram_count,color='cornflowerblue')\n",
    "plt.xticks(range(3), ['unigram','bigram','trigram'])\n",
    "plt.tick_params(labelsize = 14)\n",
    "plt.title('Number of ngrams in the first 10,000 reviews of the Yelp dataset', {'fontsize' : 16})"
   ],
   "metadata": {
    "collapsed": false,
    "pycharm": {
     "name": "#%%\n"
    }
   }
  },
  {
   "cell_type": "code",
   "execution_count": null,
   "outputs": [],
   "source": [
    "# 词袋是在NLP中一种简单有效的启发式方法 但是和正确的语义还相差甚远"
   ],
   "metadata": {
    "collapsed": false,
    "pycharm": {
     "name": "#%%\n"
    }
   }
  }
 ],
 "metadata": {
  "kernelspec": {
   "display_name": "Python 3",
   "language": "python",
   "name": "python3"
  },
  "language_info": {
   "codemirror_mode": {
    "name": "ipython",
    "version": 2
   },
   "file_extension": ".py",
   "mimetype": "text/x-python",
   "name": "python",
   "nbconvert_exporter": "python",
   "pygments_lexer": "ipython2",
   "version": "2.7.6"
  }
 },
 "nbformat": 4,
 "nbformat_minor": 0
}