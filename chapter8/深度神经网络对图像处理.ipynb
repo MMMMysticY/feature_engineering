{
 "cells": [
  {
   "cell_type": "markdown",
   "metadata": {
    "collapsed": true,
    "pycharm": {
     "name": "#%% md\n"
    }
   },
   "source": [
    "# AlexNet分析\n",
    "## 全连接层\n",
    "全连接层每个输入节点都连接到输出节点\n",
    "\n",
    "这样的模式可以让网络探测包含所有输入的全局模式\n",
    "\n",
    "AlexNet最后两层是全连接层\n",
    "\n",
    "## 卷积层\n",
    "卷积层仅使用图像的一小部分产生输出 转换过程在输入中移动 每次使用若干特征生成输出\n",
    "\n",
    "转换过程在输入中“移动” 每次使用若干特征生成输出 对不同的输入使用同样的权重 不为每个输入重新学习\n",
    "\n",
    "对一个图像应用卷积滤波器时 一般定义很小的即可 因为其会移动\n",
    "\n",
    "AlexNet的卷积层是三维的 也就是说它们处理的是来自于前一层的三位像素\n",
    "第一个卷积网络接收原始的RGB三通道进行学习 随后两层接受三维像素\n",
    "\n",
    "## ReLu变换\n",
    "神经网络的输出通常被传递到另一种非线性变换中 非线性变换被称为激活函数\n",
    "\n",
    "常用的有tanh sigmoid relu\n",
    "\n",
    "ReLu比较简单 max(0,x)负数归零 正数不变\n",
    "\n",
    "不论全连接还是卷积都有可能有负值 AlexNet使用relu加快了收敛速度\n",
    "\n",
    "## 响应归一化层\n",
    "归一化的另一种理解方式是与邻居之间建立了直接的竞争关系 因为每个输出的强度需要综合所有邻居共同考虑\n",
    "\n",
    "AlexNet在不同核的每个位置对输出进行归一化\n",
    "\n",
    "## 池化层\n",
    "池化层将多个输出组合成一个输出 当卷积滤波器移动时 每个邻域都有一个输出\n",
    "\n",
    "池化层强制将局部邻域生成一个值 减少中间层的输出数量 有效降低过拟合的概率\n",
    "\n",
    "AlexNet使用最大池化"
   ]
  },
  {
   "cell_type": "code",
   "execution_count": 1,
   "outputs": [],
   "source": [
    "import torch\n",
    "import torchvision"
   ],
   "metadata": {
    "collapsed": false,
    "pycharm": {
     "name": "#%%\n"
    }
   }
  },
  {
   "cell_type": "code",
   "execution_count": 2,
   "outputs": [
    {
     "data": {
      "text/plain": "AlexNet(\n  (features): Sequential(\n    (0): Conv2d(3, 64, kernel_size=(11, 11), stride=(4, 4), padding=(2, 2))\n    (1): ReLU(inplace=True)\n    (2): MaxPool2d(kernel_size=3, stride=2, padding=0, dilation=1, ceil_mode=False)\n    (3): Conv2d(64, 192, kernel_size=(5, 5), stride=(1, 1), padding=(2, 2))\n    (4): ReLU(inplace=True)\n    (5): MaxPool2d(kernel_size=3, stride=2, padding=0, dilation=1, ceil_mode=False)\n    (6): Conv2d(192, 384, kernel_size=(3, 3), stride=(1, 1), padding=(1, 1))\n    (7): ReLU(inplace=True)\n    (8): Conv2d(384, 256, kernel_size=(3, 3), stride=(1, 1), padding=(1, 1))\n    (9): ReLU(inplace=True)\n    (10): Conv2d(256, 256, kernel_size=(3, 3), stride=(1, 1), padding=(1, 1))\n    (11): ReLU(inplace=True)\n    (12): MaxPool2d(kernel_size=3, stride=2, padding=0, dilation=1, ceil_mode=False)\n  )\n  (avgpool): AdaptiveAvgPool2d(output_size=(6, 6))\n  (classifier): Sequential(\n    (0): Dropout(p=0.5, inplace=False)\n    (1): Linear(in_features=9216, out_features=4096, bias=True)\n    (2): ReLU(inplace=True)\n    (3): Dropout(p=0.5, inplace=False)\n    (4): Linear(in_features=4096, out_features=4096, bias=True)\n    (5): ReLU(inplace=True)\n    (6): Linear(in_features=4096, out_features=1000, bias=True)\n  )\n)"
     },
     "execution_count": 2,
     "metadata": {},
     "output_type": "execute_result"
    }
   ],
   "source": [
    "model = torchvision.models.AlexNet()\n",
    "model"
   ],
   "metadata": {
    "collapsed": false,
    "pycharm": {
     "name": "#%%\n"
    }
   }
  }
 ],
 "metadata": {
  "kernelspec": {
   "display_name": "Python 3",
   "language": "python",
   "name": "python3"
  },
  "language_info": {
   "codemirror_mode": {
    "name": "ipython",
    "version": 2
   },
   "file_extension": ".py",
   "mimetype": "text/x-python",
   "name": "python",
   "nbconvert_exporter": "python",
   "pygments_lexer": "ipython2",
   "version": "2.7.6"
  }
 },
 "nbformat": 4,
 "nbformat_minor": 0
}